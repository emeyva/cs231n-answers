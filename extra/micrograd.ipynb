{
 "cells": [
  {
   "cell_type": "markdown",
   "metadata": {},
   "source": [
    "# A simple nb to learn about backpropagation on neural nets\n",
    "\n",
    "reference: **Andrej Karpathy** - The spelled-out intro to neural networks and backpropagation: building micrograd\n",
    "\n",
    "video: https://www.youtube.com/watch?v=VMj-3S1tku0&t=4943s\n",
    "\n",
    "github **micrograd**: https://github.com/karpathy/micrograd"
   ]
  },
  {
   "cell_type": "markdown",
   "metadata": {},
   "source": [
    "### Starting with a simple view of derivatives"
   ]
  },
  {
   "cell_type": "code",
   "execution_count": 147,
   "metadata": {},
   "outputs": [],
   "source": [
    "import math\n",
    "import numpy as np\n",
    "import matplotlib.pyplot as plt\n",
    "%matplotlib inline"
   ]
  },
  {
   "cell_type": "code",
   "execution_count": 148,
   "metadata": {},
   "outputs": [],
   "source": [
    "def f(x):\n",
    "    return 3*x**2 - 4*x +5"
   ]
  },
  {
   "cell_type": "code",
   "execution_count": 149,
   "metadata": {},
   "outputs": [
    {
     "data": {
      "text/plain": [
       "20.0"
      ]
     },
     "execution_count": 149,
     "metadata": {},
     "output_type": "execute_result"
    }
   ],
   "source": [
    "f(3.0)"
   ]
  },
  {
   "cell_type": "code",
   "execution_count": 150,
   "metadata": {},
   "outputs": [
    {
     "data": {
      "text/plain": [
       "[<matplotlib.lines.Line2D at 0x2236cd84b50>]"
      ]
     },
     "execution_count": 150,
     "metadata": {},
     "output_type": "execute_result"
    },
    {
     "data": {
      "image/png": "[encoded data removed]",
      "text/plain": [
       "<Figure size 640x480 with 1 Axes>"
      ]
     },
     "metadata": {},
     "output_type": "display_data"
    }
   ],
   "source": [
    "xs = np.arange(-5, 5, 0.25)\n",
    "ys = f(xs)\n",
    "plt.plot(xs, ys)"
   ]
  },
  {
   "cell_type": "code",
   "execution_count": 151,
   "metadata": {},
   "outputs": [
    {
     "data": {
      "text/plain": [
       "2.9753977059954195e-07"
      ]
     },
     "execution_count": 151,
     "metadata": {},
     "output_type": "execute_result"
    }
   ],
   "source": [
    "h = 0.0000001\n",
    "x = 2/3\n",
    "(f(x + h) - f(x))/h"
   ]
  },
  {
   "cell_type": "code",
   "execution_count": 152,
   "metadata": {},
   "outputs": [
    {
     "name": "stdout",
     "output_type": "stream",
     "text": [
      "4.0\n"
     ]
    }
   ],
   "source": [
    "# a bit more complex\n",
    "\n",
    "a = 2.0\n",
    "b = -3.0\n",
    "c = 10.0\n",
    "d = a*b + c\n",
    "print(d)"
   ]
  },
  {
   "cell_type": "code",
   "execution_count": 153,
   "metadata": {},
   "outputs": [
    {
     "name": "stdout",
     "output_type": "stream",
     "text": [
      "d1 4.0\n",
      "d2 3.999699999999999\n",
      "slope -3.000000000010772\n",
      "slope 2 2.0000000000042206\n"
     ]
    }
   ],
   "source": [
    "h = 0.0001\n",
    "\n",
    "# inputs\n",
    "a = 2.0\n",
    "b = -3.0\n",
    "c = 10.0\n",
    "\n",
    "d1 = a*b + c\n",
    "a += h\n",
    "d2 = a*b +c\n",
    "\n",
    "print('d1', d1)\n",
    "print('d2', d2)\n",
    "\n",
    "# get slope\n",
    "print('slope', (d2-d1)/h)\n",
    "\n",
    "# changing b\n",
    "a -= h\n",
    "b += h\n",
    "d2 = a*b +c\n",
    "\n",
    "# get slope\n",
    "print('slope 2', (d2-d1)/h)"
   ]
  },
  {
   "cell_type": "markdown",
   "metadata": {},
   "source": [
    "### Start with classes representing a scalar"
   ]
  },
  {
   "cell_type": "code",
   "execution_count": 188,
   "metadata": {},
   "outputs": [
    {
     "data": {
      "text/plain": [
       "Value(data=4.0)"
      ]
     },
     "execution_count": 188,
     "metadata": {},
     "output_type": "execute_result"
    }
   ],
   "source": [
    "class Value:\n",
    "    def __init__(self, data, _children=(), _op='', label=''):\n",
    "        self.data = data\n",
    "        self.grad = 0.0\n",
    "        self._backward = lambda: None\n",
    "        self._prev = set(_children)\n",
    "        self._op = _op\n",
    "        self.label = label\n",
    "\n",
    "    def __repr__(self):\n",
    "        return f\"Value(data={self.data})\"\n",
    "    \n",
    "    def __add__(self, other):\n",
    "        other = other if isinstance(other, Value) else  Value(other)\n",
    "        out = Value(self.data + other.data, (self, other), '+')\n",
    "        def _backward():\n",
    "            self.grad += 1.0 * out.grad\n",
    "            other.grad += 1.0 * out.grad\n",
    "        out._backward = _backward\n",
    "        return out\n",
    "    \n",
    "    def __mul__(self, other):\n",
    "        other = other if isinstance(other, Value) else  Value(other)\n",
    "        out = Value(self.data * other.data, (self, other), '*')\n",
    "        def _backward():\n",
    "            self.grad += other.data * out.grad\n",
    "            other.grad += self.data * out.grad\n",
    "        out._backward = _backward\n",
    "        return out\n",
    "    \n",
    "    def __pow__(self, other):\n",
    "        assert isinstance(other, (int, float)), 'only int and float powers'\n",
    "        out = Value(self.data**other, (self,), f'**{other}')\n",
    "\n",
    "        def _backward():\n",
    "            self.grad += (other * self.data ** (other - 1)) * out.grad\n",
    "        out._backward = _backward\n",
    "        return out\n",
    "    \n",
    "    def __rmul__(self, other):\n",
    "        return self * other\n",
    "    \n",
    "    def __truediv__(self, other):\n",
    "        return self * other**-1\n",
    "    \n",
    "    def __neg__(self):\n",
    "        return self * -1\n",
    "    \n",
    "    def __sub__(self, other):\n",
    "        return self + (-other)\n",
    "    \n",
    "    def tanh(self):\n",
    "        x = self.data\n",
    "        t = (math.exp(2*x) - 1)/(math.exp(2*x) + 1)\n",
    "        out = Value(t, (self, ), 'tanh')\n",
    "        def _backward():\n",
    "            self.grad += (1 - t**2) * out.grad\n",
    "        out._backward = _backward\n",
    "        return out\n",
    "    \n",
    "    def exp(self):\n",
    "        x = self.data\n",
    "        out = Value(math.exp(x), (self, ), 'exp')\n",
    "\n",
    "        def _backward():\n",
    "            self.grad += out.data * out.grad\n",
    "        out._backward = _backward\n",
    "        return out\n",
    "    \n",
    "    def backward(self):\n",
    "        # topological order all of the children in the graph\n",
    "        topo = []\n",
    "        visited = set()\n",
    "        def build_topo(v):\n",
    "            if v not in visited:\n",
    "                visited.add(v)\n",
    "                for child in v._prev:\n",
    "                    build_topo(child)\n",
    "                topo.append(v)\n",
    "        build_topo(self)\n",
    "\n",
    "        # go one variable at a time and apply the chain rule to get its gradient\n",
    "        self.grad = 1\n",
    "        for v in reversed(topo):\n",
    "            v._backward()\n",
    "\n",
    "    def __radd__(self, other): # other + self\n",
    "        return self + other\n",
    "\n",
    "    def __rsub__(self, other): # other - self\n",
    "        return other + (-self)\n",
    "\n",
    "    def __rtruediv__(self, other): # other / self\n",
    "        return other * self**-1\n",
    "\n",
    "\n",
    "\n",
    "a = Value(2.0, label='a')\n",
    "b = Value(-3.0, label='b')\n",
    "c = Value(10.0, label='c')\n",
    "\n",
    "e = a*b; e.label = 'e'\n",
    "d = e + c; d.label = 'd'\n",
    "f = Value(2.0, label='f')\n",
    "L = d + f; L.label = 'L'\n",
    "\n",
    "d"
   ]
  },
  {
   "cell_type": "markdown",
   "metadata": {},
   "source": [
    "\n",
    "### Adding visualization\n",
    "\n",
    "For extra info check: https://graphviz.readthedocs.io/en/stable/manual.html"
   ]
  },
  {
   "cell_type": "code",
   "execution_count": 155,
   "metadata": {},
   "outputs": [],
   "source": [
    "from graphviz import Digraph\n",
    "\n",
    "def trace(root):\n",
    "    nodes, edges = set(), set()\n",
    "    def build(v):\n",
    "        if v not in nodes:\n",
    "            nodes.add(v)\n",
    "            for child in v._prev:\n",
    "                edges.add((child, v))\n",
    "                build(child)\n",
    "    build(root)\n",
    "    return nodes, edges\n",
    "\n",
    "def draw_dot(root, format='svg', rankdir='LR'):\n",
    "    \"\"\"\n",
    "    format: png | svg | ...\n",
    "    rankdir: TB (top to bottom graph) | LR (left to right)\n",
    "    \"\"\"\n",
    "    assert rankdir in ['LR', 'TB']\n",
    "    nodes, edges = trace(root)\n",
    "    dot = Digraph(format=format, graph_attr={'rankdir': rankdir}) #, node_attr={'rankdir': 'TB'})\n",
    "    \n",
    "    for n in nodes:\n",
    "        dot.node(name=str(id(n)), label = \"{ %s | data %.4f | grad %.4f }\" % (n.label, n.data, n.grad), shape='record')\n",
    "        if n._op:\n",
    "            dot.node(name=str(id(n)) + n._op, label=n._op)\n",
    "            dot.edge(str(id(n)) + n._op, str(id(n)))\n",
    "    \n",
    "    for n1, n2 in edges:\n",
    "        dot.edge(str(id(n1)), str(id(n2)) + n2._op)\n",
    "    \n",
    "    return dot"
   ]
  },
  {
   "cell_type": "code",
   "execution_count": 156,
   "metadata": {},
   "outputs": [
    {
     "data": {
      "image/svg+xml": [
       "<?xml version=\"1.0\" encoding=\"UTF-8\" standalone=\"no\"?>\n",
       "<!DOCTYPE svg PUBLIC \"-//W3C//DTD SVG 1.1//EN\"\n",
       " \"http://www.w3.org/Graphics/SVG/1.1/DTD/svg11.dtd\">\n",
       "<!-- Generated by graphviz version 2.50.0 (0)\n",
       " -->\n",
       "<!-- Pages: 1 -->\n",
       "<svg width=\"1140pt\" height=\"156pt\"\n",
       " viewBox=\"0.00 0.00 1140.00 156.00\" xmlns=\"http://www.w3.org/2000/svg\" xmlns:xlink=\"http://www.w3.org/1999/xlink\">\n",
       "<g id=\"graph0\" class=\"graph\" transform=\"scale(1 1) rotate(0) translate(4 152)\">\n",
       "<polygon fill=\"white\" stroke=\"transparent\" points=\"-4,4 -4,-152 1136,-152 1136,4 -4,4\"/>\n",
       "<!-- 2351175254560 -->\n",
       "<g id=\"node1\" class=\"node\">\n",
       "<title>2351175254560</title>\n",
       "<polygon fill=\"none\" stroke=\"black\" points=\"0,-111.5 0,-147.5 190,-147.5 190,-111.5 0,-111.5\"/>\n",
       "<text text-anchor=\"middle\" x=\"11.5\" y=\"-125.8\" font-family=\"Times New Roman,serif\" font-size=\"14.00\">b</text>\n",
       "<polyline fill=\"none\" stroke=\"black\" points=\"23,-111.5 23,-147.5 \"/>\n",
       "<text text-anchor=\"middle\" x=\"65.5\" y=\"-125.8\" font-family=\"Times New Roman,serif\" font-size=\"14.00\">data &#45;3.0000</text>\n",
       "<polyline fill=\"none\" stroke=\"black\" points=\"108,-111.5 108,-147.5 \"/>\n",
       "<text text-anchor=\"middle\" x=\"149\" y=\"-125.8\" font-family=\"Times New Roman,serif\" font-size=\"14.00\">grad 0.0000</text>\n",
       "</g>\n",
       "<!-- 2351175288480* -->\n",
       "<g id=\"node4\" class=\"node\">\n",
       "<title>2351175288480*</title>\n",
       "<ellipse fill=\"none\" stroke=\"black\" cx=\"253\" cy=\"-101.5\" rx=\"27\" ry=\"18\"/>\n",
       "<text text-anchor=\"middle\" x=\"253\" y=\"-97.8\" font-family=\"Times New Roman,serif\" font-size=\"14.00\">*</text>\n",
       "</g>\n",
       "<!-- 2351175254560&#45;&gt;2351175288480* -->\n",
       "<g id=\"edge6\" class=\"edge\">\n",
       "<title>2351175254560&#45;&gt;2351175288480*</title>\n",
       "<path fill=\"none\" stroke=\"black\" d=\"M190.34,-112.57C199.62,-110.9 208.58,-109.29 216.66,-107.84\"/>\n",
       "<polygon fill=\"black\" stroke=\"black\" points=\"217.49,-111.25 226.72,-106.04 216.26,-104.36 217.49,-111.25\"/>\n",
       "</g>\n",
       "<!-- 2351175288864 -->\n",
       "<g id=\"node2\" class=\"node\">\n",
       "<title>2351175288864</title>\n",
       "<polygon fill=\"none\" stroke=\"black\" points=\"635,-0.5 635,-36.5 818,-36.5 818,-0.5 635,-0.5\"/>\n",
       "<text text-anchor=\"middle\" x=\"645.5\" y=\"-14.8\" font-family=\"Times New Roman,serif\" font-size=\"14.00\">f</text>\n",
       "<polyline fill=\"none\" stroke=\"black\" points=\"656,-0.5 656,-36.5 \"/>\n",
       "<text text-anchor=\"middle\" x=\"696\" y=\"-14.8\" font-family=\"Times New Roman,serif\" font-size=\"14.00\">data 2.0000</text>\n",
       "<polyline fill=\"none\" stroke=\"black\" points=\"736,-0.5 736,-36.5 \"/>\n",
       "<text text-anchor=\"middle\" x=\"777\" y=\"-14.8\" font-family=\"Times New Roman,serif\" font-size=\"14.00\">grad 0.0000</text>\n",
       "</g>\n",
       "<!-- 2351175289200+ -->\n",
       "<g id=\"node9\" class=\"node\">\n",
       "<title>2351175289200+</title>\n",
       "<ellipse fill=\"none\" stroke=\"black\" cx=\"882\" cy=\"-45.5\" rx=\"27\" ry=\"18\"/>\n",
       "<text text-anchor=\"middle\" x=\"882\" y=\"-41.8\" font-family=\"Times New Roman,serif\" font-size=\"14.00\">+</text>\n",
       "</g>\n",
       "<!-- 2351175288864&#45;&gt;2351175289200+ -->\n",
       "<g id=\"edge4\" class=\"edge\">\n",
       "<title>2351175288864&#45;&gt;2351175289200+</title>\n",
       "<path fill=\"none\" stroke=\"black\" d=\"M818.12,-34.44C827.8,-36.14 837.17,-37.79 845.59,-39.27\"/>\n",
       "<polygon fill=\"black\" stroke=\"black\" points=\"845.25,-42.77 855.71,-41.05 846.47,-35.87 845.25,-42.77\"/>\n",
       "</g>\n",
       "<!-- 2351175288480 -->\n",
       "<g id=\"node3\" class=\"node\">\n",
       "<title>2351175288480</title>\n",
       "<polygon fill=\"none\" stroke=\"black\" points=\"317,-83.5 317,-119.5 507,-119.5 507,-83.5 317,-83.5\"/>\n",
       "<text text-anchor=\"middle\" x=\"328.5\" y=\"-97.8\" font-family=\"Times New Roman,serif\" font-size=\"14.00\">e</text>\n",
       "<polyline fill=\"none\" stroke=\"black\" points=\"340,-83.5 340,-119.5 \"/>\n",
       "<text text-anchor=\"middle\" x=\"382.5\" y=\"-97.8\" font-family=\"Times New Roman,serif\" font-size=\"14.00\">data &#45;6.0000</text>\n",
       "<polyline fill=\"none\" stroke=\"black\" points=\"425,-83.5 425,-119.5 \"/>\n",
       "<text text-anchor=\"middle\" x=\"466\" y=\"-97.8\" font-family=\"Times New Roman,serif\" font-size=\"14.00\">grad 0.0000</text>\n",
       "</g>\n",
       "<!-- 2351175288576+ -->\n",
       "<g id=\"node6\" class=\"node\">\n",
       "<title>2351175288576+</title>\n",
       "<ellipse fill=\"none\" stroke=\"black\" cx=\"571\" cy=\"-73.5\" rx=\"27\" ry=\"18\"/>\n",
       "<text text-anchor=\"middle\" x=\"571\" y=\"-69.8\" font-family=\"Times New Roman,serif\" font-size=\"14.00\">+</text>\n",
       "</g>\n",
       "<!-- 2351175288480&#45;&gt;2351175288576+ -->\n",
       "<g id=\"edge5\" class=\"edge\">\n",
       "<title>2351175288480&#45;&gt;2351175288576+</title>\n",
       "<path fill=\"none\" stroke=\"black\" d=\"M507.05,-84.73C516.89,-82.97 526.39,-81.28 534.9,-79.76\"/>\n",
       "<polygon fill=\"black\" stroke=\"black\" points=\"535.52,-83.2 544.75,-78 534.29,-76.31 535.52,-83.2\"/>\n",
       "</g>\n",
       "<!-- 2351175288480*&#45;&gt;2351175288480 -->\n",
       "<g id=\"edge1\" class=\"edge\">\n",
       "<title>2351175288480*&#45;&gt;2351175288480</title>\n",
       "<path fill=\"none\" stroke=\"black\" d=\"M280.28,-101.5C288.05,-101.5 297.08,-101.5 306.68,-101.5\"/>\n",
       "<polygon fill=\"black\" stroke=\"black\" points=\"306.88,-105 316.88,-101.5 306.88,-98 306.88,-105\"/>\n",
       "</g>\n",
       "<!-- 2351175288576 -->\n",
       "<g id=\"node5\" class=\"node\">\n",
       "<title>2351175288576</title>\n",
       "<polygon fill=\"none\" stroke=\"black\" points=\"634,-55.5 634,-91.5 819,-91.5 819,-55.5 634,-55.5\"/>\n",
       "<text text-anchor=\"middle\" x=\"645.5\" y=\"-69.8\" font-family=\"Times New Roman,serif\" font-size=\"14.00\">d</text>\n",
       "<polyline fill=\"none\" stroke=\"black\" points=\"657,-55.5 657,-91.5 \"/>\n",
       "<text text-anchor=\"middle\" x=\"697\" y=\"-69.8\" font-family=\"Times New Roman,serif\" font-size=\"14.00\">data 4.0000</text>\n",
       "<polyline fill=\"none\" stroke=\"black\" points=\"737,-55.5 737,-91.5 \"/>\n",
       "<text text-anchor=\"middle\" x=\"778\" y=\"-69.8\" font-family=\"Times New Roman,serif\" font-size=\"14.00\">grad 0.0000</text>\n",
       "</g>\n",
       "<!-- 2351175288576&#45;&gt;2351175289200+ -->\n",
       "<g id=\"edge7\" class=\"edge\">\n",
       "<title>2351175288576&#45;&gt;2351175289200+</title>\n",
       "<path fill=\"none\" stroke=\"black\" d=\"M819.01,-56.81C828.49,-55.08 837.66,-53.41 845.9,-51.9\"/>\n",
       "<polygon fill=\"black\" stroke=\"black\" points=\"846.6,-55.33 855.81,-50.09 845.35,-48.45 846.6,-55.33\"/>\n",
       "</g>\n",
       "<!-- 2351175288576+&#45;&gt;2351175288576 -->\n",
       "<g id=\"edge2\" class=\"edge\">\n",
       "<title>2351175288576+&#45;&gt;2351175288576</title>\n",
       "<path fill=\"none\" stroke=\"black\" d=\"M598.04,-73.5C605.58,-73.5 614.3,-73.5 623.57,-73.5\"/>\n",
       "<polygon fill=\"black\" stroke=\"black\" points=\"623.81,-77 633.81,-73.5 623.81,-70 623.81,-77\"/>\n",
       "</g>\n",
       "<!-- 2351172963680 -->\n",
       "<g id=\"node7\" class=\"node\">\n",
       "<title>2351172963680</title>\n",
       "<polygon fill=\"none\" stroke=\"black\" points=\"2.5,-56.5 2.5,-92.5 187.5,-92.5 187.5,-56.5 2.5,-56.5\"/>\n",
       "<text text-anchor=\"middle\" x=\"14\" y=\"-70.8\" font-family=\"Times New Roman,serif\" font-size=\"14.00\">a</text>\n",
       "<polyline fill=\"none\" stroke=\"black\" points=\"25.5,-56.5 25.5,-92.5 \"/>\n",
       "<text text-anchor=\"middle\" x=\"65.5\" y=\"-70.8\" font-family=\"Times New Roman,serif\" font-size=\"14.00\">data 2.0000</text>\n",
       "<polyline fill=\"none\" stroke=\"black\" points=\"105.5,-56.5 105.5,-92.5 \"/>\n",
       "<text text-anchor=\"middle\" x=\"146.5\" y=\"-70.8\" font-family=\"Times New Roman,serif\" font-size=\"14.00\">grad 0.0000</text>\n",
       "</g>\n",
       "<!-- 2351172963680&#45;&gt;2351175288480* -->\n",
       "<g id=\"edge8\" class=\"edge\">\n",
       "<title>2351172963680&#45;&gt;2351175288480*</title>\n",
       "<path fill=\"none\" stroke=\"black\" d=\"M187.65,-90.36C197.94,-92.14 207.91,-93.87 216.81,-95.41\"/>\n",
       "<polygon fill=\"black\" stroke=\"black\" points=\"216.26,-98.87 226.71,-97.12 217.45,-91.97 216.26,-98.87\"/>\n",
       "</g>\n",
       "<!-- 2351175289200 -->\n",
       "<g id=\"node8\" class=\"node\">\n",
       "<title>2351175289200</title>\n",
       "<polygon fill=\"none\" stroke=\"black\" points=\"945,-27.5 945,-63.5 1132,-63.5 1132,-27.5 945,-27.5\"/>\n",
       "<text text-anchor=\"middle\" x=\"957.5\" y=\"-41.8\" font-family=\"Times New Roman,serif\" font-size=\"14.00\">L</text>\n",
       "<polyline fill=\"none\" stroke=\"black\" points=\"970,-27.5 970,-63.5 \"/>\n",
       "<text text-anchor=\"middle\" x=\"1010\" y=\"-41.8\" font-family=\"Times New Roman,serif\" font-size=\"14.00\">data 6.0000</text>\n",
       "<polyline fill=\"none\" stroke=\"black\" points=\"1050,-27.5 1050,-63.5 \"/>\n",
       "<text text-anchor=\"middle\" x=\"1091\" y=\"-41.8\" font-family=\"Times New Roman,serif\" font-size=\"14.00\">grad 0.0000</text>\n",
       "</g>\n",
       "<!-- 2351175289200+&#45;&gt;2351175289200 -->\n",
       "<g id=\"edge3\" class=\"edge\">\n",
       "<title>2351175289200+&#45;&gt;2351175289200</title>\n",
       "<path fill=\"none\" stroke=\"black\" d=\"M909.21,-45.5C916.73,-45.5 925.43,-45.5 934.67,-45.5\"/>\n",
       "<polygon fill=\"black\" stroke=\"black\" points=\"934.89,-49 944.89,-45.5 934.89,-42 934.89,-49\"/>\n",
       "</g>\n",
       "<!-- 2351175254512 -->\n",
       "<g id=\"node10\" class=\"node\">\n",
       "<title>2351175254512</title>\n",
       "<polygon fill=\"none\" stroke=\"black\" points=\"316,-28.5 316,-64.5 508,-64.5 508,-28.5 316,-28.5\"/>\n",
       "<text text-anchor=\"middle\" x=\"327.5\" y=\"-42.8\" font-family=\"Times New Roman,serif\" font-size=\"14.00\">c</text>\n",
       "<polyline fill=\"none\" stroke=\"black\" points=\"339,-28.5 339,-64.5 \"/>\n",
       "<text text-anchor=\"middle\" x=\"382.5\" y=\"-42.8\" font-family=\"Times New Roman,serif\" font-size=\"14.00\">data 10.0000</text>\n",
       "<polyline fill=\"none\" stroke=\"black\" points=\"426,-28.5 426,-64.5 \"/>\n",
       "<text text-anchor=\"middle\" x=\"467\" y=\"-42.8\" font-family=\"Times New Roman,serif\" font-size=\"14.00\">grad 0.0000</text>\n",
       "</g>\n",
       "<!-- 2351175254512&#45;&gt;2351175288576+ -->\n",
       "<g id=\"edge9\" class=\"edge\">\n",
       "<title>2351175254512&#45;&gt;2351175288576+</title>\n",
       "<path fill=\"none\" stroke=\"black\" d=\"M508.4,-62.91C517.69,-64.5 526.64,-66.04 534.71,-67.43\"/>\n",
       "<polygon fill=\"black\" stroke=\"black\" points=\"534.32,-70.91 544.76,-69.16 535.5,-64.02 534.32,-70.91\"/>\n",
       "</g>\n",
       "</g>\n",
       "</svg>\n"
      ],
      "text/plain": [
       "<graphviz.graphs.Digraph at 0x2236cf79e50>"
      ]
     },
     "execution_count": 156,
     "metadata": {},
     "output_type": "execute_result"
    }
   ],
   "source": [
    "draw_dot(L)"
   ]
  },
  {
   "cell_type": "markdown",
   "metadata": {},
   "source": [
    "### Graphical visualization of tanh"
   ]
  },
  {
   "cell_type": "code",
   "execution_count": 157,
   "metadata": {},
   "outputs": [
    {
     "data": {
      "image/png": "[encoded data removed]",
      "text/plain": [
       "<Figure size 640x480 with 1 Axes>"
      ]
     },
     "metadata": {},
     "output_type": "display_data"
    }
   ],
   "source": [
    "plt.plot(np.arange(-5,5,0.2), np.tanh(np.arange(-5,5,0.2))); plt.grid()"
   ]
  },
  {
   "cell_type": "markdown",
   "metadata": {},
   "source": [
    "### Crating a neuron"
   ]
  },
  {
   "cell_type": "code",
   "execution_count": 158,
   "metadata": {},
   "outputs": [],
   "source": [
    "# inputs x1, x2\n",
    "# weights w1, w2\n",
    "# bias b\n",
    "\n",
    "x1 = Value(2.0, label='x1')\n",
    "x2 = Value(0.0, label='x2')\n",
    "w1 = Value(-3.0, label='w1')\n",
    "w2 = Value(1.0, label='w2')\n",
    "b = Value(6.8813735, label='b')\n",
    "\n",
    "# compute sinapses\n",
    "\n",
    "x1w1 = x1*w1; x1w1.label= 'x1*w1'\n",
    "x2w2 = x2*w2; x2w2.label= 'x2*w2'\n",
    "x1w1x2w2 = x1w1 + x2w2; x1w1x2w2.label = 'x1w1 + x2w2'\n",
    "\n",
    "n = x1w1x2w2 +b; n.label = 'n' # cell body without activation\n",
    "\n",
    "o = n.tanh(); o.label = 'o'\n",
    "\n"
   ]
  },
  {
   "cell_type": "code",
   "execution_count": 159,
   "metadata": {},
   "outputs": [
    {
     "data": {
      "image/svg+xml": [
       "<?xml version=\"1.0\" encoding=\"UTF-8\" standalone=\"no\"?>\n",
       "<!DOCTYPE svg PUBLIC \"-//W3C//DTD SVG 1.1//EN\"\n",
       " \"http://www.w3.org/Graphics/SVG/1.1/DTD/svg11.dtd\">\n",
       "<!-- Generated by graphviz version 2.50.0 (0)\n",
       " -->\n",
       "<!-- Pages: 1 -->\n",
       "<svg width=\"1561pt\" height=\"210pt\"\n",
       " viewBox=\"0.00 0.00 1561.00 210.00\" xmlns=\"http://www.w3.org/2000/svg\" xmlns:xlink=\"http://www.w3.org/1999/xlink\">\n",
       "<g id=\"graph0\" class=\"graph\" transform=\"scale(1 1) rotate(0) translate(4 206)\">\n",
       "<polygon fill=\"white\" stroke=\"transparent\" points=\"-4,4 -4,-206 1557,-206 1557,4 -4,4\"/>\n",
       "<!-- 2351174162800 -->\n",
       "<g id=\"node1\" class=\"node\">\n",
       "<title>2351174162800</title>\n",
       "<polygon fill=\"none\" stroke=\"black\" points=\"4,-165.5 4,-201.5 196,-201.5 196,-165.5 4,-165.5\"/>\n",
       "<text text-anchor=\"middle\" x=\"19\" y=\"-179.8\" font-family=\"Times New Roman,serif\" font-size=\"14.00\">x1</text>\n",
       "<polyline fill=\"none\" stroke=\"black\" points=\"34,-165.5 34,-201.5 \"/>\n",
       "<text text-anchor=\"middle\" x=\"74\" y=\"-179.8\" font-family=\"Times New Roman,serif\" font-size=\"14.00\">data 2.0000</text>\n",
       "<polyline fill=\"none\" stroke=\"black\" points=\"114,-165.5 114,-201.5 \"/>\n",
       "<text text-anchor=\"middle\" x=\"155\" y=\"-179.8\" font-family=\"Times New Roman,serif\" font-size=\"14.00\">grad 0.0000</text>\n",
       "</g>\n",
       "<!-- 2351174160880* -->\n",
       "<g id=\"node15\" class=\"node\">\n",
       "<title>2351174160880*</title>\n",
       "<ellipse fill=\"none\" stroke=\"black\" cx=\"263\" cy=\"-128.5\" rx=\"27\" ry=\"18\"/>\n",
       "<text text-anchor=\"middle\" x=\"263\" y=\"-124.8\" font-family=\"Times New Roman,serif\" font-size=\"14.00\">*</text>\n",
       "</g>\n",
       "<!-- 2351174162800&#45;&gt;2351174160880* -->\n",
       "<g id=\"edge9\" class=\"edge\">\n",
       "<title>2351174162800&#45;&gt;2351174160880*</title>\n",
       "<path fill=\"none\" stroke=\"black\" d=\"M172.53,-165.44C181.84,-162.67 191.2,-159.67 200,-156.5 210.53,-152.71 221.75,-147.9 231.72,-143.33\"/>\n",
       "<polygon fill=\"black\" stroke=\"black\" points=\"233.25,-146.48 240.82,-139.07 230.28,-140.14 233.25,-146.48\"/>\n",
       "</g>\n",
       "<!-- 2351174125696 -->\n",
       "<g id=\"node2\" class=\"node\">\n",
       "<title>2351174125696</title>\n",
       "<polygon fill=\"none\" stroke=\"black\" points=\"672,-82.5 672,-118.5 931,-118.5 931,-82.5 672,-82.5\"/>\n",
       "<text text-anchor=\"middle\" x=\"718\" y=\"-96.8\" font-family=\"Times New Roman,serif\" font-size=\"14.00\">x1w1 + x2w2</text>\n",
       "<polyline fill=\"none\" stroke=\"black\" points=\"764,-82.5 764,-118.5 \"/>\n",
       "<text text-anchor=\"middle\" x=\"806.5\" y=\"-96.8\" font-family=\"Times New Roman,serif\" font-size=\"14.00\">data &#45;6.0000</text>\n",
       "<polyline fill=\"none\" stroke=\"black\" points=\"849,-82.5 849,-118.5 \"/>\n",
       "<text text-anchor=\"middle\" x=\"890\" y=\"-96.8\" font-family=\"Times New Roman,serif\" font-size=\"14.00\">grad 0.0000</text>\n",
       "</g>\n",
       "<!-- 2351174124400+ -->\n",
       "<g id=\"node11\" class=\"node\">\n",
       "<title>2351174124400+</title>\n",
       "<ellipse fill=\"none\" stroke=\"black\" cx=\"994\" cy=\"-72.5\" rx=\"27\" ry=\"18\"/>\n",
       "<text text-anchor=\"middle\" x=\"994\" y=\"-68.8\" font-family=\"Times New Roman,serif\" font-size=\"14.00\">+</text>\n",
       "</g>\n",
       "<!-- 2351174125696&#45;&gt;2351174124400+ -->\n",
       "<g id=\"edge10\" class=\"edge\">\n",
       "<title>2351174125696&#45;&gt;2351174124400+</title>\n",
       "<path fill=\"none\" stroke=\"black\" d=\"M925.03,-82.49C936.7,-80.77 947.77,-79.15 957.46,-77.72\"/>\n",
       "<polygon fill=\"black\" stroke=\"black\" points=\"958.01,-81.18 967.4,-76.26 957,-74.25 958.01,-81.18\"/>\n",
       "</g>\n",
       "<!-- 2351174125696+ -->\n",
       "<g id=\"node3\" class=\"node\">\n",
       "<title>2351174125696+</title>\n",
       "<ellipse fill=\"none\" stroke=\"black\" cx=\"609\" cy=\"-100.5\" rx=\"27\" ry=\"18\"/>\n",
       "<text text-anchor=\"middle\" x=\"609\" y=\"-96.8\" font-family=\"Times New Roman,serif\" font-size=\"14.00\">+</text>\n",
       "</g>\n",
       "<!-- 2351174125696+&#45;&gt;2351174125696 -->\n",
       "<g id=\"edge1\" class=\"edge\">\n",
       "<title>2351174125696+&#45;&gt;2351174125696</title>\n",
       "<path fill=\"none\" stroke=\"black\" d=\"M636.09,-100.5C643.58,-100.5 652.3,-100.5 661.75,-100.5\"/>\n",
       "<polygon fill=\"black\" stroke=\"black\" points=\"661.84,-104 671.84,-100.5 661.84,-97 661.84,-104\"/>\n",
       "</g>\n",
       "<!-- 2351174125792 -->\n",
       "<g id=\"node4\" class=\"node\">\n",
       "<title>2351174125792</title>\n",
       "<polygon fill=\"none\" stroke=\"black\" points=\"328.5,-55.5 328.5,-91.5 543.5,-91.5 543.5,-55.5 328.5,-55.5\"/>\n",
       "<text text-anchor=\"middle\" x=\"355\" y=\"-69.8\" font-family=\"Times New Roman,serif\" font-size=\"14.00\">x2*w2</text>\n",
       "<polyline fill=\"none\" stroke=\"black\" points=\"381.5,-55.5 381.5,-91.5 \"/>\n",
       "<text text-anchor=\"middle\" x=\"421.5\" y=\"-69.8\" font-family=\"Times New Roman,serif\" font-size=\"14.00\">data 0.0000</text>\n",
       "<polyline fill=\"none\" stroke=\"black\" points=\"461.5,-55.5 461.5,-91.5 \"/>\n",
       "<text text-anchor=\"middle\" x=\"502.5\" y=\"-69.8\" font-family=\"Times New Roman,serif\" font-size=\"14.00\">grad 0.0000</text>\n",
       "</g>\n",
       "<!-- 2351174125792&#45;&gt;2351174125696+ -->\n",
       "<g id=\"edge7\" class=\"edge\">\n",
       "<title>2351174125792&#45;&gt;2351174125696+</title>\n",
       "<path fill=\"none\" stroke=\"black\" d=\"M543.84,-90.37C554.01,-91.98 563.76,-93.51 572.44,-94.89\"/>\n",
       "<polygon fill=\"black\" stroke=\"black\" points=\"572.05,-98.37 582.47,-96.47 573.14,-91.45 572.05,-98.37\"/>\n",
       "</g>\n",
       "<!-- 2351174125792* -->\n",
       "<g id=\"node5\" class=\"node\">\n",
       "<title>2351174125792*</title>\n",
       "<ellipse fill=\"none\" stroke=\"black\" cx=\"263\" cy=\"-73.5\" rx=\"27\" ry=\"18\"/>\n",
       "<text text-anchor=\"middle\" x=\"263\" y=\"-69.8\" font-family=\"Times New Roman,serif\" font-size=\"14.00\">*</text>\n",
       "</g>\n",
       "<!-- 2351174125792*&#45;&gt;2351174125792 -->\n",
       "<g id=\"edge2\" class=\"edge\">\n",
       "<title>2351174125792*&#45;&gt;2351174125792</title>\n",
       "<path fill=\"none\" stroke=\"black\" d=\"M290.34,-73.5C298.51,-73.5 308.08,-73.5 318.36,-73.5\"/>\n",
       "<polygon fill=\"black\" stroke=\"black\" points=\"318.39,-77 328.39,-73.5 318.39,-70 318.39,-77\"/>\n",
       "</g>\n",
       "<!-- 2351174124256 -->\n",
       "<g id=\"node6\" class=\"node\">\n",
       "<title>2351174124256</title>\n",
       "<polygon fill=\"none\" stroke=\"black\" points=\"1368,-54.5 1368,-90.5 1553,-90.5 1553,-54.5 1368,-54.5\"/>\n",
       "<text text-anchor=\"middle\" x=\"1379.5\" y=\"-68.8\" font-family=\"Times New Roman,serif\" font-size=\"14.00\">o</text>\n",
       "<polyline fill=\"none\" stroke=\"black\" points=\"1391,-54.5 1391,-90.5 \"/>\n",
       "<text text-anchor=\"middle\" x=\"1431\" y=\"-68.8\" font-family=\"Times New Roman,serif\" font-size=\"14.00\">data 0.7071</text>\n",
       "<polyline fill=\"none\" stroke=\"black\" points=\"1471,-54.5 1471,-90.5 \"/>\n",
       "<text text-anchor=\"middle\" x=\"1512\" y=\"-68.8\" font-family=\"Times New Roman,serif\" font-size=\"14.00\">grad 0.0000</text>\n",
       "</g>\n",
       "<!-- 2351174124256tanh -->\n",
       "<g id=\"node7\" class=\"node\">\n",
       "<title>2351174124256tanh</title>\n",
       "<ellipse fill=\"none\" stroke=\"black\" cx=\"1305\" cy=\"-72.5\" rx=\"27\" ry=\"18\"/>\n",
       "<text text-anchor=\"middle\" x=\"1305\" y=\"-68.8\" font-family=\"Times New Roman,serif\" font-size=\"14.00\">tanh</text>\n",
       "</g>\n",
       "<!-- 2351174124256tanh&#45;&gt;2351174124256 -->\n",
       "<g id=\"edge3\" class=\"edge\">\n",
       "<title>2351174124256tanh&#45;&gt;2351174124256</title>\n",
       "<path fill=\"none\" stroke=\"black\" d=\"M1332.04,-72.5C1339.58,-72.5 1348.3,-72.5 1357.57,-72.5\"/>\n",
       "<polygon fill=\"black\" stroke=\"black\" points=\"1357.81,-76 1367.81,-72.5 1357.81,-69 1357.81,-76\"/>\n",
       "</g>\n",
       "<!-- 2351174162704 -->\n",
       "<g id=\"node8\" class=\"node\">\n",
       "<title>2351174162704</title>\n",
       "<polygon fill=\"none\" stroke=\"black\" points=\"709,-27.5 709,-63.5 894,-63.5 894,-27.5 709,-27.5\"/>\n",
       "<text text-anchor=\"middle\" x=\"720.5\" y=\"-41.8\" font-family=\"Times New Roman,serif\" font-size=\"14.00\">b</text>\n",
       "<polyline fill=\"none\" stroke=\"black\" points=\"732,-27.5 732,-63.5 \"/>\n",
       "<text text-anchor=\"middle\" x=\"772\" y=\"-41.8\" font-family=\"Times New Roman,serif\" font-size=\"14.00\">data 6.8814</text>\n",
       "<polyline fill=\"none\" stroke=\"black\" points=\"812,-27.5 812,-63.5 \"/>\n",
       "<text text-anchor=\"middle\" x=\"853\" y=\"-41.8\" font-family=\"Times New Roman,serif\" font-size=\"14.00\">grad 0.0000</text>\n",
       "</g>\n",
       "<!-- 2351174162704&#45;&gt;2351174124400+ -->\n",
       "<g id=\"edge14\" class=\"edge\">\n",
       "<title>2351174162704&#45;&gt;2351174124400+</title>\n",
       "<path fill=\"none\" stroke=\"black\" d=\"M894.12,-58.49C916.59,-61.67 939.33,-64.89 957.33,-67.44\"/>\n",
       "<polygon fill=\"black\" stroke=\"black\" points=\"956.95,-70.93 967.34,-68.86 957.93,-63.99 956.95,-70.93\"/>\n",
       "</g>\n",
       "<!-- 2351174162752 -->\n",
       "<g id=\"node9\" class=\"node\">\n",
       "<title>2351174162752</title>\n",
       "<polygon fill=\"none\" stroke=\"black\" points=\"0,-110.5 0,-146.5 200,-146.5 200,-110.5 0,-110.5\"/>\n",
       "<text text-anchor=\"middle\" x=\"16.5\" y=\"-124.8\" font-family=\"Times New Roman,serif\" font-size=\"14.00\">w1</text>\n",
       "<polyline fill=\"none\" stroke=\"black\" points=\"33,-110.5 33,-146.5 \"/>\n",
       "<text text-anchor=\"middle\" x=\"75.5\" y=\"-124.8\" font-family=\"Times New Roman,serif\" font-size=\"14.00\">data &#45;3.0000</text>\n",
       "<polyline fill=\"none\" stroke=\"black\" points=\"118,-110.5 118,-146.5 \"/>\n",
       "<text text-anchor=\"middle\" x=\"159\" y=\"-124.8\" font-family=\"Times New Roman,serif\" font-size=\"14.00\">grad 0.0000</text>\n",
       "</g>\n",
       "<!-- 2351174162752&#45;&gt;2351174160880* -->\n",
       "<g id=\"edge12\" class=\"edge\">\n",
       "<title>2351174162752&#45;&gt;2351174160880*</title>\n",
       "<path fill=\"none\" stroke=\"black\" d=\"M200.21,-128.5C209.2,-128.5 217.86,-128.5 225.7,-128.5\"/>\n",
       "<polygon fill=\"black\" stroke=\"black\" points=\"225.85,-132 235.85,-128.5 225.85,-125 225.85,-132\"/>\n",
       "</g>\n",
       "<!-- 2351174124400 -->\n",
       "<g id=\"node10\" class=\"node\">\n",
       "<title>2351174124400</title>\n",
       "<polygon fill=\"none\" stroke=\"black\" points=\"1057,-54.5 1057,-90.5 1242,-90.5 1242,-54.5 1057,-54.5\"/>\n",
       "<text text-anchor=\"middle\" x=\"1068.5\" y=\"-68.8\" font-family=\"Times New Roman,serif\" font-size=\"14.00\">n</text>\n",
       "<polyline fill=\"none\" stroke=\"black\" points=\"1080,-54.5 1080,-90.5 \"/>\n",
       "<text text-anchor=\"middle\" x=\"1120\" y=\"-68.8\" font-family=\"Times New Roman,serif\" font-size=\"14.00\">data 0.8814</text>\n",
       "<polyline fill=\"none\" stroke=\"black\" points=\"1160,-54.5 1160,-90.5 \"/>\n",
       "<text text-anchor=\"middle\" x=\"1201\" y=\"-68.8\" font-family=\"Times New Roman,serif\" font-size=\"14.00\">grad 0.0000</text>\n",
       "</g>\n",
       "<!-- 2351174124400&#45;&gt;2351174124256tanh -->\n",
       "<g id=\"edge8\" class=\"edge\">\n",
       "<title>2351174124400&#45;&gt;2351174124256tanh</title>\n",
       "<path fill=\"none\" stroke=\"black\" d=\"M1242.01,-72.5C1251.01,-72.5 1259.74,-72.5 1267.66,-72.5\"/>\n",
       "<polygon fill=\"black\" stroke=\"black\" points=\"1267.91,-76 1277.91,-72.5 1267.91,-69 1267.91,-76\"/>\n",
       "</g>\n",
       "<!-- 2351174124400+&#45;&gt;2351174124400 -->\n",
       "<g id=\"edge4\" class=\"edge\">\n",
       "<title>2351174124400+&#45;&gt;2351174124400</title>\n",
       "<path fill=\"none\" stroke=\"black\" d=\"M1021.04,-72.5C1028.58,-72.5 1037.3,-72.5 1046.57,-72.5\"/>\n",
       "<polygon fill=\"black\" stroke=\"black\" points=\"1046.81,-76 1056.81,-72.5 1046.81,-69 1046.81,-76\"/>\n",
       "</g>\n",
       "<!-- 2351174162848 -->\n",
       "<g id=\"node12\" class=\"node\">\n",
       "<title>2351174162848</title>\n",
       "<polygon fill=\"none\" stroke=\"black\" points=\"2.5,-55.5 2.5,-91.5 197.5,-91.5 197.5,-55.5 2.5,-55.5\"/>\n",
       "<text text-anchor=\"middle\" x=\"19\" y=\"-69.8\" font-family=\"Times New Roman,serif\" font-size=\"14.00\">w2</text>\n",
       "<polyline fill=\"none\" stroke=\"black\" points=\"35.5,-55.5 35.5,-91.5 \"/>\n",
       "<text text-anchor=\"middle\" x=\"75.5\" y=\"-69.8\" font-family=\"Times New Roman,serif\" font-size=\"14.00\">data 1.0000</text>\n",
       "<polyline fill=\"none\" stroke=\"black\" points=\"115.5,-55.5 115.5,-91.5 \"/>\n",
       "<text text-anchor=\"middle\" x=\"156.5\" y=\"-69.8\" font-family=\"Times New Roman,serif\" font-size=\"14.00\">grad 0.0000</text>\n",
       "</g>\n",
       "<!-- 2351174162848&#45;&gt;2351174125792* -->\n",
       "<g id=\"edge6\" class=\"edge\">\n",
       "<title>2351174162848&#45;&gt;2351174125792*</title>\n",
       "<path fill=\"none\" stroke=\"black\" d=\"M197.91,-73.5C207.65,-73.5 217.05,-73.5 225.52,-73.5\"/>\n",
       "<polygon fill=\"black\" stroke=\"black\" points=\"225.7,-77 235.7,-73.5 225.7,-70 225.7,-77\"/>\n",
       "</g>\n",
       "<!-- 2351174162896 -->\n",
       "<g id=\"node13\" class=\"node\">\n",
       "<title>2351174162896</title>\n",
       "<polygon fill=\"none\" stroke=\"black\" points=\"4,-0.5 4,-36.5 196,-36.5 196,-0.5 4,-0.5\"/>\n",
       "<text text-anchor=\"middle\" x=\"19\" y=\"-14.8\" font-family=\"Times New Roman,serif\" font-size=\"14.00\">x2</text>\n",
       "<polyline fill=\"none\" stroke=\"black\" points=\"34,-0.5 34,-36.5 \"/>\n",
       "<text text-anchor=\"middle\" x=\"74\" y=\"-14.8\" font-family=\"Times New Roman,serif\" font-size=\"14.00\">data 0.0000</text>\n",
       "<polyline fill=\"none\" stroke=\"black\" points=\"114,-0.5 114,-36.5 \"/>\n",
       "<text text-anchor=\"middle\" x=\"155\" y=\"-14.8\" font-family=\"Times New Roman,serif\" font-size=\"14.00\">grad 0.0000</text>\n",
       "</g>\n",
       "<!-- 2351174162896&#45;&gt;2351174125792* -->\n",
       "<g id=\"edge13\" class=\"edge\">\n",
       "<title>2351174162896&#45;&gt;2351174125792*</title>\n",
       "<path fill=\"none\" stroke=\"black\" d=\"M169.28,-36.5C179.65,-39.61 190.16,-42.98 200,-46.5 210.28,-50.17 221.28,-54.74 231.11,-59.07\"/>\n",
       "<polygon fill=\"black\" stroke=\"black\" points=\"229.93,-62.37 240.48,-63.27 232.79,-55.99 229.93,-62.37\"/>\n",
       "</g>\n",
       "<!-- 2351174160880 -->\n",
       "<g id=\"node14\" class=\"node\">\n",
       "<title>2351174160880</title>\n",
       "<polygon fill=\"none\" stroke=\"black\" points=\"326,-110.5 326,-146.5 546,-146.5 546,-110.5 326,-110.5\"/>\n",
       "<text text-anchor=\"middle\" x=\"352.5\" y=\"-124.8\" font-family=\"Times New Roman,serif\" font-size=\"14.00\">x1*w1</text>\n",
       "<polyline fill=\"none\" stroke=\"black\" points=\"379,-110.5 379,-146.5 \"/>\n",
       "<text text-anchor=\"middle\" x=\"421.5\" y=\"-124.8\" font-family=\"Times New Roman,serif\" font-size=\"14.00\">data &#45;6.0000</text>\n",
       "<polyline fill=\"none\" stroke=\"black\" points=\"464,-110.5 464,-146.5 \"/>\n",
       "<text text-anchor=\"middle\" x=\"505\" y=\"-124.8\" font-family=\"Times New Roman,serif\" font-size=\"14.00\">grad 0.0000</text>\n",
       "</g>\n",
       "<!-- 2351174160880&#45;&gt;2351174125696+ -->\n",
       "<g id=\"edge11\" class=\"edge\">\n",
       "<title>2351174160880&#45;&gt;2351174125696+</title>\n",
       "<path fill=\"none\" stroke=\"black\" d=\"M546.27,-110.61C555.64,-109.07 564.6,-107.61 572.65,-106.29\"/>\n",
       "<polygon fill=\"black\" stroke=\"black\" points=\"573.35,-109.72 582.65,-104.65 572.22,-102.81 573.35,-109.72\"/>\n",
       "</g>\n",
       "<!-- 2351174160880*&#45;&gt;2351174160880 -->\n",
       "<g id=\"edge5\" class=\"edge\">\n",
       "<title>2351174160880*&#45;&gt;2351174160880</title>\n",
       "<path fill=\"none\" stroke=\"black\" d=\"M290.34,-128.5C297.77,-128.5 306.37,-128.5 315.6,-128.5\"/>\n",
       "<polygon fill=\"black\" stroke=\"black\" points=\"315.84,-132 325.84,-128.5 315.84,-125 315.84,-132\"/>\n",
       "</g>\n",
       "</g>\n",
       "</svg>\n"
      ],
      "text/plain": [
       "<graphviz.graphs.Digraph at 0x2236ce69c10>"
      ]
     },
     "execution_count": 159,
     "metadata": {},
     "output_type": "execute_result"
    }
   ],
   "source": [
    "draw_dot(o)"
   ]
  },
  {
   "cell_type": "code",
   "execution_count": 160,
   "metadata": {},
   "outputs": [],
   "source": [
    "o.backward()"
   ]
  },
  {
   "cell_type": "markdown",
   "metadata": {},
   "source": [
    "### checking a bug\n",
    "a + a does not increment the grad"
   ]
  },
  {
   "cell_type": "code",
   "execution_count": 161,
   "metadata": {},
   "outputs": [
    {
     "data": {
      "image/svg+xml": [
       "<?xml version=\"1.0\" encoding=\"UTF-8\" standalone=\"no\"?>\n",
       "<!DOCTYPE svg PUBLIC \"-//W3C//DTD SVG 1.1//EN\"\n",
       " \"http://www.w3.org/Graphics/SVG/1.1/DTD/svg11.dtd\">\n",
       "<!-- Generated by graphviz version 2.50.0 (0)\n",
       " -->\n",
       "<!-- Pages: 1 -->\n",
       "<svg width=\"504pt\" height=\"45pt\"\n",
       " viewBox=\"0.00 0.00 504.00 45.00\" xmlns=\"http://www.w3.org/2000/svg\" xmlns:xlink=\"http://www.w3.org/1999/xlink\">\n",
       "<g id=\"graph0\" class=\"graph\" transform=\"scale(1 1) rotate(0) translate(4 41)\">\n",
       "<polygon fill=\"white\" stroke=\"transparent\" points=\"-4,4 -4,-41 500,-41 500,4 -4,4\"/>\n",
       "<!-- 2351174162176 -->\n",
       "<g id=\"node1\" class=\"node\">\n",
       "<title>2351174162176</title>\n",
       "<polygon fill=\"none\" stroke=\"black\" points=\"311,-0.5 311,-36.5 496,-36.5 496,-0.5 311,-0.5\"/>\n",
       "<text text-anchor=\"middle\" x=\"322.5\" y=\"-14.8\" font-family=\"Times New Roman,serif\" font-size=\"14.00\">b</text>\n",
       "<polyline fill=\"none\" stroke=\"black\" points=\"334,-0.5 334,-36.5 \"/>\n",
       "<text text-anchor=\"middle\" x=\"374\" y=\"-14.8\" font-family=\"Times New Roman,serif\" font-size=\"14.00\">data 6.0000</text>\n",
       "<polyline fill=\"none\" stroke=\"black\" points=\"414,-0.5 414,-36.5 \"/>\n",
       "<text text-anchor=\"middle\" x=\"455\" y=\"-14.8\" font-family=\"Times New Roman,serif\" font-size=\"14.00\">grad 1.0000</text>\n",
       "</g>\n",
       "<!-- 2351174162176+ -->\n",
       "<g id=\"node2\" class=\"node\">\n",
       "<title>2351174162176+</title>\n",
       "<ellipse fill=\"none\" stroke=\"black\" cx=\"248\" cy=\"-18.5\" rx=\"27\" ry=\"18\"/>\n",
       "<text text-anchor=\"middle\" x=\"248\" y=\"-14.8\" font-family=\"Times New Roman,serif\" font-size=\"14.00\">+</text>\n",
       "</g>\n",
       "<!-- 2351174162176+&#45;&gt;2351174162176 -->\n",
       "<g id=\"edge1\" class=\"edge\">\n",
       "<title>2351174162176+&#45;&gt;2351174162176</title>\n",
       "<path fill=\"none\" stroke=\"black\" d=\"M275.04,-18.5C282.58,-18.5 291.3,-18.5 300.57,-18.5\"/>\n",
       "<polygon fill=\"black\" stroke=\"black\" points=\"300.81,-22 310.81,-18.5 300.81,-15 300.81,-22\"/>\n",
       "</g>\n",
       "<!-- 2351174161552 -->\n",
       "<g id=\"node3\" class=\"node\">\n",
       "<title>2351174161552</title>\n",
       "<polygon fill=\"none\" stroke=\"black\" points=\"0,-0.5 0,-36.5 185,-36.5 185,-0.5 0,-0.5\"/>\n",
       "<text text-anchor=\"middle\" x=\"11.5\" y=\"-14.8\" font-family=\"Times New Roman,serif\" font-size=\"14.00\">a</text>\n",
       "<polyline fill=\"none\" stroke=\"black\" points=\"23,-0.5 23,-36.5 \"/>\n",
       "<text text-anchor=\"middle\" x=\"63\" y=\"-14.8\" font-family=\"Times New Roman,serif\" font-size=\"14.00\">data 3.0000</text>\n",
       "<polyline fill=\"none\" stroke=\"black\" points=\"103,-0.5 103,-36.5 \"/>\n",
       "<text text-anchor=\"middle\" x=\"144\" y=\"-14.8\" font-family=\"Times New Roman,serif\" font-size=\"14.00\">grad 2.0000</text>\n",
       "</g>\n",
       "<!-- 2351174161552&#45;&gt;2351174162176+ -->\n",
       "<g id=\"edge2\" class=\"edge\">\n",
       "<title>2351174161552&#45;&gt;2351174162176+</title>\n",
       "<path fill=\"none\" stroke=\"black\" d=\"M185.01,-18.5C194.01,-18.5 202.74,-18.5 210.66,-18.5\"/>\n",
       "<polygon fill=\"black\" stroke=\"black\" points=\"210.91,-22 220.91,-18.5 210.91,-15 210.91,-22\"/>\n",
       "</g>\n",
       "</g>\n",
       "</svg>\n"
      ],
      "text/plain": [
       "<graphviz.graphs.Digraph at 0x2236ce69af0>"
      ]
     },
     "execution_count": 161,
     "metadata": {},
     "output_type": "execute_result"
    }
   ],
   "source": [
    "a = Value(3.0, label='a')\n",
    "b = a +a ; b.label = 'b'\n",
    "\n",
    "b.backward()\n",
    "draw_dot(b)"
   ]
  },
  {
   "cell_type": "markdown",
   "metadata": {},
   "source": [
    "### Adding += to grad"
   ]
  },
  {
   "cell_type": "code",
   "execution_count": 162,
   "metadata": {},
   "outputs": [
    {
     "data": {
      "image/svg+xml": [
       "<?xml version=\"1.0\" encoding=\"UTF-8\" standalone=\"no\"?>\n",
       "<!DOCTYPE svg PUBLIC \"-//W3C//DTD SVG 1.1//EN\"\n",
       " \"http://www.w3.org/Graphics/SVG/1.1/DTD/svg11.dtd\">\n",
       "<!-- Generated by graphviz version 2.50.0 (0)\n",
       " -->\n",
       "<!-- Pages: 1 -->\n",
       "<svg width=\"504pt\" height=\"45pt\"\n",
       " viewBox=\"0.00 0.00 504.00 45.00\" xmlns=\"http://www.w3.org/2000/svg\" xmlns:xlink=\"http://www.w3.org/1999/xlink\">\n",
       "<g id=\"graph0\" class=\"graph\" transform=\"scale(1 1) rotate(0) translate(4 41)\">\n",
       "<polygon fill=\"white\" stroke=\"transparent\" points=\"-4,4 -4,-41 500,-41 500,4 -4,4\"/>\n",
       "<!-- 2351174162560 -->\n",
       "<g id=\"node1\" class=\"node\">\n",
       "<title>2351174162560</title>\n",
       "<polygon fill=\"none\" stroke=\"black\" points=\"311,-0.5 311,-36.5 496,-36.5 496,-0.5 311,-0.5\"/>\n",
       "<text text-anchor=\"middle\" x=\"322.5\" y=\"-14.8\" font-family=\"Times New Roman,serif\" font-size=\"14.00\">b</text>\n",
       "<polyline fill=\"none\" stroke=\"black\" points=\"334,-0.5 334,-36.5 \"/>\n",
       "<text text-anchor=\"middle\" x=\"374\" y=\"-14.8\" font-family=\"Times New Roman,serif\" font-size=\"14.00\">data 6.0000</text>\n",
       "<polyline fill=\"none\" stroke=\"black\" points=\"414,-0.5 414,-36.5 \"/>\n",
       "<text text-anchor=\"middle\" x=\"455\" y=\"-14.8\" font-family=\"Times New Roman,serif\" font-size=\"14.00\">grad 1.0000</text>\n",
       "</g>\n",
       "<!-- 2351174162560+ -->\n",
       "<g id=\"node2\" class=\"node\">\n",
       "<title>2351174162560+</title>\n",
       "<ellipse fill=\"none\" stroke=\"black\" cx=\"248\" cy=\"-18.5\" rx=\"27\" ry=\"18\"/>\n",
       "<text text-anchor=\"middle\" x=\"248\" y=\"-14.8\" font-family=\"Times New Roman,serif\" font-size=\"14.00\">+</text>\n",
       "</g>\n",
       "<!-- 2351174162560+&#45;&gt;2351174162560 -->\n",
       "<g id=\"edge1\" class=\"edge\">\n",
       "<title>2351174162560+&#45;&gt;2351174162560</title>\n",
       "<path fill=\"none\" stroke=\"black\" d=\"M275.04,-18.5C282.58,-18.5 291.3,-18.5 300.57,-18.5\"/>\n",
       "<polygon fill=\"black\" stroke=\"black\" points=\"300.81,-22 310.81,-18.5 300.81,-15 300.81,-22\"/>\n",
       "</g>\n",
       "<!-- 2351175276528 -->\n",
       "<g id=\"node3\" class=\"node\">\n",
       "<title>2351175276528</title>\n",
       "<polygon fill=\"none\" stroke=\"black\" points=\"0,-0.5 0,-36.5 185,-36.5 185,-0.5 0,-0.5\"/>\n",
       "<text text-anchor=\"middle\" x=\"11.5\" y=\"-14.8\" font-family=\"Times New Roman,serif\" font-size=\"14.00\">a</text>\n",
       "<polyline fill=\"none\" stroke=\"black\" points=\"23,-0.5 23,-36.5 \"/>\n",
       "<text text-anchor=\"middle\" x=\"63\" y=\"-14.8\" font-family=\"Times New Roman,serif\" font-size=\"14.00\">data 3.0000</text>\n",
       "<polyline fill=\"none\" stroke=\"black\" points=\"103,-0.5 103,-36.5 \"/>\n",
       "<text text-anchor=\"middle\" x=\"144\" y=\"-14.8\" font-family=\"Times New Roman,serif\" font-size=\"14.00\">grad 2.0000</text>\n",
       "</g>\n",
       "<!-- 2351175276528&#45;&gt;2351174162560+ -->\n",
       "<g id=\"edge2\" class=\"edge\">\n",
       "<title>2351175276528&#45;&gt;2351174162560+</title>\n",
       "<path fill=\"none\" stroke=\"black\" d=\"M185.01,-18.5C194.01,-18.5 202.74,-18.5 210.66,-18.5\"/>\n",
       "<polygon fill=\"black\" stroke=\"black\" points=\"210.91,-22 220.91,-18.5 210.91,-15 210.91,-22\"/>\n",
       "</g>\n",
       "</g>\n",
       "</svg>\n"
      ],
      "text/plain": [
       "<graphviz.graphs.Digraph at 0x2236ce69220>"
      ]
     },
     "execution_count": 162,
     "metadata": {},
     "output_type": "execute_result"
    }
   ],
   "source": [
    "a = Value(3.0, label='a')\n",
    "b = a +a ; b.label = 'b'\n",
    "\n",
    "b.backward()\n",
    "draw_dot(b)"
   ]
  },
  {
   "cell_type": "code",
   "execution_count": 163,
   "metadata": {},
   "outputs": [
    {
     "data": {
      "text/plain": [
       "Value(data=6.0)"
      ]
     },
     "execution_count": 163,
     "metadata": {},
     "output_type": "execute_result"
    }
   ],
   "source": [
    "2 * a\n",
    "a * 2"
   ]
  },
  {
   "cell_type": "markdown",
   "metadata": {},
   "source": [
    "### adding __rmul__ to accept 2 * a"
   ]
  },
  {
   "cell_type": "code",
   "execution_count": 164,
   "metadata": {},
   "outputs": [
    {
     "data": {
      "text/plain": [
       "Value(data=6.0)"
      ]
     },
     "execution_count": 164,
     "metadata": {},
     "output_type": "execute_result"
    }
   ],
   "source": [
    "2 * a\n",
    "a * 2"
   ]
  },
  {
   "cell_type": "code",
   "execution_count": 165,
   "metadata": {},
   "outputs": [
    {
     "data": {
      "text/plain": [
       "Value(data=7.38905609893065)"
      ]
     },
     "execution_count": 165,
     "metadata": {},
     "output_type": "execute_result"
    }
   ],
   "source": [
    "a = Value(2.0)\n",
    "a.exp()"
   ]
  },
  {
   "cell_type": "code",
   "execution_count": 166,
   "metadata": {},
   "outputs": [
    {
     "data": {
      "text/plain": [
       "Value(data=0.5)"
      ]
     },
     "execution_count": 166,
     "metadata": {},
     "output_type": "execute_result"
    }
   ],
   "source": [
    "a = Value(2.0)\n",
    "b = Value(4.0)\n",
    "a / b"
   ]
  },
  {
   "cell_type": "code",
   "execution_count": 167,
   "metadata": {},
   "outputs": [
    {
     "data": {
      "text/plain": [
       "Value(data=-2.0)"
      ]
     },
     "execution_count": 167,
     "metadata": {},
     "output_type": "execute_result"
    }
   ],
   "source": [
    "a = Value(2.0)\n",
    "b = Value(4.0)\n",
    "a - b"
   ]
  },
  {
   "cell_type": "markdown",
   "metadata": {},
   "source": [
    "### Draw the new diagram"
   ]
  },
  {
   "cell_type": "code",
   "execution_count": 168,
   "metadata": {},
   "outputs": [
    {
     "data": {
      "image/svg+xml": [
       "<?xml version=\"1.0\" encoding=\"UTF-8\" standalone=\"no\"?>\n",
       "<!DOCTYPE svg PUBLIC \"-//W3C//DTD SVG 1.1//EN\"\n",
       " \"http://www.w3.org/Graphics/SVG/1.1/DTD/svg11.dtd\">\n",
       "<!-- Generated by graphviz version 2.50.0 (0)\n",
       " -->\n",
       "<!-- Pages: 1 -->\n",
       "<svg width=\"1561pt\" height=\"210pt\"\n",
       " viewBox=\"0.00 0.00 1561.00 210.00\" xmlns=\"http://www.w3.org/2000/svg\" xmlns:xlink=\"http://www.w3.org/1999/xlink\">\n",
       "<g id=\"graph0\" class=\"graph\" transform=\"scale(1 1) rotate(0) translate(4 206)\">\n",
       "<polygon fill=\"white\" stroke=\"transparent\" points=\"-4,4 -4,-206 1557,-206 1557,4 -4,4\"/>\n",
       "<!-- 2351174162800 -->\n",
       "<g id=\"node1\" class=\"node\">\n",
       "<title>2351174162800</title>\n",
       "<polygon fill=\"none\" stroke=\"black\" points=\"2,-165.5 2,-201.5 198,-201.5 198,-165.5 2,-165.5\"/>\n",
       "<text text-anchor=\"middle\" x=\"17\" y=\"-179.8\" font-family=\"Times New Roman,serif\" font-size=\"14.00\">x1</text>\n",
       "<polyline fill=\"none\" stroke=\"black\" points=\"32,-165.5 32,-201.5 \"/>\n",
       "<text text-anchor=\"middle\" x=\"72\" y=\"-179.8\" font-family=\"Times New Roman,serif\" font-size=\"14.00\">data 2.0000</text>\n",
       "<polyline fill=\"none\" stroke=\"black\" points=\"112,-165.5 112,-201.5 \"/>\n",
       "<text text-anchor=\"middle\" x=\"155\" y=\"-179.8\" font-family=\"Times New Roman,serif\" font-size=\"14.00\">grad &#45;7.5000</text>\n",
       "</g>\n",
       "<!-- 2351174160880* -->\n",
       "<g id=\"node15\" class=\"node\">\n",
       "<title>2351174160880*</title>\n",
       "<ellipse fill=\"none\" stroke=\"black\" cx=\"263\" cy=\"-128.5\" rx=\"27\" ry=\"18\"/>\n",
       "<text text-anchor=\"middle\" x=\"263\" y=\"-124.8\" font-family=\"Times New Roman,serif\" font-size=\"14.00\">*</text>\n",
       "</g>\n",
       "<!-- 2351174162800&#45;&gt;2351174160880* -->\n",
       "<g id=\"edge9\" class=\"edge\">\n",
       "<title>2351174162800&#45;&gt;2351174160880*</title>\n",
       "<path fill=\"none\" stroke=\"black\" d=\"M172.53,-165.44C181.84,-162.67 191.2,-159.67 200,-156.5 210.53,-152.71 221.75,-147.9 231.72,-143.33\"/>\n",
       "<polygon fill=\"black\" stroke=\"black\" points=\"233.25,-146.48 240.82,-139.07 230.28,-140.14 233.25,-146.48\"/>\n",
       "</g>\n",
       "<!-- 2351174125696 -->\n",
       "<g id=\"node2\" class=\"node\">\n",
       "<title>2351174125696</title>\n",
       "<polygon fill=\"none\" stroke=\"black\" points=\"672,-82.5 672,-118.5 931,-118.5 931,-82.5 672,-82.5\"/>\n",
       "<text text-anchor=\"middle\" x=\"718\" y=\"-96.8\" font-family=\"Times New Roman,serif\" font-size=\"14.00\">x1w1 + x2w2</text>\n",
       "<polyline fill=\"none\" stroke=\"black\" points=\"764,-82.5 764,-118.5 \"/>\n",
       "<text text-anchor=\"middle\" x=\"806.5\" y=\"-96.8\" font-family=\"Times New Roman,serif\" font-size=\"14.00\">data &#45;6.0000</text>\n",
       "<polyline fill=\"none\" stroke=\"black\" points=\"849,-82.5 849,-118.5 \"/>\n",
       "<text text-anchor=\"middle\" x=\"890\" y=\"-96.8\" font-family=\"Times New Roman,serif\" font-size=\"14.00\">grad 1.5000</text>\n",
       "</g>\n",
       "<!-- 2351174124400+ -->\n",
       "<g id=\"node11\" class=\"node\">\n",
       "<title>2351174124400+</title>\n",
       "<ellipse fill=\"none\" stroke=\"black\" cx=\"994\" cy=\"-72.5\" rx=\"27\" ry=\"18\"/>\n",
       "<text text-anchor=\"middle\" x=\"994\" y=\"-68.8\" font-family=\"Times New Roman,serif\" font-size=\"14.00\">+</text>\n",
       "</g>\n",
       "<!-- 2351174125696&#45;&gt;2351174124400+ -->\n",
       "<g id=\"edge10\" class=\"edge\">\n",
       "<title>2351174125696&#45;&gt;2351174124400+</title>\n",
       "<path fill=\"none\" stroke=\"black\" d=\"M925.03,-82.49C936.7,-80.77 947.77,-79.15 957.46,-77.72\"/>\n",
       "<polygon fill=\"black\" stroke=\"black\" points=\"958.01,-81.18 967.4,-76.26 957,-74.25 958.01,-81.18\"/>\n",
       "</g>\n",
       "<!-- 2351174125696+ -->\n",
       "<g id=\"node3\" class=\"node\">\n",
       "<title>2351174125696+</title>\n",
       "<ellipse fill=\"none\" stroke=\"black\" cx=\"609\" cy=\"-100.5\" rx=\"27\" ry=\"18\"/>\n",
       "<text text-anchor=\"middle\" x=\"609\" y=\"-96.8\" font-family=\"Times New Roman,serif\" font-size=\"14.00\">+</text>\n",
       "</g>\n",
       "<!-- 2351174125696+&#45;&gt;2351174125696 -->\n",
       "<g id=\"edge1\" class=\"edge\">\n",
       "<title>2351174125696+&#45;&gt;2351174125696</title>\n",
       "<path fill=\"none\" stroke=\"black\" d=\"M636.09,-100.5C643.58,-100.5 652.3,-100.5 661.75,-100.5\"/>\n",
       "<polygon fill=\"black\" stroke=\"black\" points=\"661.84,-104 671.84,-100.5 661.84,-97 661.84,-104\"/>\n",
       "</g>\n",
       "<!-- 2351174125792 -->\n",
       "<g id=\"node4\" class=\"node\">\n",
       "<title>2351174125792</title>\n",
       "<polygon fill=\"none\" stroke=\"black\" points=\"328.5,-55.5 328.5,-91.5 543.5,-91.5 543.5,-55.5 328.5,-55.5\"/>\n",
       "<text text-anchor=\"middle\" x=\"355\" y=\"-69.8\" font-family=\"Times New Roman,serif\" font-size=\"14.00\">x2*w2</text>\n",
       "<polyline fill=\"none\" stroke=\"black\" points=\"381.5,-55.5 381.5,-91.5 \"/>\n",
       "<text text-anchor=\"middle\" x=\"421.5\" y=\"-69.8\" font-family=\"Times New Roman,serif\" font-size=\"14.00\">data 0.0000</text>\n",
       "<polyline fill=\"none\" stroke=\"black\" points=\"461.5,-55.5 461.5,-91.5 \"/>\n",
       "<text text-anchor=\"middle\" x=\"502.5\" y=\"-69.8\" font-family=\"Times New Roman,serif\" font-size=\"14.00\">grad 2.0000</text>\n",
       "</g>\n",
       "<!-- 2351174125792&#45;&gt;2351174125696+ -->\n",
       "<g id=\"edge7\" class=\"edge\">\n",
       "<title>2351174125792&#45;&gt;2351174125696+</title>\n",
       "<path fill=\"none\" stroke=\"black\" d=\"M543.84,-90.37C554.01,-91.98 563.76,-93.51 572.44,-94.89\"/>\n",
       "<polygon fill=\"black\" stroke=\"black\" points=\"572.05,-98.37 582.47,-96.47 573.14,-91.45 572.05,-98.37\"/>\n",
       "</g>\n",
       "<!-- 2351174125792* -->\n",
       "<g id=\"node5\" class=\"node\">\n",
       "<title>2351174125792*</title>\n",
       "<ellipse fill=\"none\" stroke=\"black\" cx=\"263\" cy=\"-73.5\" rx=\"27\" ry=\"18\"/>\n",
       "<text text-anchor=\"middle\" x=\"263\" y=\"-69.8\" font-family=\"Times New Roman,serif\" font-size=\"14.00\">*</text>\n",
       "</g>\n",
       "<!-- 2351174125792*&#45;&gt;2351174125792 -->\n",
       "<g id=\"edge2\" class=\"edge\">\n",
       "<title>2351174125792*&#45;&gt;2351174125792</title>\n",
       "<path fill=\"none\" stroke=\"black\" d=\"M290.34,-73.5C298.51,-73.5 308.08,-73.5 318.36,-73.5\"/>\n",
       "<polygon fill=\"black\" stroke=\"black\" points=\"318.39,-77 328.39,-73.5 318.39,-70 318.39,-77\"/>\n",
       "</g>\n",
       "<!-- 2351174124256 -->\n",
       "<g id=\"node6\" class=\"node\">\n",
       "<title>2351174124256</title>\n",
       "<polygon fill=\"none\" stroke=\"black\" points=\"1368,-54.5 1368,-90.5 1553,-90.5 1553,-54.5 1368,-54.5\"/>\n",
       "<text text-anchor=\"middle\" x=\"1379.5\" y=\"-68.8\" font-family=\"Times New Roman,serif\" font-size=\"14.00\">o</text>\n",
       "<polyline fill=\"none\" stroke=\"black\" points=\"1391,-54.5 1391,-90.5 \"/>\n",
       "<text text-anchor=\"middle\" x=\"1431\" y=\"-68.8\" font-family=\"Times New Roman,serif\" font-size=\"14.00\">data 0.7071</text>\n",
       "<polyline fill=\"none\" stroke=\"black\" points=\"1471,-54.5 1471,-90.5 \"/>\n",
       "<text text-anchor=\"middle\" x=\"1512\" y=\"-68.8\" font-family=\"Times New Roman,serif\" font-size=\"14.00\">grad 1.0000</text>\n",
       "</g>\n",
       "<!-- 2351174124256tanh -->\n",
       "<g id=\"node7\" class=\"node\">\n",
       "<title>2351174124256tanh</title>\n",
       "<ellipse fill=\"none\" stroke=\"black\" cx=\"1305\" cy=\"-72.5\" rx=\"27\" ry=\"18\"/>\n",
       "<text text-anchor=\"middle\" x=\"1305\" y=\"-68.8\" font-family=\"Times New Roman,serif\" font-size=\"14.00\">tanh</text>\n",
       "</g>\n",
       "<!-- 2351174124256tanh&#45;&gt;2351174124256 -->\n",
       "<g id=\"edge3\" class=\"edge\">\n",
       "<title>2351174124256tanh&#45;&gt;2351174124256</title>\n",
       "<path fill=\"none\" stroke=\"black\" d=\"M1332.04,-72.5C1339.58,-72.5 1348.3,-72.5 1357.57,-72.5\"/>\n",
       "<polygon fill=\"black\" stroke=\"black\" points=\"1357.81,-76 1367.81,-72.5 1357.81,-69 1357.81,-76\"/>\n",
       "</g>\n",
       "<!-- 2351174162704 -->\n",
       "<g id=\"node8\" class=\"node\">\n",
       "<title>2351174162704</title>\n",
       "<polygon fill=\"none\" stroke=\"black\" points=\"709,-27.5 709,-63.5 894,-63.5 894,-27.5 709,-27.5\"/>\n",
       "<text text-anchor=\"middle\" x=\"720.5\" y=\"-41.8\" font-family=\"Times New Roman,serif\" font-size=\"14.00\">b</text>\n",
       "<polyline fill=\"none\" stroke=\"black\" points=\"732,-27.5 732,-63.5 \"/>\n",
       "<text text-anchor=\"middle\" x=\"772\" y=\"-41.8\" font-family=\"Times New Roman,serif\" font-size=\"14.00\">data 6.8814</text>\n",
       "<polyline fill=\"none\" stroke=\"black\" points=\"812,-27.5 812,-63.5 \"/>\n",
       "<text text-anchor=\"middle\" x=\"853\" y=\"-41.8\" font-family=\"Times New Roman,serif\" font-size=\"14.00\">grad 1.5000</text>\n",
       "</g>\n",
       "<!-- 2351174162704&#45;&gt;2351174124400+ -->\n",
       "<g id=\"edge14\" class=\"edge\">\n",
       "<title>2351174162704&#45;&gt;2351174124400+</title>\n",
       "<path fill=\"none\" stroke=\"black\" d=\"M894.12,-58.49C916.59,-61.67 939.33,-64.89 957.33,-67.44\"/>\n",
       "<polygon fill=\"black\" stroke=\"black\" points=\"956.95,-70.93 967.34,-68.86 957.93,-63.99 956.95,-70.93\"/>\n",
       "</g>\n",
       "<!-- 2351174162752 -->\n",
       "<g id=\"node9\" class=\"node\">\n",
       "<title>2351174162752</title>\n",
       "<polygon fill=\"none\" stroke=\"black\" points=\"0,-110.5 0,-146.5 200,-146.5 200,-110.5 0,-110.5\"/>\n",
       "<text text-anchor=\"middle\" x=\"16.5\" y=\"-124.8\" font-family=\"Times New Roman,serif\" font-size=\"14.00\">w1</text>\n",
       "<polyline fill=\"none\" stroke=\"black\" points=\"33,-110.5 33,-146.5 \"/>\n",
       "<text text-anchor=\"middle\" x=\"75.5\" y=\"-124.8\" font-family=\"Times New Roman,serif\" font-size=\"14.00\">data &#45;3.0000</text>\n",
       "<polyline fill=\"none\" stroke=\"black\" points=\"118,-110.5 118,-146.5 \"/>\n",
       "<text text-anchor=\"middle\" x=\"159\" y=\"-124.8\" font-family=\"Times New Roman,serif\" font-size=\"14.00\">grad 5.0000</text>\n",
       "</g>\n",
       "<!-- 2351174162752&#45;&gt;2351174160880* -->\n",
       "<g id=\"edge12\" class=\"edge\">\n",
       "<title>2351174162752&#45;&gt;2351174160880*</title>\n",
       "<path fill=\"none\" stroke=\"black\" d=\"M200.21,-128.5C209.2,-128.5 217.86,-128.5 225.7,-128.5\"/>\n",
       "<polygon fill=\"black\" stroke=\"black\" points=\"225.85,-132 235.85,-128.5 225.85,-125 225.85,-132\"/>\n",
       "</g>\n",
       "<!-- 2351174124400 -->\n",
       "<g id=\"node10\" class=\"node\">\n",
       "<title>2351174124400</title>\n",
       "<polygon fill=\"none\" stroke=\"black\" points=\"1057,-54.5 1057,-90.5 1242,-90.5 1242,-54.5 1057,-54.5\"/>\n",
       "<text text-anchor=\"middle\" x=\"1068.5\" y=\"-68.8\" font-family=\"Times New Roman,serif\" font-size=\"14.00\">n</text>\n",
       "<polyline fill=\"none\" stroke=\"black\" points=\"1080,-54.5 1080,-90.5 \"/>\n",
       "<text text-anchor=\"middle\" x=\"1120\" y=\"-68.8\" font-family=\"Times New Roman,serif\" font-size=\"14.00\">data 0.8814</text>\n",
       "<polyline fill=\"none\" stroke=\"black\" points=\"1160,-54.5 1160,-90.5 \"/>\n",
       "<text text-anchor=\"middle\" x=\"1201\" y=\"-68.8\" font-family=\"Times New Roman,serif\" font-size=\"14.00\">grad 1.0000</text>\n",
       "</g>\n",
       "<!-- 2351174124400&#45;&gt;2351174124256tanh -->\n",
       "<g id=\"edge8\" class=\"edge\">\n",
       "<title>2351174124400&#45;&gt;2351174124256tanh</title>\n",
       "<path fill=\"none\" stroke=\"black\" d=\"M1242.01,-72.5C1251.01,-72.5 1259.74,-72.5 1267.66,-72.5\"/>\n",
       "<polygon fill=\"black\" stroke=\"black\" points=\"1267.91,-76 1277.91,-72.5 1267.91,-69 1267.91,-76\"/>\n",
       "</g>\n",
       "<!-- 2351174124400+&#45;&gt;2351174124400 -->\n",
       "<g id=\"edge4\" class=\"edge\">\n",
       "<title>2351174124400+&#45;&gt;2351174124400</title>\n",
       "<path fill=\"none\" stroke=\"black\" d=\"M1021.04,-72.5C1028.58,-72.5 1037.3,-72.5 1046.57,-72.5\"/>\n",
       "<polygon fill=\"black\" stroke=\"black\" points=\"1046.81,-76 1056.81,-72.5 1046.81,-69 1046.81,-76\"/>\n",
       "</g>\n",
       "<!-- 2351174162848 -->\n",
       "<g id=\"node12\" class=\"node\">\n",
       "<title>2351174162848</title>\n",
       "<polygon fill=\"none\" stroke=\"black\" points=\"2.5,-55.5 2.5,-91.5 197.5,-91.5 197.5,-55.5 2.5,-55.5\"/>\n",
       "<text text-anchor=\"middle\" x=\"19\" y=\"-69.8\" font-family=\"Times New Roman,serif\" font-size=\"14.00\">w2</text>\n",
       "<polyline fill=\"none\" stroke=\"black\" points=\"35.5,-55.5 35.5,-91.5 \"/>\n",
       "<text text-anchor=\"middle\" x=\"75.5\" y=\"-69.8\" font-family=\"Times New Roman,serif\" font-size=\"14.00\">data 1.0000</text>\n",
       "<polyline fill=\"none\" stroke=\"black\" points=\"115.5,-55.5 115.5,-91.5 \"/>\n",
       "<text text-anchor=\"middle\" x=\"156.5\" y=\"-69.8\" font-family=\"Times New Roman,serif\" font-size=\"14.00\">grad 0.0000</text>\n",
       "</g>\n",
       "<!-- 2351174162848&#45;&gt;2351174125792* -->\n",
       "<g id=\"edge6\" class=\"edge\">\n",
       "<title>2351174162848&#45;&gt;2351174125792*</title>\n",
       "<path fill=\"none\" stroke=\"black\" d=\"M197.91,-73.5C207.65,-73.5 217.05,-73.5 225.52,-73.5\"/>\n",
       "<polygon fill=\"black\" stroke=\"black\" points=\"225.7,-77 235.7,-73.5 225.7,-70 225.7,-77\"/>\n",
       "</g>\n",
       "<!-- 2351174162896 -->\n",
       "<g id=\"node13\" class=\"node\">\n",
       "<title>2351174162896</title>\n",
       "<polygon fill=\"none\" stroke=\"black\" points=\"4,-0.5 4,-36.5 196,-36.5 196,-0.5 4,-0.5\"/>\n",
       "<text text-anchor=\"middle\" x=\"19\" y=\"-14.8\" font-family=\"Times New Roman,serif\" font-size=\"14.00\">x2</text>\n",
       "<polyline fill=\"none\" stroke=\"black\" points=\"34,-0.5 34,-36.5 \"/>\n",
       "<text text-anchor=\"middle\" x=\"74\" y=\"-14.8\" font-family=\"Times New Roman,serif\" font-size=\"14.00\">data 0.0000</text>\n",
       "<polyline fill=\"none\" stroke=\"black\" points=\"114,-0.5 114,-36.5 \"/>\n",
       "<text text-anchor=\"middle\" x=\"155\" y=\"-14.8\" font-family=\"Times New Roman,serif\" font-size=\"14.00\">grad 2.5000</text>\n",
       "</g>\n",
       "<!-- 2351174162896&#45;&gt;2351174125792* -->\n",
       "<g id=\"edge13\" class=\"edge\">\n",
       "<title>2351174162896&#45;&gt;2351174125792*</title>\n",
       "<path fill=\"none\" stroke=\"black\" d=\"M169.28,-36.5C179.65,-39.61 190.16,-42.98 200,-46.5 210.28,-50.17 221.28,-54.74 231.11,-59.07\"/>\n",
       "<polygon fill=\"black\" stroke=\"black\" points=\"229.93,-62.37 240.48,-63.27 232.79,-55.99 229.93,-62.37\"/>\n",
       "</g>\n",
       "<!-- 2351174160880 -->\n",
       "<g id=\"node14\" class=\"node\">\n",
       "<title>2351174160880</title>\n",
       "<polygon fill=\"none\" stroke=\"black\" points=\"326,-110.5 326,-146.5 546,-146.5 546,-110.5 326,-110.5\"/>\n",
       "<text text-anchor=\"middle\" x=\"352.5\" y=\"-124.8\" font-family=\"Times New Roman,serif\" font-size=\"14.00\">x1*w1</text>\n",
       "<polyline fill=\"none\" stroke=\"black\" points=\"379,-110.5 379,-146.5 \"/>\n",
       "<text text-anchor=\"middle\" x=\"421.5\" y=\"-124.8\" font-family=\"Times New Roman,serif\" font-size=\"14.00\">data &#45;6.0000</text>\n",
       "<polyline fill=\"none\" stroke=\"black\" points=\"464,-110.5 464,-146.5 \"/>\n",
       "<text text-anchor=\"middle\" x=\"505\" y=\"-124.8\" font-family=\"Times New Roman,serif\" font-size=\"14.00\">grad 2.0000</text>\n",
       "</g>\n",
       "<!-- 2351174160880&#45;&gt;2351174125696+ -->\n",
       "<g id=\"edge11\" class=\"edge\">\n",
       "<title>2351174160880&#45;&gt;2351174125696+</title>\n",
       "<path fill=\"none\" stroke=\"black\" d=\"M546.27,-110.61C555.64,-109.07 564.6,-107.61 572.65,-106.29\"/>\n",
       "<polygon fill=\"black\" stroke=\"black\" points=\"573.35,-109.72 582.65,-104.65 572.22,-102.81 573.35,-109.72\"/>\n",
       "</g>\n",
       "<!-- 2351174160880*&#45;&gt;2351174160880 -->\n",
       "<g id=\"edge5\" class=\"edge\">\n",
       "<title>2351174160880*&#45;&gt;2351174160880</title>\n",
       "<path fill=\"none\" stroke=\"black\" d=\"M290.34,-128.5C297.77,-128.5 306.37,-128.5 315.6,-128.5\"/>\n",
       "<polygon fill=\"black\" stroke=\"black\" points=\"315.84,-132 325.84,-128.5 315.84,-125 315.84,-132\"/>\n",
       "</g>\n",
       "</g>\n",
       "</svg>\n"
      ],
      "text/plain": [
       "<graphviz.graphs.Digraph at 0x2236cf79430>"
      ]
     },
     "execution_count": 168,
     "metadata": {},
     "output_type": "execute_result"
    }
   ],
   "source": [
    "o.backward()\n",
    "draw_dot(o)"
   ]
  },
  {
   "cell_type": "markdown",
   "metadata": {},
   "source": [
    "### defining the tanh in a different way"
   ]
  },
  {
   "cell_type": "code",
   "execution_count": 169,
   "metadata": {},
   "outputs": [
    {
     "data": {
      "image/svg+xml": [
       "<?xml version=\"1.0\" encoding=\"UTF-8\" standalone=\"no\"?>\n",
       "<!DOCTYPE svg PUBLIC \"-//W3C//DTD SVG 1.1//EN\"\n",
       " \"http://www.w3.org/Graphics/SVG/1.1/DTD/svg11.dtd\">\n",
       "<!-- Generated by graphviz version 2.50.0 (0)\n",
       " -->\n",
       "<!-- Pages: 1 -->\n",
       "<svg width=\"2930pt\" height=\"239pt\"\n",
       " viewBox=\"0.00 0.00 2930.00 239.00\" xmlns=\"http://www.w3.org/2000/svg\" xmlns:xlink=\"http://www.w3.org/1999/xlink\">\n",
       "<g id=\"graph0\" class=\"graph\" transform=\"scale(1 1) rotate(0) translate(4 235)\">\n",
       "<polygon fill=\"white\" stroke=\"transparent\" points=\"-4,4 -4,-235 2926,-235 2926,4 -4,4\"/>\n",
       "<!-- 2351174060544 -->\n",
       "<g id=\"node1\" class=\"node\">\n",
       "<title>2351174060544</title>\n",
       "<polygon fill=\"none\" stroke=\"black\" points=\"2.5,-194.5 2.5,-230.5 197.5,-230.5 197.5,-194.5 2.5,-194.5\"/>\n",
       "<text text-anchor=\"middle\" x=\"19\" y=\"-208.8\" font-family=\"Times New Roman,serif\" font-size=\"14.00\">w2</text>\n",
       "<polyline fill=\"none\" stroke=\"black\" points=\"35.5,-194.5 35.5,-230.5 \"/>\n",
       "<text text-anchor=\"middle\" x=\"75.5\" y=\"-208.8\" font-family=\"Times New Roman,serif\" font-size=\"14.00\">data 1.0000</text>\n",
       "<polyline fill=\"none\" stroke=\"black\" points=\"115.5,-194.5 115.5,-230.5 \"/>\n",
       "<text text-anchor=\"middle\" x=\"156.5\" y=\"-208.8\" font-family=\"Times New Roman,serif\" font-size=\"14.00\">grad 0.0000</text>\n",
       "</g>\n",
       "<!-- 2351174212768* -->\n",
       "<g id=\"node12\" class=\"node\">\n",
       "<title>2351174212768*</title>\n",
       "<ellipse fill=\"none\" stroke=\"black\" cx=\"263\" cy=\"-157.5\" rx=\"27\" ry=\"18\"/>\n",
       "<text text-anchor=\"middle\" x=\"263\" y=\"-153.8\" font-family=\"Times New Roman,serif\" font-size=\"14.00\">*</text>\n",
       "</g>\n",
       "<!-- 2351174060544&#45;&gt;2351174212768* -->\n",
       "<g id=\"edge12\" class=\"edge\">\n",
       "<title>2351174060544&#45;&gt;2351174212768*</title>\n",
       "<path fill=\"none\" stroke=\"black\" d=\"M172.53,-194.44C181.84,-191.67 191.2,-188.67 200,-185.5 210.53,-181.71 221.75,-176.9 231.72,-172.33\"/>\n",
       "<polygon fill=\"black\" stroke=\"black\" points=\"233.25,-175.48 240.82,-168.07 230.28,-169.14 233.25,-175.48\"/>\n",
       "</g>\n",
       "<!-- 2351174212672 -->\n",
       "<g id=\"node2\" class=\"node\">\n",
       "<title>2351174212672</title>\n",
       "<polygon fill=\"none\" stroke=\"black\" points=\"326,-84.5 326,-120.5 546,-120.5 546,-84.5 326,-84.5\"/>\n",
       "<text text-anchor=\"middle\" x=\"352.5\" y=\"-98.8\" font-family=\"Times New Roman,serif\" font-size=\"14.00\">x1*w1</text>\n",
       "<polyline fill=\"none\" stroke=\"black\" points=\"379,-84.5 379,-120.5 \"/>\n",
       "<text text-anchor=\"middle\" x=\"421.5\" y=\"-98.8\" font-family=\"Times New Roman,serif\" font-size=\"14.00\">data &#45;6.0000</text>\n",
       "<polyline fill=\"none\" stroke=\"black\" points=\"464,-84.5 464,-120.5 \"/>\n",
       "<text text-anchor=\"middle\" x=\"505\" y=\"-98.8\" font-family=\"Times New Roman,serif\" font-size=\"14.00\">grad 0.5000</text>\n",
       "</g>\n",
       "<!-- 2351174212288+ -->\n",
       "<g id=\"node14\" class=\"node\">\n",
       "<title>2351174212288+</title>\n",
       "<ellipse fill=\"none\" stroke=\"black\" cx=\"609\" cy=\"-129.5\" rx=\"27\" ry=\"18\"/>\n",
       "<text text-anchor=\"middle\" x=\"609\" y=\"-125.8\" font-family=\"Times New Roman,serif\" font-size=\"14.00\">+</text>\n",
       "</g>\n",
       "<!-- 2351174212672&#45;&gt;2351174212288+ -->\n",
       "<g id=\"edge14\" class=\"edge\">\n",
       "<title>2351174212672&#45;&gt;2351174212288+</title>\n",
       "<path fill=\"none\" stroke=\"black\" d=\"M546.27,-119.75C555.64,-121.23 564.6,-122.65 572.65,-123.92\"/>\n",
       "<polygon fill=\"black\" stroke=\"black\" points=\"572.23,-127.4 582.65,-125.5 573.32,-120.48 572.23,-127.4\"/>\n",
       "</g>\n",
       "<!-- 2351174212672* -->\n",
       "<g id=\"node3\" class=\"node\">\n",
       "<title>2351174212672*</title>\n",
       "<ellipse fill=\"none\" stroke=\"black\" cx=\"263\" cy=\"-102.5\" rx=\"27\" ry=\"18\"/>\n",
       "<text text-anchor=\"middle\" x=\"263\" y=\"-98.8\" font-family=\"Times New Roman,serif\" font-size=\"14.00\">*</text>\n",
       "</g>\n",
       "<!-- 2351174212672*&#45;&gt;2351174212672 -->\n",
       "<g id=\"edge1\" class=\"edge\">\n",
       "<title>2351174212672*&#45;&gt;2351174212672</title>\n",
       "<path fill=\"none\" stroke=\"black\" d=\"M290.34,-102.5C297.77,-102.5 306.37,-102.5 315.6,-102.5\"/>\n",
       "<polygon fill=\"black\" stroke=\"black\" points=\"315.84,-106 325.84,-102.5 315.84,-99 315.84,-106\"/>\n",
       "</g>\n",
       "<!-- 2351174213056 -->\n",
       "<g id=\"node4\" class=\"node\">\n",
       "<title>2351174213056</title>\n",
       "<polygon fill=\"none\" stroke=\"black\" points=\"2,-84.5 2,-120.5 198,-120.5 198,-84.5 2,-84.5\"/>\n",
       "<text text-anchor=\"middle\" x=\"17\" y=\"-98.8\" font-family=\"Times New Roman,serif\" font-size=\"14.00\">x1</text>\n",
       "<polyline fill=\"none\" stroke=\"black\" points=\"32,-84.5 32,-120.5 \"/>\n",
       "<text text-anchor=\"middle\" x=\"72\" y=\"-98.8\" font-family=\"Times New Roman,serif\" font-size=\"14.00\">data 2.0000</text>\n",
       "<polyline fill=\"none\" stroke=\"black\" points=\"112,-84.5 112,-120.5 \"/>\n",
       "<text text-anchor=\"middle\" x=\"155\" y=\"-98.8\" font-family=\"Times New Roman,serif\" font-size=\"14.00\">grad &#45;1.5000</text>\n",
       "</g>\n",
       "<!-- 2351174213056&#45;&gt;2351174212672* -->\n",
       "<g id=\"edge28\" class=\"edge\">\n",
       "<title>2351174213056&#45;&gt;2351174212672*</title>\n",
       "<path fill=\"none\" stroke=\"black\" d=\"M198.37,-102.5C208.05,-102.5 217.4,-102.5 225.8,-102.5\"/>\n",
       "<polygon fill=\"black\" stroke=\"black\" points=\"225.91,-106 235.91,-102.5 225.91,-99 225.91,-106\"/>\n",
       "</g>\n",
       "<!-- 2351174143088 -->\n",
       "<g id=\"node5\" class=\"node\">\n",
       "<title>2351174143088</title>\n",
       "<polygon fill=\"none\" stroke=\"black\" points=\"1368,-55.5 1368,-91.5 1550,-91.5 1550,-55.5 1368,-55.5\"/>\n",
       "<text text-anchor=\"middle\" x=\"1378\" y=\"-69.8\" font-family=\"Times New Roman,serif\" font-size=\"14.00\"> </text>\n",
       "<polyline fill=\"none\" stroke=\"black\" points=\"1388,-55.5 1388,-91.5 \"/>\n",
       "<text text-anchor=\"middle\" x=\"1428\" y=\"-69.8\" font-family=\"Times New Roman,serif\" font-size=\"14.00\">data 1.7627</text>\n",
       "<polyline fill=\"none\" stroke=\"black\" points=\"1468,-55.5 1468,-91.5 \"/>\n",
       "<text text-anchor=\"middle\" x=\"1509\" y=\"-69.8\" font-family=\"Times New Roman,serif\" font-size=\"14.00\">grad 0.2500</text>\n",
       "</g>\n",
       "<!-- 2351174142896exp -->\n",
       "<g id=\"node26\" class=\"node\">\n",
       "<title>2351174142896exp</title>\n",
       "<ellipse fill=\"none\" stroke=\"black\" cx=\"1613\" cy=\"-73.5\" rx=\"27\" ry=\"18\"/>\n",
       "<text text-anchor=\"middle\" x=\"1613\" y=\"-69.8\" font-family=\"Times New Roman,serif\" font-size=\"14.00\">exp</text>\n",
       "</g>\n",
       "<!-- 2351174143088&#45;&gt;2351174142896exp -->\n",
       "<g id=\"edge27\" class=\"edge\">\n",
       "<title>2351174143088&#45;&gt;2351174142896exp</title>\n",
       "<path fill=\"none\" stroke=\"black\" d=\"M1550.18,-73.5C1559.14,-73.5 1567.83,-73.5 1575.73,-73.5\"/>\n",
       "<polygon fill=\"black\" stroke=\"black\" points=\"1575.96,-77 1585.96,-73.5 1575.96,-70 1575.96,-77\"/>\n",
       "</g>\n",
       "<!-- 2351174143088* -->\n",
       "<g id=\"node6\" class=\"node\">\n",
       "<title>2351174143088*</title>\n",
       "<ellipse fill=\"none\" stroke=\"black\" cx=\"1305\" cy=\"-73.5\" rx=\"27\" ry=\"18\"/>\n",
       "<text text-anchor=\"middle\" x=\"1305\" y=\"-69.8\" font-family=\"Times New Roman,serif\" font-size=\"14.00\">*</text>\n",
       "</g>\n",
       "<!-- 2351174143088*&#45;&gt;2351174143088 -->\n",
       "<g id=\"edge2\" class=\"edge\">\n",
       "<title>2351174143088*&#45;&gt;2351174143088</title>\n",
       "<path fill=\"none\" stroke=\"black\" d=\"M1332.13,-73.5C1339.67,-73.5 1348.39,-73.5 1357.64,-73.5\"/>\n",
       "<polygon fill=\"black\" stroke=\"black\" points=\"1357.87,-77 1367.87,-73.5 1357.87,-70 1357.87,-77\"/>\n",
       "</g>\n",
       "<!-- 2351174143616 -->\n",
       "<g id=\"node7\" class=\"node\">\n",
       "<title>2351174143616</title>\n",
       "<polygon fill=\"none\" stroke=\"black\" points=\"2429,-31.5 2429,-67.5 2611,-67.5 2611,-31.5 2429,-31.5\"/>\n",
       "<text text-anchor=\"middle\" x=\"2439\" y=\"-45.8\" font-family=\"Times New Roman,serif\" font-size=\"14.00\"> </text>\n",
       "<polyline fill=\"none\" stroke=\"black\" points=\"2449,-31.5 2449,-67.5 \"/>\n",
       "<text text-anchor=\"middle\" x=\"2489\" y=\"-45.8\" font-family=\"Times New Roman,serif\" font-size=\"14.00\">data 0.1464</text>\n",
       "<polyline fill=\"none\" stroke=\"black\" points=\"2529,-31.5 2529,-67.5 \"/>\n",
       "<text text-anchor=\"middle\" x=\"2570\" y=\"-45.8\" font-family=\"Times New Roman,serif\" font-size=\"14.00\">grad 4.8284</text>\n",
       "</g>\n",
       "<!-- 2351174143808* -->\n",
       "<g id=\"node21\" class=\"node\">\n",
       "<title>2351174143808*</title>\n",
       "<ellipse fill=\"none\" stroke=\"black\" cx=\"2674\" cy=\"-72.5\" rx=\"27\" ry=\"18\"/>\n",
       "<text text-anchor=\"middle\" x=\"2674\" y=\"-68.8\" font-family=\"Times New Roman,serif\" font-size=\"14.00\">*</text>\n",
       "</g>\n",
       "<!-- 2351174143616&#45;&gt;2351174143808* -->\n",
       "<g id=\"edge11\" class=\"edge\">\n",
       "<title>2351174143616&#45;&gt;2351174143808*</title>\n",
       "<path fill=\"none\" stroke=\"black\" d=\"M2611.18,-63.15C2620.42,-64.54 2629.38,-65.9 2637.47,-67.12\"/>\n",
       "<polygon fill=\"black\" stroke=\"black\" points=\"2637.15,-70.61 2647.56,-68.65 2638.19,-63.69 2637.15,-70.61\"/>\n",
       "</g>\n",
       "<!-- 2351174143616**&#45;1 -->\n",
       "<g id=\"node8\" class=\"node\">\n",
       "<title>2351174143616**&#45;1</title>\n",
       "<ellipse fill=\"none\" stroke=\"black\" cx=\"2302\" cy=\"-45.5\" rx=\"27\" ry=\"18\"/>\n",
       "<text text-anchor=\"middle\" x=\"2302\" y=\"-41.8\" font-family=\"Times New Roman,serif\" font-size=\"14.00\">**&#45;1</text>\n",
       "</g>\n",
       "<!-- 2351174143616**&#45;1&#45;&gt;2351174143616 -->\n",
       "<g id=\"edge3\" class=\"edge\">\n",
       "<title>2351174143616**&#45;1&#45;&gt;2351174143616</title>\n",
       "<path fill=\"none\" stroke=\"black\" d=\"M2329.05,-45.98C2351.53,-46.4 2385.48,-47.03 2418.5,-47.64\"/>\n",
       "<polygon fill=\"black\" stroke=\"black\" points=\"2418.64,-51.14 2428.7,-47.83 2418.77,-44.14 2418.64,-51.14\"/>\n",
       "</g>\n",
       "<!-- 2351174140064 -->\n",
       "<g id=\"node9\" class=\"node\">\n",
       "<title>2351174140064</title>\n",
       "<polygon fill=\"none\" stroke=\"black\" points=\"1057,-83.5 1057,-119.5 1242,-119.5 1242,-83.5 1057,-83.5\"/>\n",
       "<text text-anchor=\"middle\" x=\"1068.5\" y=\"-97.8\" font-family=\"Times New Roman,serif\" font-size=\"14.00\">n</text>\n",
       "<polyline fill=\"none\" stroke=\"black\" points=\"1080,-83.5 1080,-119.5 \"/>\n",
       "<text text-anchor=\"middle\" x=\"1120\" y=\"-97.8\" font-family=\"Times New Roman,serif\" font-size=\"14.00\">data 0.8814</text>\n",
       "<polyline fill=\"none\" stroke=\"black\" points=\"1160,-83.5 1160,-119.5 \"/>\n",
       "<text text-anchor=\"middle\" x=\"1201\" y=\"-97.8\" font-family=\"Times New Roman,serif\" font-size=\"14.00\">grad 0.5000</text>\n",
       "</g>\n",
       "<!-- 2351174140064&#45;&gt;2351174143088* -->\n",
       "<g id=\"edge25\" class=\"edge\">\n",
       "<title>2351174140064&#45;&gt;2351174143088*</title>\n",
       "<path fill=\"none\" stroke=\"black\" d=\"M1242.01,-84.81C1251.49,-83.08 1260.66,-81.41 1268.9,-79.9\"/>\n",
       "<polygon fill=\"black\" stroke=\"black\" points=\"1269.6,-83.33 1278.81,-78.09 1268.35,-76.45 1269.6,-83.33\"/>\n",
       "</g>\n",
       "<!-- 2351174140064+ -->\n",
       "<g id=\"node10\" class=\"node\">\n",
       "<title>2351174140064+</title>\n",
       "<ellipse fill=\"none\" stroke=\"black\" cx=\"994\" cy=\"-101.5\" rx=\"27\" ry=\"18\"/>\n",
       "<text text-anchor=\"middle\" x=\"994\" y=\"-97.8\" font-family=\"Times New Roman,serif\" font-size=\"14.00\">+</text>\n",
       "</g>\n",
       "<!-- 2351174140064+&#45;&gt;2351174140064 -->\n",
       "<g id=\"edge4\" class=\"edge\">\n",
       "<title>2351174140064+&#45;&gt;2351174140064</title>\n",
       "<path fill=\"none\" stroke=\"black\" d=\"M1021.04,-101.5C1028.58,-101.5 1037.3,-101.5 1046.57,-101.5\"/>\n",
       "<polygon fill=\"black\" stroke=\"black\" points=\"1046.81,-105 1056.81,-101.5 1046.81,-98 1046.81,-105\"/>\n",
       "</g>\n",
       "<!-- 2351174212768 -->\n",
       "<g id=\"node11\" class=\"node\">\n",
       "<title>2351174212768</title>\n",
       "<polygon fill=\"none\" stroke=\"black\" points=\"328.5,-139.5 328.5,-175.5 543.5,-175.5 543.5,-139.5 328.5,-139.5\"/>\n",
       "<text text-anchor=\"middle\" x=\"355\" y=\"-153.8\" font-family=\"Times New Roman,serif\" font-size=\"14.00\">x2*w2</text>\n",
       "<polyline fill=\"none\" stroke=\"black\" points=\"381.5,-139.5 381.5,-175.5 \"/>\n",
       "<text text-anchor=\"middle\" x=\"421.5\" y=\"-153.8\" font-family=\"Times New Roman,serif\" font-size=\"14.00\">data 0.0000</text>\n",
       "<polyline fill=\"none\" stroke=\"black\" points=\"461.5,-139.5 461.5,-175.5 \"/>\n",
       "<text text-anchor=\"middle\" x=\"502.5\" y=\"-153.8\" font-family=\"Times New Roman,serif\" font-size=\"14.00\">grad 0.5000</text>\n",
       "</g>\n",
       "<!-- 2351174212768&#45;&gt;2351174212288+ -->\n",
       "<g id=\"edge23\" class=\"edge\">\n",
       "<title>2351174212768&#45;&gt;2351174212288+</title>\n",
       "<path fill=\"none\" stroke=\"black\" d=\"M543.84,-140.01C554.01,-138.34 563.76,-136.74 572.44,-135.32\"/>\n",
       "<polygon fill=\"black\" stroke=\"black\" points=\"573.17,-138.75 582.47,-133.68 572.04,-131.84 573.17,-138.75\"/>\n",
       "</g>\n",
       "<!-- 2351174212768*&#45;&gt;2351174212768 -->\n",
       "<g id=\"edge5\" class=\"edge\">\n",
       "<title>2351174212768*&#45;&gt;2351174212768</title>\n",
       "<path fill=\"none\" stroke=\"black\" d=\"M290.34,-157.5C298.51,-157.5 308.08,-157.5 318.36,-157.5\"/>\n",
       "<polygon fill=\"black\" stroke=\"black\" points=\"318.39,-161 328.39,-157.5 318.39,-154 318.39,-161\"/>\n",
       "</g>\n",
       "<!-- 2351174212288 -->\n",
       "<g id=\"node13\" class=\"node\">\n",
       "<title>2351174212288</title>\n",
       "<polygon fill=\"none\" stroke=\"black\" points=\"672,-111.5 672,-147.5 931,-147.5 931,-111.5 672,-111.5\"/>\n",
       "<text text-anchor=\"middle\" x=\"718\" y=\"-125.8\" font-family=\"Times New Roman,serif\" font-size=\"14.00\">x1w1 + x2w2</text>\n",
       "<polyline fill=\"none\" stroke=\"black\" points=\"764,-111.5 764,-147.5 \"/>\n",
       "<text text-anchor=\"middle\" x=\"806.5\" y=\"-125.8\" font-family=\"Times New Roman,serif\" font-size=\"14.00\">data &#45;6.0000</text>\n",
       "<polyline fill=\"none\" stroke=\"black\" points=\"849,-111.5 849,-147.5 \"/>\n",
       "<text text-anchor=\"middle\" x=\"890\" y=\"-125.8\" font-family=\"Times New Roman,serif\" font-size=\"14.00\">grad 0.5000</text>\n",
       "</g>\n",
       "<!-- 2351174212288&#45;&gt;2351174140064+ -->\n",
       "<g id=\"edge20\" class=\"edge\">\n",
       "<title>2351174212288&#45;&gt;2351174140064+</title>\n",
       "<path fill=\"none\" stroke=\"black\" d=\"M925.03,-111.49C936.7,-109.77 947.77,-108.15 957.46,-106.72\"/>\n",
       "<polygon fill=\"black\" stroke=\"black\" points=\"958.01,-110.18 967.4,-105.26 957,-103.25 958.01,-110.18\"/>\n",
       "</g>\n",
       "<!-- 2351174212288+&#45;&gt;2351174212288 -->\n",
       "<g id=\"edge6\" class=\"edge\">\n",
       "<title>2351174212288+&#45;&gt;2351174212288</title>\n",
       "<path fill=\"none\" stroke=\"black\" d=\"M636.09,-129.5C643.58,-129.5 652.3,-129.5 661.75,-129.5\"/>\n",
       "<polygon fill=\"black\" stroke=\"black\" points=\"661.84,-133 671.84,-129.5 661.84,-126 661.84,-133\"/>\n",
       "</g>\n",
       "<!-- 2351174213008 -->\n",
       "<g id=\"node15\" class=\"node\">\n",
       "<title>2351174213008</title>\n",
       "<polygon fill=\"none\" stroke=\"black\" points=\"0,-29.5 0,-65.5 200,-65.5 200,-29.5 0,-29.5\"/>\n",
       "<text text-anchor=\"middle\" x=\"16.5\" y=\"-43.8\" font-family=\"Times New Roman,serif\" font-size=\"14.00\">w1</text>\n",
       "<polyline fill=\"none\" stroke=\"black\" points=\"33,-29.5 33,-65.5 \"/>\n",
       "<text text-anchor=\"middle\" x=\"75.5\" y=\"-43.8\" font-family=\"Times New Roman,serif\" font-size=\"14.00\">data &#45;3.0000</text>\n",
       "<polyline fill=\"none\" stroke=\"black\" points=\"118,-29.5 118,-65.5 \"/>\n",
       "<text text-anchor=\"middle\" x=\"159\" y=\"-43.8\" font-family=\"Times New Roman,serif\" font-size=\"14.00\">grad 1.0000</text>\n",
       "</g>\n",
       "<!-- 2351174213008&#45;&gt;2351174212672* -->\n",
       "<g id=\"edge13\" class=\"edge\">\n",
       "<title>2351174213008&#45;&gt;2351174212672*</title>\n",
       "<path fill=\"none\" stroke=\"black\" d=\"M169.28,-65.5C179.65,-68.61 190.16,-71.98 200,-75.5 210.28,-79.17 221.28,-83.74 231.11,-88.07\"/>\n",
       "<polygon fill=\"black\" stroke=\"black\" points=\"229.93,-91.37 240.48,-92.27 232.79,-84.99 229.93,-91.37\"/>\n",
       "</g>\n",
       "<!-- 2351174142656 -->\n",
       "<g id=\"node16\" class=\"node\">\n",
       "<title>2351174142656</title>\n",
       "<polygon fill=\"none\" stroke=\"black\" points=\"2211,-82.5 2211,-118.5 2393,-118.5 2393,-82.5 2211,-82.5\"/>\n",
       "<text text-anchor=\"middle\" x=\"2221\" y=\"-96.8\" font-family=\"Times New Roman,serif\" font-size=\"14.00\"> </text>\n",
       "<polyline fill=\"none\" stroke=\"black\" points=\"2231,-82.5 2231,-118.5 \"/>\n",
       "<text text-anchor=\"middle\" x=\"2271\" y=\"-96.8\" font-family=\"Times New Roman,serif\" font-size=\"14.00\">data 4.8284</text>\n",
       "<polyline fill=\"none\" stroke=\"black\" points=\"2311,-82.5 2311,-118.5 \"/>\n",
       "<text text-anchor=\"middle\" x=\"2352\" y=\"-96.8\" font-family=\"Times New Roman,serif\" font-size=\"14.00\">grad 0.1464</text>\n",
       "</g>\n",
       "<!-- 2351174142656&#45;&gt;2351174143808* -->\n",
       "<g id=\"edge24\" class=\"edge\">\n",
       "<title>2351174142656&#45;&gt;2351174143808*</title>\n",
       "<path fill=\"none\" stroke=\"black\" d=\"M2393.31,-93.9C2454.7,-89.37 2537.76,-83.19 2611,-77.5 2619.42,-76.85 2628.48,-76.13 2637.01,-75.44\"/>\n",
       "<polygon fill=\"black\" stroke=\"black\" points=\"2637.37,-78.92 2647.06,-74.63 2636.81,-71.94 2637.37,-78.92\"/>\n",
       "</g>\n",
       "<!-- 2351174142656+ -->\n",
       "<g id=\"node17\" class=\"node\">\n",
       "<title>2351174142656+</title>\n",
       "<ellipse fill=\"none\" stroke=\"black\" cx=\"1926\" cy=\"-100.5\" rx=\"27\" ry=\"18\"/>\n",
       "<text text-anchor=\"middle\" x=\"1926\" y=\"-96.8\" font-family=\"Times New Roman,serif\" font-size=\"14.00\">+</text>\n",
       "</g>\n",
       "<!-- 2351174142656+&#45;&gt;2351174142656 -->\n",
       "<g id=\"edge7\" class=\"edge\">\n",
       "<title>2351174142656+&#45;&gt;2351174142656</title>\n",
       "<path fill=\"none\" stroke=\"black\" d=\"M1953,-100.5C2003.46,-100.5 2117.06,-100.5 2200.81,-100.5\"/>\n",
       "<polygon fill=\"black\" stroke=\"black\" points=\"2200.87,-104 2210.87,-100.5 2200.87,-97 2200.87,-104\"/>\n",
       "</g>\n",
       "<!-- 2351174142704 -->\n",
       "<g id=\"node18\" class=\"node\">\n",
       "<title>2351174142704</title>\n",
       "<polygon fill=\"none\" stroke=\"black\" points=\"1676,-110.5 1676,-146.5 1863,-146.5 1863,-110.5 1676,-110.5\"/>\n",
       "<text text-anchor=\"middle\" x=\"1686\" y=\"-124.8\" font-family=\"Times New Roman,serif\" font-size=\"14.00\"> </text>\n",
       "<polyline fill=\"none\" stroke=\"black\" points=\"1696,-110.5 1696,-146.5 \"/>\n",
       "<text text-anchor=\"middle\" x=\"1738.5\" y=\"-124.8\" font-family=\"Times New Roman,serif\" font-size=\"14.00\">data &#45;1.0000</text>\n",
       "<polyline fill=\"none\" stroke=\"black\" points=\"1781,-110.5 1781,-146.5 \"/>\n",
       "<text text-anchor=\"middle\" x=\"1822\" y=\"-124.8\" font-family=\"Times New Roman,serif\" font-size=\"14.00\">grad 0.1464</text>\n",
       "</g>\n",
       "<!-- 2351174142704&#45;&gt;2351174142656+ -->\n",
       "<g id=\"edge17\" class=\"edge\">\n",
       "<title>2351174142704&#45;&gt;2351174142656+</title>\n",
       "<path fill=\"none\" stroke=\"black\" d=\"M1863.05,-111.73C1872.54,-110.01 1881.71,-108.35 1889.95,-106.85\"/>\n",
       "<polygon fill=\"black\" stroke=\"black\" points=\"1890.64,-110.28 1899.85,-105.06 1889.39,-103.4 1890.64,-110.28\"/>\n",
       "</g>\n",
       "<!-- 2351174140160 -->\n",
       "<g id=\"node19\" class=\"node\">\n",
       "<title>2351174140160</title>\n",
       "<polygon fill=\"none\" stroke=\"black\" points=\"1058.5,-28.5 1058.5,-64.5 1240.5,-64.5 1240.5,-28.5 1058.5,-28.5\"/>\n",
       "<text text-anchor=\"middle\" x=\"1068.5\" y=\"-42.8\" font-family=\"Times New Roman,serif\" font-size=\"14.00\"> </text>\n",
       "<polyline fill=\"none\" stroke=\"black\" points=\"1078.5,-28.5 1078.5,-64.5 \"/>\n",
       "<text text-anchor=\"middle\" x=\"1118.5\" y=\"-42.8\" font-family=\"Times New Roman,serif\" font-size=\"14.00\">data 2.0000</text>\n",
       "<polyline fill=\"none\" stroke=\"black\" points=\"1158.5,-28.5 1158.5,-64.5 \"/>\n",
       "<text text-anchor=\"middle\" x=\"1199.5\" y=\"-42.8\" font-family=\"Times New Roman,serif\" font-size=\"14.00\">grad 0.2203</text>\n",
       "</g>\n",
       "<!-- 2351174140160&#45;&gt;2351174143088* -->\n",
       "<g id=\"edge26\" class=\"edge\">\n",
       "<title>2351174140160&#45;&gt;2351174143088*</title>\n",
       "<path fill=\"none\" stroke=\"black\" d=\"M1240.68,-62.36C1250.61,-64.11 1260.23,-65.8 1268.84,-67.32\"/>\n",
       "<polygon fill=\"black\" stroke=\"black\" points=\"1268.36,-70.78 1278.81,-69.07 1269.57,-63.89 1268.36,-70.78\"/>\n",
       "</g>\n",
       "<!-- 2351174143808 -->\n",
       "<g id=\"node20\" class=\"node\">\n",
       "<title>2351174143808</title>\n",
       "<polygon fill=\"none\" stroke=\"black\" points=\"2737,-54.5 2737,-90.5 2922,-90.5 2922,-54.5 2737,-54.5\"/>\n",
       "<text text-anchor=\"middle\" x=\"2748.5\" y=\"-68.8\" font-family=\"Times New Roman,serif\" font-size=\"14.00\">o</text>\n",
       "<polyline fill=\"none\" stroke=\"black\" points=\"2760,-54.5 2760,-90.5 \"/>\n",
       "<text text-anchor=\"middle\" x=\"2800\" y=\"-68.8\" font-family=\"Times New Roman,serif\" font-size=\"14.00\">data 0.7071</text>\n",
       "<polyline fill=\"none\" stroke=\"black\" points=\"2840,-54.5 2840,-90.5 \"/>\n",
       "<text text-anchor=\"middle\" x=\"2881\" y=\"-68.8\" font-family=\"Times New Roman,serif\" font-size=\"14.00\">grad 1.0000</text>\n",
       "</g>\n",
       "<!-- 2351174143808*&#45;&gt;2351174143808 -->\n",
       "<g id=\"edge8\" class=\"edge\">\n",
       "<title>2351174143808*&#45;&gt;2351174143808</title>\n",
       "<path fill=\"none\" stroke=\"black\" d=\"M2701.04,-72.5C2708.58,-72.5 2717.3,-72.5 2726.57,-72.5\"/>\n",
       "<polygon fill=\"black\" stroke=\"black\" points=\"2726.81,-76 2736.81,-72.5 2726.81,-69 2726.81,-76\"/>\n",
       "</g>\n",
       "<!-- 2351174061408 -->\n",
       "<g id=\"node22\" class=\"node\">\n",
       "<title>2351174061408</title>\n",
       "<polygon fill=\"none\" stroke=\"black\" points=\"4,-139.5 4,-175.5 196,-175.5 196,-139.5 4,-139.5\"/>\n",
       "<text text-anchor=\"middle\" x=\"19\" y=\"-153.8\" font-family=\"Times New Roman,serif\" font-size=\"14.00\">x2</text>\n",
       "<polyline fill=\"none\" stroke=\"black\" points=\"34,-139.5 34,-175.5 \"/>\n",
       "<text text-anchor=\"middle\" x=\"74\" y=\"-153.8\" font-family=\"Times New Roman,serif\" font-size=\"14.00\">data 0.0000</text>\n",
       "<polyline fill=\"none\" stroke=\"black\" points=\"114,-139.5 114,-175.5 \"/>\n",
       "<text text-anchor=\"middle\" x=\"155\" y=\"-153.8\" font-family=\"Times New Roman,serif\" font-size=\"14.00\">grad 0.5000</text>\n",
       "</g>\n",
       "<!-- 2351174061408&#45;&gt;2351174212768* -->\n",
       "<g id=\"edge22\" class=\"edge\">\n",
       "<title>2351174061408&#45;&gt;2351174212768*</title>\n",
       "<path fill=\"none\" stroke=\"black\" d=\"M196.05,-157.5C206.52,-157.5 216.65,-157.5 225.71,-157.5\"/>\n",
       "<polygon fill=\"black\" stroke=\"black\" points=\"225.79,-161 235.79,-157.5 225.79,-154 225.79,-161\"/>\n",
       "</g>\n",
       "<!-- 2351174212960 -->\n",
       "<g id=\"node23\" class=\"node\">\n",
       "<title>2351174212960</title>\n",
       "<polygon fill=\"none\" stroke=\"black\" points=\"709,-56.5 709,-92.5 894,-92.5 894,-56.5 709,-56.5\"/>\n",
       "<text text-anchor=\"middle\" x=\"720.5\" y=\"-70.8\" font-family=\"Times New Roman,serif\" font-size=\"14.00\">b</text>\n",
       "<polyline fill=\"none\" stroke=\"black\" points=\"732,-56.5 732,-92.5 \"/>\n",
       "<text text-anchor=\"middle\" x=\"772\" y=\"-70.8\" font-family=\"Times New Roman,serif\" font-size=\"14.00\">data 6.8814</text>\n",
       "<polyline fill=\"none\" stroke=\"black\" points=\"812,-56.5 812,-92.5 \"/>\n",
       "<text text-anchor=\"middle\" x=\"853\" y=\"-70.8\" font-family=\"Times New Roman,serif\" font-size=\"14.00\">grad 0.5000</text>\n",
       "</g>\n",
       "<!-- 2351174212960&#45;&gt;2351174140064+ -->\n",
       "<g id=\"edge15\" class=\"edge\">\n",
       "<title>2351174212960&#45;&gt;2351174140064+</title>\n",
       "<path fill=\"none\" stroke=\"black\" d=\"M894.12,-87.49C916.59,-90.67 939.33,-93.89 957.33,-96.44\"/>\n",
       "<polygon fill=\"black\" stroke=\"black\" points=\"956.95,-99.93 967.34,-97.86 957.93,-92.99 956.95,-99.93\"/>\n",
       "</g>\n",
       "<!-- 2351174143376 -->\n",
       "<g id=\"node24\" class=\"node\">\n",
       "<title>2351174143376</title>\n",
       "<polygon fill=\"none\" stroke=\"black\" points=\"1676.5,-0.5 1676.5,-36.5 1862.5,-36.5 1862.5,-0.5 1676.5,-0.5\"/>\n",
       "<text text-anchor=\"middle\" x=\"1686.5\" y=\"-14.8\" font-family=\"Times New Roman,serif\" font-size=\"14.00\"> </text>\n",
       "<polyline fill=\"none\" stroke=\"black\" points=\"1696.5,-0.5 1696.5,-36.5 \"/>\n",
       "<text text-anchor=\"middle\" x=\"1736.5\" y=\"-14.8\" font-family=\"Times New Roman,serif\" font-size=\"14.00\">data 1.0000</text>\n",
       "<polyline fill=\"none\" stroke=\"black\" points=\"1776.5,-0.5 1776.5,-36.5 \"/>\n",
       "<text text-anchor=\"middle\" x=\"1819.5\" y=\"-14.8\" font-family=\"Times New Roman,serif\" font-size=\"14.00\">grad &#45;0.1036</text>\n",
       "</g>\n",
       "<!-- 2351174143424+ -->\n",
       "<g id=\"node28\" class=\"node\">\n",
       "<title>2351174143424+</title>\n",
       "<ellipse fill=\"none\" stroke=\"black\" cx=\"1926\" cy=\"-45.5\" rx=\"27\" ry=\"18\"/>\n",
       "<text text-anchor=\"middle\" x=\"1926\" y=\"-41.8\" font-family=\"Times New Roman,serif\" font-size=\"14.00\">+</text>\n",
       "</g>\n",
       "<!-- 2351174143376&#45;&gt;2351174143424+ -->\n",
       "<g id=\"edge16\" class=\"edge\">\n",
       "<title>2351174143376&#45;&gt;2351174143424+</title>\n",
       "<path fill=\"none\" stroke=\"black\" d=\"M1862.6,-34.6C1872.15,-36.26 1881.37,-37.88 1889.68,-39.33\"/>\n",
       "<polygon fill=\"black\" stroke=\"black\" points=\"1889.2,-42.8 1899.65,-41.07 1890.4,-35.9 1889.2,-42.8\"/>\n",
       "</g>\n",
       "<!-- 2351174142896 -->\n",
       "<g id=\"node25\" class=\"node\">\n",
       "<title>2351174142896</title>\n",
       "<polygon fill=\"none\" stroke=\"black\" points=\"1678.5,-55.5 1678.5,-91.5 1860.5,-91.5 1860.5,-55.5 1678.5,-55.5\"/>\n",
       "<text text-anchor=\"middle\" x=\"1688.5\" y=\"-69.8\" font-family=\"Times New Roman,serif\" font-size=\"14.00\"> </text>\n",
       "<polyline fill=\"none\" stroke=\"black\" points=\"1698.5,-55.5 1698.5,-91.5 \"/>\n",
       "<text text-anchor=\"middle\" x=\"1738.5\" y=\"-69.8\" font-family=\"Times New Roman,serif\" font-size=\"14.00\">data 5.8284</text>\n",
       "<polyline fill=\"none\" stroke=\"black\" points=\"1778.5,-55.5 1778.5,-91.5 \"/>\n",
       "<text text-anchor=\"middle\" x=\"1819.5\" y=\"-69.8\" font-family=\"Times New Roman,serif\" font-size=\"14.00\">grad 0.0429</text>\n",
       "</g>\n",
       "<!-- 2351174142896&#45;&gt;2351174142656+ -->\n",
       "<g id=\"edge18\" class=\"edge\">\n",
       "<title>2351174142896&#45;&gt;2351174142656+</title>\n",
       "<path fill=\"none\" stroke=\"black\" d=\"M1860.82,-89.28C1871.07,-91.08 1881.01,-92.81 1889.88,-94.36\"/>\n",
       "<polygon fill=\"black\" stroke=\"black\" points=\"1889.3,-97.81 1899.75,-96.09 1890.5,-90.92 1889.3,-97.81\"/>\n",
       "</g>\n",
       "<!-- 2351174142896&#45;&gt;2351174143424+ -->\n",
       "<g id=\"edge19\" class=\"edge\">\n",
       "<title>2351174142896&#45;&gt;2351174143424+</title>\n",
       "<path fill=\"none\" stroke=\"black\" d=\"M1860.82,-57.13C1871.07,-55.27 1881.01,-53.47 1889.88,-51.87\"/>\n",
       "<polygon fill=\"black\" stroke=\"black\" points=\"1890.54,-55.3 1899.75,-50.08 1889.29,-48.42 1890.54,-55.3\"/>\n",
       "</g>\n",
       "<!-- 2351174142896exp&#45;&gt;2351174142896 -->\n",
       "<g id=\"edge9\" class=\"edge\">\n",
       "<title>2351174142896exp&#45;&gt;2351174142896</title>\n",
       "<path fill=\"none\" stroke=\"black\" d=\"M1640.21,-73.5C1648.34,-73.5 1657.85,-73.5 1667.94,-73.5\"/>\n",
       "<polygon fill=\"black\" stroke=\"black\" points=\"1668.19,-77 1678.19,-73.5 1668.19,-70 1668.19,-77\"/>\n",
       "</g>\n",
       "<!-- 2351174143424 -->\n",
       "<g id=\"node27\" class=\"node\">\n",
       "<title>2351174143424</title>\n",
       "<polygon fill=\"none\" stroke=\"black\" points=\"1989,-27.5 1989,-63.5 2175,-63.5 2175,-27.5 1989,-27.5\"/>\n",
       "<text text-anchor=\"middle\" x=\"1999\" y=\"-41.8\" font-family=\"Times New Roman,serif\" font-size=\"14.00\"> </text>\n",
       "<polyline fill=\"none\" stroke=\"black\" points=\"2009,-27.5 2009,-63.5 \"/>\n",
       "<text text-anchor=\"middle\" x=\"2049\" y=\"-41.8\" font-family=\"Times New Roman,serif\" font-size=\"14.00\">data 6.8284</text>\n",
       "<polyline fill=\"none\" stroke=\"black\" points=\"2089,-27.5 2089,-63.5 \"/>\n",
       "<text text-anchor=\"middle\" x=\"2132\" y=\"-41.8\" font-family=\"Times New Roman,serif\" font-size=\"14.00\">grad &#45;0.1036</text>\n",
       "</g>\n",
       "<!-- 2351174143424&#45;&gt;2351174143616**&#45;1 -->\n",
       "<g id=\"edge21\" class=\"edge\">\n",
       "<title>2351174143424&#45;&gt;2351174143616**&#45;1</title>\n",
       "<path fill=\"none\" stroke=\"black\" d=\"M2175.14,-45.5C2206.72,-45.5 2240.24,-45.5 2264.74,-45.5\"/>\n",
       "<polygon fill=\"black\" stroke=\"black\" points=\"2264.98,-49 2274.98,-45.5 2264.98,-42 2264.98,-49\"/>\n",
       "</g>\n",
       "<!-- 2351174143424+&#45;&gt;2351174143424 -->\n",
       "<g id=\"edge10\" class=\"edge\">\n",
       "<title>2351174143424+&#45;&gt;2351174143424</title>\n",
       "<path fill=\"none\" stroke=\"black\" d=\"M1953.12,-45.5C1960.62,-45.5 1969.29,-45.5 1978.5,-45.5\"/>\n",
       "<polygon fill=\"black\" stroke=\"black\" points=\"1978.69,-49 1988.69,-45.5 1978.69,-42 1978.69,-49\"/>\n",
       "</g>\n",
       "</g>\n",
       "</svg>\n"
      ],
      "text/plain": [
       "<graphviz.graphs.Digraph at 0x2236ce64970>"
      ]
     },
     "execution_count": 169,
     "metadata": {},
     "output_type": "execute_result"
    }
   ],
   "source": [
    "# inputs x1, x2\n",
    "# weights w1, w2\n",
    "# bias b\n",
    "\n",
    "x1 = Value(2.0, label='x1')\n",
    "x2 = Value(0.0, label='x2')\n",
    "w1 = Value(-3.0, label='w1')\n",
    "w2 = Value(1.0, label='w2')\n",
    "b = Value(6.8813735, label='b')\n",
    "\n",
    "# compute sinapses\n",
    "\n",
    "x1w1 = x1*w1; x1w1.label= 'x1*w1'\n",
    "x2w2 = x2*w2; x2w2.label= 'x2*w2'\n",
    "x1w1x2w2 = x1w1 + x2w2; x1w1x2w2.label = 'x1w1 + x2w2'\n",
    "\n",
    "n = x1w1x2w2 +b; n.label = 'n' # cell body without activation\n",
    "# -------\n",
    "e = (2*n).exp()\n",
    "o = (e - 1) / (e + 1)\n",
    "# -------\n",
    "o.label = 'o'\n",
    "o.backward()\n",
    "draw_dot(o)\n",
    "\n"
   ]
  },
  {
   "cell_type": "markdown",
   "metadata": {},
   "source": [
    "# Moving to pytorch"
   ]
  },
  {
   "cell_type": "code",
   "execution_count": 170,
   "metadata": {},
   "outputs": [],
   "source": [
    "import torch"
   ]
  },
  {
   "cell_type": "code",
   "execution_count": 171,
   "metadata": {},
   "outputs": [
    {
     "name": "stdout",
     "output_type": "stream",
     "text": [
      "0.7071066904050358\n",
      "---\n",
      "x2 0.5000001283844369\n",
      "w2 0.0\n",
      "x1 -1.5000003851533106\n",
      "w1 1.0000002567688737\n"
     ]
    }
   ],
   "source": [
    "# using torch\n",
    "\n",
    "x1 = torch.Tensor([2.0]).double()      ;x1.requires_grad = True   \n",
    "x2 = torch.Tensor([0.0]).double()      ;x2.requires_grad = True \n",
    "w1 = torch.Tensor([-3.0]).double()     ;w1.requires_grad = True \n",
    "w2 = torch.Tensor([1.0]).double()      ;w2.requires_grad = True \n",
    "b = torch.Tensor([6.8813735]).double() ;b.requires_grad = True   \n",
    "\n",
    "n = x1*w1 + x2*w2 + b\n",
    "o = torch.tanh(n)\n",
    "\n",
    "print(o.data.item())\n",
    "o.backward()\n",
    "\n",
    "print('---') # check values accuracy our micrograd\n",
    "print('x2', x2.grad.item())\n",
    "print('w2', w2.grad.item())\n",
    "print('x1', x1.grad.item())\n",
    "print('w1', w1.grad.item())"
   ]
  },
  {
   "cell_type": "code",
   "execution_count": 172,
   "metadata": {},
   "outputs": [
    {
     "data": {
      "text/plain": [
       "torch.Size([2, 3])"
      ]
     },
     "execution_count": 172,
     "metadata": {},
     "output_type": "execute_result"
    }
   ],
   "source": [
    "torch.Tensor([[1, 2, 3], [4, 5, 6]]).shape"
   ]
  },
  {
   "cell_type": "code",
   "execution_count": 173,
   "metadata": {},
   "outputs": [
    {
     "data": {
      "text/plain": [
       "torch.float64"
      ]
     },
     "execution_count": 173,
     "metadata": {},
     "output_type": "execute_result"
    }
   ],
   "source": [
    "torch.Tensor([2.0]).double().dtype"
   ]
  },
  {
   "cell_type": "code",
   "execution_count": 174,
   "metadata": {},
   "outputs": [
    {
     "data": {
      "text/plain": [
       "0.7071066904050358"
      ]
     },
     "execution_count": 174,
     "metadata": {},
     "output_type": "execute_result"
    }
   ],
   "source": [
    "o.item()"
   ]
  },
  {
   "cell_type": "markdown",
   "metadata": {},
   "source": [
    "## This shows that our class Value somehow achieves the same as in pytorch Tensors "
   ]
  },
  {
   "cell_type": "markdown",
   "metadata": {},
   "source": [
    "-----------------"
   ]
  },
  {
   "cell_type": "markdown",
   "metadata": {},
   "source": [
    "# Next step: Try to create models with it"
   ]
  },
  {
   "cell_type": "code",
   "execution_count": 175,
   "metadata": {},
   "outputs": [],
   "source": [
    "import random"
   ]
  },
  {
   "cell_type": "code",
   "execution_count": 181,
   "metadata": {},
   "outputs": [
    {
     "data": {
      "text/plain": [
       "tensor([4.], dtype=torch.float64, grad_fn=<AddBackward0>)"
      ]
     },
     "execution_count": 181,
     "metadata": {},
     "output_type": "execute_result"
    }
   ],
   "source": [
    "2 + x1"
   ]
  },
  {
   "cell_type": "code",
   "execution_count": 210,
   "metadata": {},
   "outputs": [],
   "source": [
    "class Neuron:\n",
    "    def __init__(self, nin):\n",
    "        self.w = [Value(random.uniform(-1,1)) for _ in range(nin)]\n",
    "        self.b = Value(random.uniform(-1,1))\n",
    "\n",
    "    def __call__(self, x):\n",
    "        act = sum((wi*xi for wi, xi in zip(self.w, x)), self.b)\n",
    "        out = act.tanh()\n",
    "        return out\n",
    "    \n",
    "    def parameters(self):\n",
    "        return self.w + [self.b]\n",
    "    \n",
    "\n",
    "# adding layers\n",
    "class Layer:\n",
    "    def __init__(self, nin, nout):\n",
    "        self.neurons = [Neuron(nin) for _ in range(nout)]\n",
    "\n",
    "    def __call__(self, x):\n",
    "        outs = [n(x) for n in self.neurons]\n",
    "        return outs[0] if len(outs) == 1 else outs\n",
    "    \n",
    "    def parameters(self):\n",
    "        return [p for neuron in self.neurons for p in neuron.parameters()]\n",
    "    \n",
    "\n",
    "# mlp - multi layer perceptron\n",
    "class MLP:\n",
    "    def __init__(self, nin, nouts):\n",
    "        sz = [nin] + nouts\n",
    "        self.layers = [Layer(sz[i], sz[i+1]) for i in range(len(nouts))]\n",
    "\n",
    "    def __call__(self, x):\n",
    "        for layer in self.layers:\n",
    "            x = layer(x)\n",
    "        return x\n",
    "    \n",
    "    def parameters(self):\n",
    "        return [p for layer in self.layers for p in layer.parameters()]\n",
    "\n"
   ]
  },
  {
   "cell_type": "code",
   "execution_count": 228,
   "metadata": {},
   "outputs": [
    {
     "data": {
      "text/plain": [
       "Value(data=-0.9885035432396979)"
      ]
     },
     "execution_count": 228,
     "metadata": {},
     "output_type": "execute_result"
    }
   ],
   "source": [
    "x = [2.0, 3.0, -1.0]\n",
    "n = MLP(3, [4, 4, 1])\n",
    "n(x)"
   ]
  },
  {
   "cell_type": "code",
   "execution_count": 213,
   "metadata": {},
   "outputs": [
    {
     "data": {
      "text/plain": [
       "[Value(data=-0.21525780125079885),\n",
       " Value(data=0.23871764413137853),\n",
       " Value(data=0.8888924757182959),\n",
       " Value(data=-0.81888073856178),\n",
       " Value(data=-0.01387422267482008),\n",
       " Value(data=-0.6195649756569817),\n",
       " Value(data=0.19296685028365967),\n",
       " Value(data=-0.5873659182474595),\n",
       " Value(data=-0.914535688404126),\n",
       " Value(data=-0.6157565189202374),\n",
       " Value(data=0.8494472754562696),\n",
       " Value(data=-0.2465134789161585),\n",
       " Value(data=0.7523251028451008),\n",
       " Value(data=0.7184715928396463),\n",
       " Value(data=-0.23398391752246916),\n",
       " Value(data=-0.4289711062243118),\n",
       " Value(data=0.9336676372010924),\n",
       " Value(data=-0.6295080637073944),\n",
       " Value(data=-0.3672372710896219),\n",
       " Value(data=0.4382165468645782),\n",
       " Value(data=-0.13713142244451126),\n",
       " Value(data=0.6893348396279035),\n",
       " Value(data=0.5365572513559529),\n",
       " Value(data=0.1061194957553766),\n",
       " Value(data=-0.7256640617479726),\n",
       " Value(data=0.748747610303029),\n",
       " Value(data=-0.6584161407643174),\n",
       " Value(data=-0.5924533960591587),\n",
       " Value(data=-0.4528622079443785),\n",
       " Value(data=-0.0627257222393478),\n",
       " Value(data=0.46997358405214973),\n",
       " Value(data=-0.5252603158226148),\n",
       " Value(data=-0.5488618537920298),\n",
       " Value(data=0.19480785015612234),\n",
       " Value(data=-0.41827905303414403),\n",
       " Value(data=-0.6219586573721978),\n",
       " Value(data=-0.9590862336268478),\n",
       " Value(data=0.5822087811685344),\n",
       " Value(data=-0.6009370100929297),\n",
       " Value(data=0.5186522359512733),\n",
       " Value(data=0.7241234186204337)]"
      ]
     },
     "execution_count": 213,
     "metadata": {},
     "output_type": "execute_result"
    }
   ],
   "source": [
    "n.parameters()"
   ]
  },
  {
   "cell_type": "markdown",
   "metadata": {},
   "source": [
    "### understanding the loss"
   ]
  },
  {
   "cell_type": "code",
   "execution_count": 214,
   "metadata": {},
   "outputs": [
    {
     "data": {
      "text/plain": [
       "[Value(data=-0.7027641915783575),\n",
       " Value(data=-0.087454660256705),\n",
       " Value(data=-0.5274622811237276),\n",
       " Value(data=-0.5980486126020295)]"
      ]
     },
     "execution_count": 214,
     "metadata": {},
     "output_type": "execute_result"
    }
   ],
   "source": [
    "xs = [\n",
    "    [2.0, 3.0, -1.0],\n",
    "    [3.0, -1.0, 0.5],\n",
    "    [0.5, 1.0, 1.0],\n",
    "    [1.0, 1.0, -1.0],\n",
    "]\n",
    "\n",
    "ys = [1.0, -1.0, -1.0, 1.0]  # wanted outputs\n",
    "\n",
    "ypred = [n(x) for x in xs]\n",
    "ypred"
   ]
  },
  {
   "cell_type": "code",
   "execution_count": 215,
   "metadata": {},
   "outputs": [
    {
     "data": {
      "text/plain": [
       "Value(data=6.509196153208765)"
      ]
     },
     "execution_count": 215,
     "metadata": {},
     "output_type": "execute_result"
    }
   ],
   "source": [
    "loss = sum((yout - ygt)**2 for ygt, yout in zip(ys, ypred))\n",
    "loss"
   ]
  },
  {
   "cell_type": "markdown",
   "metadata": {},
   "source": [
    "### let's try to decrease the loss, with backpropagation"
   ]
  },
  {
   "cell_type": "code",
   "execution_count": 225,
   "metadata": {},
   "outputs": [],
   "source": [
    "loss.backward()"
   ]
  },
  {
   "cell_type": "code",
   "execution_count": 217,
   "metadata": {},
   "outputs": [
    {
     "data": {
      "text/plain": [
       "-0.026732540042335773"
      ]
     },
     "execution_count": 217,
     "metadata": {},
     "output_type": "execute_result"
    }
   ],
   "source": [
    "n.layers[0].neurons[0].w[0].grad"
   ]
  },
  {
   "cell_type": "markdown",
   "metadata": {},
   "source": [
    "### only changing weights and bias"
   ]
  },
  {
   "cell_type": "code",
   "execution_count": 218,
   "metadata": {},
   "outputs": [
    {
     "data": {
      "text/plain": [
       "-0.21525780125079885"
      ]
     },
     "execution_count": 218,
     "metadata": {},
     "output_type": "execute_result"
    }
   ],
   "source": [
    "n.layers[0].neurons[0].w[0].data"
   ]
  },
  {
   "cell_type": "code",
   "execution_count": 226,
   "metadata": {},
   "outputs": [],
   "source": [
    "for p in n.parameters():\n",
    "    p.data += -0.01 * p.grad"
   ]
  },
  {
   "cell_type": "code",
   "execution_count": 220,
   "metadata": {},
   "outputs": [
    {
     "data": {
      "text/plain": [
       "-0.2149904758503755"
      ]
     },
     "execution_count": 220,
     "metadata": {},
     "output_type": "execute_result"
    }
   ],
   "source": [
    "n.layers[0].neurons[0].w[0].data"
   ]
  },
  {
   "cell_type": "code",
   "execution_count": 227,
   "metadata": {},
   "outputs": [
    {
     "data": {
      "text/plain": [
       "Value(data=3.1208135579764607)"
      ]
     },
     "execution_count": 227,
     "metadata": {},
     "output_type": "execute_result"
    }
   ],
   "source": [
    "ypred = [n(x) for x in xs]\n",
    "loss = sum((yout - ygt)**2 for ygt, yout in zip(ys, ypred))\n",
    "loss"
   ]
  },
  {
   "cell_type": "markdown",
   "metadata": {},
   "source": [
    "### loss is decreading - backward + change of w and b + calculate loss\n",
    "\n",
    "applying a gradient descent\n"
   ]
  },
  {
   "cell_type": "code",
   "execution_count": 232,
   "metadata": {},
   "outputs": [
    {
     "data": {
      "text/plain": [
       "Value(data=0.8813519366066912)"
      ]
     },
     "execution_count": 232,
     "metadata": {},
     "output_type": "execute_result"
    }
   ],
   "source": [
    "x = [2.0, 3.0, -1.0]\n",
    "n = MLP(3, [4, 4, 1])\n",
    "n(x)"
   ]
  },
  {
   "cell_type": "code",
   "execution_count": 233,
   "metadata": {},
   "outputs": [],
   "source": [
    "xs = [\n",
    "    [2.0, 3.0, -1.0],\n",
    "    [3.0, -1.0, 0.5],\n",
    "    [0.5, 1.0, 1.0],\n",
    "    [1.0, 1.0, -1.0],\n",
    "]\n",
    "\n",
    "ys = [1.0, -1.0, -1.0, 1.0]  # wanted outputs"
   ]
  },
  {
   "cell_type": "code",
   "execution_count": 234,
   "metadata": {},
   "outputs": [
    {
     "name": "stdout",
     "output_type": "stream",
     "text": [
      "0 3.625754491033741\n",
      "1 0.5338894295435412\n",
      "2 0.32418303022343786\n",
      "3 0.22902067935825796\n",
      "4 0.17558563880466688\n",
      "5 0.1416548070676991\n",
      "6 0.1183175672552404\n",
      "7 0.10134139561022597\n",
      "8 0.08846937896609586\n",
      "9 0.07839241632447852\n",
      "10 0.07030092786130085\n",
      "11 0.06366832767300218\n",
      "12 0.05813782891774645\n",
      "13 0.053459402514361744\n",
      "14 0.049452799602767224\n",
      "15 0.04598490252902694\n",
      "16 0.042955333422164343\n",
      "17 0.04028701668661348\n",
      "18 0.03791981818376364\n",
      "19 0.03580615377634066\n"
     ]
    }
   ],
   "source": [
    "for k in range(20):\n",
    "\n",
    "    # forward pass\n",
    "    ypred = [n(x) for x in xs]\n",
    "    loss = sum((yout - ygt)**2 for ygt, yout in zip(ys, ypred))\n",
    "\n",
    "    # backward pass\n",
    "    for p in n.parameters():\n",
    "        p.grad = 0.0\n",
    "    loss.backward()\n",
    "\n",
    "    # update\n",
    "    for p in n.parameters():\n",
    "        p.data += -0.05 * p.grad\n",
    "\n",
    "    print(k, loss.data)"
   ]
  }
 ],
 "metadata": {
  "kernelspec": {
   "display_name": "Python 3 (ipykernel)",
   "language": "python",
   "name": "python3"
  },
  "language_info": {
   "codemirror_mode": {
    "name": "ipython",
    "version": 3
   },
   "file_extension": ".py",
   "mimetype": "text/x-python",
   "name": "python",
   "nbconvert_exporter": "python",
   "pygments_lexer": "ipython3",
   "version": "3.10.12"
  }
 },
 "nbformat": 4,
 "nbformat_minor": 4
}
