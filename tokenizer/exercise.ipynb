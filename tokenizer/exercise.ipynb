{
 "cells": [
  {
   "cell_type": "markdown",
   "id": "74f5f806-089d-455f-801f-7bbb8263193e",
   "metadata": {},
   "source": [
    "# exercise\n",
    "\n",
    "Build your own GPT-4 Tokenizer!\n",
    "\n",
    "### Step 1\n",
    "\n",
    "Write the `BasicTokenizer` class, with the following three core functions:\n",
    "\n",
    "- `def train(self, text, vocab_size, verbose=False)`\n",
    "- `def encode(self, text)`\n",
    "- `def decode(self, ids)`\n",
    "\n",
    "Train your tokenizer on whatever text you like and visualize the merged tokens. Do they look reasonable? One default test you may wish to use is the text file `tests/taylorswift.txt`.\n"
   ]
  },
  {
   "cell_type": "code",
   "execution_count": null,
   "id": "39fc59de-6007-46ba-ac39-74fc41261d52",
   "metadata": {},
   "outputs": [],
   "source": []
  },
  {
   "cell_type": "markdown",
   "id": "eaf8a22e-272b-4f5d-b38c-1b98abf8b5d9",
   "metadata": {},
   "source": [
    "### Step 2\n",
    "\n",
    "Convert you `BasicTokenizer` into a `RegexTokenizer`, which takes a regex pattern and splits the text exactly as GPT-4 would. Process the parts separately as before, then concatenate the results. Retrain your tokenizer and compare the results before and after. You should see that you will now have no tokens that go across categories (numbers, letters, punctuation, more than one whitespace). Use the GPT-4 pattern:\n",
    "\n",
    "```\n",
    "GPT4_SPLIT_PATTERN = r\"\"\"'(?i:[sdmt]|ll|ve|re)|[^\\r\\n\\p{L}\\p{N}]?+\\p{L}+|\\p{N}{1,3}| ?[^\\s\\p{L}\\p{N}]++[\\r\\n]*|\\s*[\\r\\n]|\\s+(?!\\S)|\\s+\"\"\"\n",
    "```\n"
   ]
  },
  {
   "cell_type": "markdown",
   "id": "3e7e8e2c-b667-4df0-b49b-c0c09a52f6f2",
   "metadata": {},
   "source": [
    "### Step 3\n",
    "\n",
    "You're now ready to load the merges from the GPT-4 tokenizer and show that your tokenizer produces the identical results for both `encode` and `decode`, matching [tiktoken](https://github.com/openai/tiktoken).\n",
    "\n",
    "```\n",
    "# match this\n",
    "import tiktoken\n",
    "enc = tiktoken.get_encoding(\"cl100k_base\") # this is the GPT-4 tokenizer\n",
    "ids = enc.encode(\"hello world!!!? (안녕하세요!) lol123 😉\")\n",
    "text = enc.decode(ids) # get the same text back\n",
    "```\n",
    "\n",
    "Unfortunately, you will run into two issues:\n",
    "\n",
    "1. It is not trivial to recover the raw merges from the GPT-4 tokenizer. You can easily recover what we call `vocab` here, and what they call and store under `enc._mergeable_ranks`. Feel free to copy paste the `recover_merges` function in `minbpe/gpt4.py`, which takes these ranks and returns the raw merges. If you wish to know how this function works, read [this](https://github.com/openai/tiktoken/issues/60) and [this](https://github.com/karpathy/minbpe/issues/11#issuecomment-1950805306). Basically, under some conditions it is enough to only store the parent nodes (and their rank) and get rid of the precise details of which children merged up to any parent.\n",
    "2. Second, the GPT-4 tokenizer for some reason permutes its raw bytes. It stores this permutation in the first 256 elements of the mergeable ranks, so you can recover this byte shuffle relatively simply as `byte_shuffle = {i: enc._mergeable_ranks[bytes([i])] for i in range(256)}`. In both your encode and decode, you'll have to shuffle bytes around accordingly. If you're stuck, reference the minbpe/gpt4.py` file for hints.\n"
   ]
  },
  {
   "cell_type": "markdown",
   "id": "bfcb8fdd-9391-4ea5-a299-ae6c5f93ca53",
   "metadata": {},
   "source": [
    "### Step 4\n",
    "\n",
    "(Optional, irritating, not obviously useful) Add the ability to handle special tokens. You'll then be able to match the output of tiktoken even when special tokens are present, e.g.:\n",
    "\n",
    "```\n",
    "import tiktoken\n",
    "enc = tiktoken.get_encoding(\"cl100k_base\") # this is the GPT-4 tokenizer\n",
    "ids = enc.encode(\"<|endoftext|>hello world\", allowed_special=\"all\")\n",
    "```\n",
    "\n",
    "Without `allowed_special` tiktoken will error.\n"
   ]
  },
  {
   "cell_type": "markdown",
   "id": "0889f016-e3c6-49c7-bc2e-c851465f96b4",
   "metadata": {},
   "source": [
    "### Step 5\n",
    "\n",
    "If you've made it this far, you're now a pro at LLM Tokenization! Sadly, you're not exactly done yet because a lot of LLMs outside of OpenAI (e.g. Llama, Mistral) use [sentencepiece](https://github.com/google/sentencepiece) instead. Primary difference being that sentencepiece runs BPE directly on Unicode code points instead of on UTF-8 encoded bytes. Feel free to explore sentencepiece on your own (good luck, it's not too pretty), and stretch goal if you really experience and suffer from the burden of time, re-write your BPE to be on Unicode code points and match the Llama 2 tokenizer."
   ]
  },
  {
   "cell_type": "code",
   "execution_count": null,
   "id": "18082db6-b37b-4db5-a9b2-a34b2d6b3164",
   "metadata": {},
   "outputs": [],
   "source": []
  }
 ],
 "metadata": {
  "kernelspec": {
   "display_name": "Python 3 (ipykernel)",
   "language": "python",
   "name": "python3"
  },
  "language_info": {
   "codemirror_mode": {
    "name": "ipython",
    "version": 3
   },
   "file_extension": ".py",
   "mimetype": "text/x-python",
   "name": "python",
   "nbconvert_exporter": "python",
   "pygments_lexer": "ipython3",
   "version": "3.10.12"
  }
 },
 "nbformat": 4,
 "nbformat_minor": 5
}
