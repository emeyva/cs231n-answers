{
 "cells": [
  {
   "cell_type": "markdown",
   "id": "5ee3ae83-0583-448c-833d-fd36f5def179",
   "metadata": {},
   "source": [
    "# The fifth part of makemore\n",
    "\n",
    "\n",
    "This is from a [video](https://www.youtube.com/watch?v=t3YJ5hKiMQ0) from Andrej Karpathy. Working on [makemore](https://github.com/karpathy/makemore) repo\n",
    "\n",
    "\n",
    "## Main:\n",
    "This notebook focuses mainly on converting the model we got in the past to something like Wavenet\n",
    "\n",
    "# Papers\n",
    "- [WAVENET](https://arxiv.org/pdf/1609.03499): A GENERATIVE MODEL FOR RAW AUDIO\n",
    "\n",
    "- [A Neural Probabilistic Language Model](https://www.jmlr.org/papers/volume3/bengio03a/bengio03a.pdf)\n",
    "\n"
   ]
  }
 ],
 "metadata": {
  "kernelspec": {
   "display_name": "Python 3 (ipykernel)",
   "language": "python",
   "name": "python3"
  },
  "language_info": {
   "codemirror_mode": {
    "name": "ipython",
    "version": 3
   },
   "file_extension": ".py",
   "mimetype": "text/x-python",
   "name": "python",
   "nbconvert_exporter": "python",
   "pygments_lexer": "ipython3",
   "version": "3.10.12"
  }
 },
 "nbformat": 4,
 "nbformat_minor": 5
}
