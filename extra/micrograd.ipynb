{
 "cells": [
  {
   "cell_type": "markdown",
   "metadata": {},
   "source": [
    "# A simple nb to learn about backpropagation on neural nets"
   ]
  },
  {
   "cell_type": "markdown",
   "metadata": {},
   "source": [
    "### Starting with a simple view of derivatives"
   ]
  },
  {
   "cell_type": "code",
   "execution_count": 12,
   "metadata": {},
   "outputs": [],
   "source": [
    "import math\n",
    "import numpy as np\n",
    "import matplotlib.pyplot as plt\n",
    "%matplotlib inline"
   ]
  },
  {
   "cell_type": "code",
   "execution_count": 13,
   "metadata": {},
   "outputs": [],
   "source": [
    "def f(x):\n",
    "    return 3*x**2 - 4*x +5"
   ]
  },
  {
   "cell_type": "code",
   "execution_count": 14,
   "metadata": {},
   "outputs": [
    {
     "data": {
      "text/plain": [
       "20.0"
      ]
     },
     "execution_count": 14,
     "metadata": {},
     "output_type": "execute_result"
    }
   ],
   "source": [
    "f(3.0)"
   ]
  },
  {
   "cell_type": "code",
   "execution_count": 15,
   "metadata": {},
   "outputs": [
    {
     "data": {
      "text/plain": [
       "[<matplotlib.lines.Line2D at 0x22365fb1be0>]"
      ]
     },
     "execution_count": 15,
     "metadata": {},
     "output_type": "execute_result"
    },
    {
     "data": {
      "image/png": "[encoded data removed]",
      "text/plain": [
       "<Figure size 640x480 with 1 Axes>"
      ]
     },
     "metadata": {},
     "output_type": "display_data"
    }
   ],
   "source": [
    "xs = np.arange(-5, 5, 0.25)\n",
    "ys = f(xs)\n",
    "plt.plot(xs, ys)"
   ]
  },
  {
   "cell_type": "code",
   "execution_count": 16,
   "metadata": {},
   "outputs": [
    {
     "data": {
      "text/plain": [
       "2.9753977059954195e-07"
      ]
     },
     "execution_count": 16,
     "metadata": {},
     "output_type": "execute_result"
    }
   ],
   "source": [
    "h = 0.0000001\n",
    "x = 2/3\n",
    "(f(x + h) - f(x))/h"
   ]
  },
  {
   "cell_type": "code",
   "execution_count": 17,
   "metadata": {},
   "outputs": [
    {
     "name": "stdout",
     "output_type": "stream",
     "text": [
      "4.0\n"
     ]
    }
   ],
   "source": [
    "# a bit more complex\n",
    "\n",
    "a = 2.0\n",
    "b = -3.0\n",
    "c = 10.0\n",
    "d = a*b + c\n",
    "print(d)"
   ]
  },
  {
   "cell_type": "code",
   "execution_count": 18,
   "metadata": {},
   "outputs": [
    {
     "name": "stdout",
     "output_type": "stream",
     "text": [
      "d1 4.0\n",
      "d2 3.999699999999999\n",
      "slope -3.000000000010772\n",
      "slope 2 2.0000000000042206\n"
     ]
    }
   ],
   "source": [
    "h = 0.0001\n",
    "\n",
    "# inputs\n",
    "a = 2.0\n",
    "b = -3.0\n",
    "c = 10.0\n",
    "\n",
    "d1 = a*b + c\n",
    "a += h\n",
    "d2 = a*b +c\n",
    "\n",
    "print('d1', d1)\n",
    "print('d2', d2)\n",
    "\n",
    "# get slope\n",
    "print('slope', (d2-d1)/h)\n",
    "\n",
    "# changing b\n",
    "a -= h\n",
    "b += h\n",
    "d2 = a*b +c\n",
    "\n",
    "# get slope\n",
    "print('slope 2', (d2-d1)/h)"
   ]
  },
  {
   "cell_type": "markdown",
   "metadata": {},
   "source": [
    "### Start with classes representing a scalar"
   ]
  },
  {
   "cell_type": "code",
   "execution_count": 79,
   "metadata": {},
   "outputs": [
    {
     "data": {
      "text/plain": [
       "Value(data=4.0)"
      ]
     },
     "execution_count": 79,
     "metadata": {},
     "output_type": "execute_result"
    }
   ],
   "source": [
    "class Value:\n",
    "    def __init__(self, data, _children=(), _op='', label=''):\n",
    "        self.data = data\n",
    "        self.grad = 0.0\n",
    "        self._backward = lambda: None\n",
    "        self._prev = set(_children)\n",
    "        self._op = _op\n",
    "        self.label = label\n",
    "\n",
    "    def __repr__(self):\n",
    "        return f\"Value(data={self.data})\"\n",
    "    \n",
    "    def __add__(self, other):\n",
    "        out = Value(self.data + other.data, (self, other), '+')\n",
    "        def _backward():\n",
    "            self.grad = 1.0 * out.grad\n",
    "            other.grad = 1.0 * out.grad\n",
    "        out._backward = _backward\n",
    "        return out\n",
    "    \n",
    "    def __mul__(self, other):\n",
    "        out = Value(self.data * other.data, (self, other), '*')\n",
    "        def _backward():\n",
    "            self.grad = other.data * out.grad\n",
    "            other.grad = self.data * out.grad\n",
    "        out._backward = _backward\n",
    "        return out\n",
    "    \n",
    "    def tanh(self):\n",
    "        x = self.data\n",
    "        t = (math.exp(2*x) - 1)/(math.exp(2*x) + 1)\n",
    "        out = Value(t, (self, ), 'tanh')\n",
    "        def _backward():\n",
    "            self.grad = (1 - t**2) * out.grad\n",
    "        out._backward = _backward\n",
    "        return out\n",
    "    \n",
    "    def backward(self):\n",
    "        # topological order all of the children in the graph\n",
    "        topo = []\n",
    "        visited = set()\n",
    "        def build_topo(v):\n",
    "            if v not in visited:\n",
    "                visited.add(v)\n",
    "                for child in v._prev:\n",
    "                    build_topo(child)\n",
    "                topo.append(v)\n",
    "        build_topo(self)\n",
    "\n",
    "        # go one variable at a time and apply the chain rule to get its gradient\n",
    "        self.grad = 1\n",
    "        for v in reversed(topo):\n",
    "            v._backward()\n",
    "\n",
    "\n",
    "\n",
    "a = Value(2.0, label='a')\n",
    "b = Value(-3.0, label='b')\n",
    "c = Value(10.0, label='c')\n",
    "\n",
    "e = a*b; e.label = 'e'\n",
    "d = e + c; d.label = 'd'\n",
    "f = Value(2.0, label='f')\n",
    "L = d + f; L.label = 'L'\n",
    "\n",
    "d"
   ]
  },
  {
   "cell_type": "markdown",
   "metadata": {},
   "source": [
    "\n",
    "### Adding visualization\n",
    "\n",
    "For extra info check: https://graphviz.readthedocs.io/en/stable/manual.html"
   ]
  },
  {
   "cell_type": "code",
   "execution_count": 39,
   "metadata": {},
   "outputs": [],
   "source": [
    "from graphviz import Digraph\n",
    "\n",
    "def trace(root):\n",
    "    nodes, edges = set(), set()\n",
    "    def build(v):\n",
    "        if v not in nodes:\n",
    "            nodes.add(v)\n",
    "            for child in v._prev:\n",
    "                edges.add((child, v))\n",
    "                build(child)\n",
    "    build(root)\n",
    "    return nodes, edges\n",
    "\n",
    "def draw_dot(root, format='svg', rankdir='LR'):\n",
    "    \"\"\"\n",
    "    format: png | svg | ...\n",
    "    rankdir: TB (top to bottom graph) | LR (left to right)\n",
    "    \"\"\"\n",
    "    assert rankdir in ['LR', 'TB']\n",
    "    nodes, edges = trace(root)\n",
    "    dot = Digraph(format=format, graph_attr={'rankdir': rankdir}) #, node_attr={'rankdir': 'TB'})\n",
    "    \n",
    "    for n in nodes:\n",
    "        dot.node(name=str(id(n)), label = \"{ %s | data %.4f | grad %.4f }\" % (n.label, n.data, n.grad), shape='record')\n",
    "        if n._op:\n",
    "            dot.node(name=str(id(n)) + n._op, label=n._op)\n",
    "            dot.edge(str(id(n)) + n._op, str(id(n)))\n",
    "    \n",
    "    for n1, n2 in edges:\n",
    "        dot.edge(str(id(n1)), str(id(n2)) + n2._op)\n",
    "    \n",
    "    return dot"
   ]
  },
  {
   "cell_type": "code",
   "execution_count": 40,
   "metadata": {},
   "outputs": [
    {
     "data": {
      "image/svg+xml": [
       "<?xml version=\"1.0\" encoding=\"UTF-8\" standalone=\"no\"?>\n",
       "<!DOCTYPE svg PUBLIC \"-//W3C//DTD SVG 1.1//EN\"\n",
       " \"http://www.w3.org/Graphics/SVG/1.1/DTD/svg11.dtd\">\n",
       "<!-- Generated by graphviz version 2.50.0 (0)\n",
       " -->\n",
       "<!-- Pages: 1 -->\n",
       "<svg width=\"1140pt\" height=\"156pt\"\n",
       " viewBox=\"0.00 0.00 1140.00 156.00\" xmlns=\"http://www.w3.org/2000/svg\" xmlns:xlink=\"http://www.w3.org/1999/xlink\">\n",
       "<g id=\"graph0\" class=\"graph\" transform=\"scale(1 1) rotate(0) translate(4 152)\">\n",
       "<polygon fill=\"white\" stroke=\"transparent\" points=\"-4,4 -4,-152 1136,-152 1136,4 -4,4\"/>\n",
       "<!-- 2350987018784 -->\n",
       "<g id=\"node1\" class=\"node\">\n",
       "<title>2350987018784</title>\n",
       "<polygon fill=\"none\" stroke=\"black\" points=\"2.5,-111.5 2.5,-147.5 187.5,-147.5 187.5,-111.5 2.5,-111.5\"/>\n",
       "<text text-anchor=\"middle\" x=\"14\" y=\"-125.8\" font-family=\"Times New Roman,serif\" font-size=\"14.00\">a</text>\n",
       "<polyline fill=\"none\" stroke=\"black\" points=\"25.5,-111.5 25.5,-147.5 \"/>\n",
       "<text text-anchor=\"middle\" x=\"65.5\" y=\"-125.8\" font-family=\"Times New Roman,serif\" font-size=\"14.00\">data 2.0000</text>\n",
       "<polyline fill=\"none\" stroke=\"black\" points=\"105.5,-111.5 105.5,-147.5 \"/>\n",
       "<text text-anchor=\"middle\" x=\"146.5\" y=\"-125.8\" font-family=\"Times New Roman,serif\" font-size=\"14.00\">grad 0.0000</text>\n",
       "</g>\n",
       "<!-- 2351058270816* -->\n",
       "<g id=\"node5\" class=\"node\">\n",
       "<title>2351058270816*</title>\n",
       "<ellipse fill=\"none\" stroke=\"black\" cx=\"253\" cy=\"-101.5\" rx=\"27\" ry=\"18\"/>\n",
       "<text text-anchor=\"middle\" x=\"253\" y=\"-97.8\" font-family=\"Times New Roman,serif\" font-size=\"14.00\">*</text>\n",
       "</g>\n",
       "<!-- 2350987018784&#45;&gt;2351058270816* -->\n",
       "<g id=\"edge9\" class=\"edge\">\n",
       "<title>2350987018784&#45;&gt;2351058270816*</title>\n",
       "<path fill=\"none\" stroke=\"black\" d=\"M187.65,-113.05C197.94,-111.2 207.91,-109.41 216.81,-107.82\"/>\n",
       "<polygon fill=\"black\" stroke=\"black\" points=\"217.48,-111.25 226.71,-106.04 216.25,-104.36 217.48,-111.25\"/>\n",
       "</g>\n",
       "<!-- 2351058500144 -->\n",
       "<g id=\"node2\" class=\"node\">\n",
       "<title>2351058500144</title>\n",
       "<polygon fill=\"none\" stroke=\"black\" points=\"635,-0.5 635,-36.5 818,-36.5 818,-0.5 635,-0.5\"/>\n",
       "<text text-anchor=\"middle\" x=\"645.5\" y=\"-14.8\" font-family=\"Times New Roman,serif\" font-size=\"14.00\">f</text>\n",
       "<polyline fill=\"none\" stroke=\"black\" points=\"656,-0.5 656,-36.5 \"/>\n",
       "<text text-anchor=\"middle\" x=\"696\" y=\"-14.8\" font-family=\"Times New Roman,serif\" font-size=\"14.00\">data 2.0000</text>\n",
       "<polyline fill=\"none\" stroke=\"black\" points=\"736,-0.5 736,-36.5 \"/>\n",
       "<text text-anchor=\"middle\" x=\"777\" y=\"-14.8\" font-family=\"Times New Roman,serif\" font-size=\"14.00\">grad 0.0000</text>\n",
       "</g>\n",
       "<!-- 2351058499184+ -->\n",
       "<g id=\"node7\" class=\"node\">\n",
       "<title>2351058499184+</title>\n",
       "<ellipse fill=\"none\" stroke=\"black\" cx=\"882\" cy=\"-45.5\" rx=\"27\" ry=\"18\"/>\n",
       "<text text-anchor=\"middle\" x=\"882\" y=\"-41.8\" font-family=\"Times New Roman,serif\" font-size=\"14.00\">+</text>\n",
       "</g>\n",
       "<!-- 2351058500144&#45;&gt;2351058499184+ -->\n",
       "<g id=\"edge5\" class=\"edge\">\n",
       "<title>2351058500144&#45;&gt;2351058499184+</title>\n",
       "<path fill=\"none\" stroke=\"black\" d=\"M818.12,-34.44C827.8,-36.14 837.17,-37.79 845.59,-39.27\"/>\n",
       "<polygon fill=\"black\" stroke=\"black\" points=\"845.25,-42.77 855.71,-41.05 846.47,-35.87 845.25,-42.77\"/>\n",
       "</g>\n",
       "<!-- 2351058268704 -->\n",
       "<g id=\"node3\" class=\"node\">\n",
       "<title>2351058268704</title>\n",
       "<polygon fill=\"none\" stroke=\"black\" points=\"0,-56.5 0,-92.5 190,-92.5 190,-56.5 0,-56.5\"/>\n",
       "<text text-anchor=\"middle\" x=\"11.5\" y=\"-70.8\" font-family=\"Times New Roman,serif\" font-size=\"14.00\">b</text>\n",
       "<polyline fill=\"none\" stroke=\"black\" points=\"23,-56.5 23,-92.5 \"/>\n",
       "<text text-anchor=\"middle\" x=\"65.5\" y=\"-70.8\" font-family=\"Times New Roman,serif\" font-size=\"14.00\">data &#45;3.0000</text>\n",
       "<polyline fill=\"none\" stroke=\"black\" points=\"108,-56.5 108,-92.5 \"/>\n",
       "<text text-anchor=\"middle\" x=\"149\" y=\"-70.8\" font-family=\"Times New Roman,serif\" font-size=\"14.00\">grad 0.0000</text>\n",
       "</g>\n",
       "<!-- 2351058268704&#45;&gt;2351058270816* -->\n",
       "<g id=\"edge4\" class=\"edge\">\n",
       "<title>2351058268704&#45;&gt;2351058270816*</title>\n",
       "<path fill=\"none\" stroke=\"black\" d=\"M190.34,-90.83C199.62,-92.44 208.58,-93.99 216.66,-95.38\"/>\n",
       "<polygon fill=\"black\" stroke=\"black\" points=\"216.27,-98.87 226.72,-97.12 217.46,-91.97 216.27,-98.87\"/>\n",
       "</g>\n",
       "<!-- 2351058270816 -->\n",
       "<g id=\"node4\" class=\"node\">\n",
       "<title>2351058270816</title>\n",
       "<polygon fill=\"none\" stroke=\"black\" points=\"317,-83.5 317,-119.5 507,-119.5 507,-83.5 317,-83.5\"/>\n",
       "<text text-anchor=\"middle\" x=\"328.5\" y=\"-97.8\" font-family=\"Times New Roman,serif\" font-size=\"14.00\">e</text>\n",
       "<polyline fill=\"none\" stroke=\"black\" points=\"340,-83.5 340,-119.5 \"/>\n",
       "<text text-anchor=\"middle\" x=\"382.5\" y=\"-97.8\" font-family=\"Times New Roman,serif\" font-size=\"14.00\">data &#45;6.0000</text>\n",
       "<polyline fill=\"none\" stroke=\"black\" points=\"425,-83.5 425,-119.5 \"/>\n",
       "<text text-anchor=\"middle\" x=\"466\" y=\"-97.8\" font-family=\"Times New Roman,serif\" font-size=\"14.00\">grad 0.0000</text>\n",
       "</g>\n",
       "<!-- 2351058499568+ -->\n",
       "<g id=\"node10\" class=\"node\">\n",
       "<title>2351058499568+</title>\n",
       "<ellipse fill=\"none\" stroke=\"black\" cx=\"571\" cy=\"-73.5\" rx=\"27\" ry=\"18\"/>\n",
       "<text text-anchor=\"middle\" x=\"571\" y=\"-69.8\" font-family=\"Times New Roman,serif\" font-size=\"14.00\">+</text>\n",
       "</g>\n",
       "<!-- 2351058270816&#45;&gt;2351058499568+ -->\n",
       "<g id=\"edge6\" class=\"edge\">\n",
       "<title>2351058270816&#45;&gt;2351058499568+</title>\n",
       "<path fill=\"none\" stroke=\"black\" d=\"M507.05,-84.73C516.89,-82.97 526.39,-81.28 534.9,-79.76\"/>\n",
       "<polygon fill=\"black\" stroke=\"black\" points=\"535.52,-83.2 544.75,-78 534.29,-76.31 535.52,-83.2\"/>\n",
       "</g>\n",
       "<!-- 2351058270816*&#45;&gt;2351058270816 -->\n",
       "<g id=\"edge1\" class=\"edge\">\n",
       "<title>2351058270816*&#45;&gt;2351058270816</title>\n",
       "<path fill=\"none\" stroke=\"black\" d=\"M280.28,-101.5C288.05,-101.5 297.08,-101.5 306.68,-101.5\"/>\n",
       "<polygon fill=\"black\" stroke=\"black\" points=\"306.88,-105 316.88,-101.5 306.88,-98 306.88,-105\"/>\n",
       "</g>\n",
       "<!-- 2351058499184 -->\n",
       "<g id=\"node6\" class=\"node\">\n",
       "<title>2351058499184</title>\n",
       "<polygon fill=\"none\" stroke=\"black\" points=\"945,-27.5 945,-63.5 1132,-63.5 1132,-27.5 945,-27.5\"/>\n",
       "<text text-anchor=\"middle\" x=\"957.5\" y=\"-41.8\" font-family=\"Times New Roman,serif\" font-size=\"14.00\">L</text>\n",
       "<polyline fill=\"none\" stroke=\"black\" points=\"970,-27.5 970,-63.5 \"/>\n",
       "<text text-anchor=\"middle\" x=\"1010\" y=\"-41.8\" font-family=\"Times New Roman,serif\" font-size=\"14.00\">data 6.0000</text>\n",
       "<polyline fill=\"none\" stroke=\"black\" points=\"1050,-27.5 1050,-63.5 \"/>\n",
       "<text text-anchor=\"middle\" x=\"1091\" y=\"-41.8\" font-family=\"Times New Roman,serif\" font-size=\"14.00\">grad 0.0000</text>\n",
       "</g>\n",
       "<!-- 2351058499184+&#45;&gt;2351058499184 -->\n",
       "<g id=\"edge2\" class=\"edge\">\n",
       "<title>2351058499184+&#45;&gt;2351058499184</title>\n",
       "<path fill=\"none\" stroke=\"black\" d=\"M909.21,-45.5C916.73,-45.5 925.43,-45.5 934.67,-45.5\"/>\n",
       "<polygon fill=\"black\" stroke=\"black\" points=\"934.89,-49 944.89,-45.5 934.89,-42 934.89,-49\"/>\n",
       "</g>\n",
       "<!-- 2351058270672 -->\n",
       "<g id=\"node8\" class=\"node\">\n",
       "<title>2351058270672</title>\n",
       "<polygon fill=\"none\" stroke=\"black\" points=\"316,-28.5 316,-64.5 508,-64.5 508,-28.5 316,-28.5\"/>\n",
       "<text text-anchor=\"middle\" x=\"327.5\" y=\"-42.8\" font-family=\"Times New Roman,serif\" font-size=\"14.00\">c</text>\n",
       "<polyline fill=\"none\" stroke=\"black\" points=\"339,-28.5 339,-64.5 \"/>\n",
       "<text text-anchor=\"middle\" x=\"382.5\" y=\"-42.8\" font-family=\"Times New Roman,serif\" font-size=\"14.00\">data 10.0000</text>\n",
       "<polyline fill=\"none\" stroke=\"black\" points=\"426,-28.5 426,-64.5 \"/>\n",
       "<text text-anchor=\"middle\" x=\"467\" y=\"-42.8\" font-family=\"Times New Roman,serif\" font-size=\"14.00\">grad 0.0000</text>\n",
       "</g>\n",
       "<!-- 2351058270672&#45;&gt;2351058499568+ -->\n",
       "<g id=\"edge8\" class=\"edge\">\n",
       "<title>2351058270672&#45;&gt;2351058499568+</title>\n",
       "<path fill=\"none\" stroke=\"black\" d=\"M508.4,-62.91C517.69,-64.5 526.64,-66.04 534.71,-67.43\"/>\n",
       "<polygon fill=\"black\" stroke=\"black\" points=\"534.32,-70.91 544.76,-69.16 535.5,-64.02 534.32,-70.91\"/>\n",
       "</g>\n",
       "<!-- 2351058499568 -->\n",
       "<g id=\"node9\" class=\"node\">\n",
       "<title>2351058499568</title>\n",
       "<polygon fill=\"none\" stroke=\"black\" points=\"634,-55.5 634,-91.5 819,-91.5 819,-55.5 634,-55.5\"/>\n",
       "<text text-anchor=\"middle\" x=\"645.5\" y=\"-69.8\" font-family=\"Times New Roman,serif\" font-size=\"14.00\">d</text>\n",
       "<polyline fill=\"none\" stroke=\"black\" points=\"657,-55.5 657,-91.5 \"/>\n",
       "<text text-anchor=\"middle\" x=\"697\" y=\"-69.8\" font-family=\"Times New Roman,serif\" font-size=\"14.00\">data 4.0000</text>\n",
       "<polyline fill=\"none\" stroke=\"black\" points=\"737,-55.5 737,-91.5 \"/>\n",
       "<text text-anchor=\"middle\" x=\"778\" y=\"-69.8\" font-family=\"Times New Roman,serif\" font-size=\"14.00\">grad 0.0000</text>\n",
       "</g>\n",
       "<!-- 2351058499568&#45;&gt;2351058499184+ -->\n",
       "<g id=\"edge7\" class=\"edge\">\n",
       "<title>2351058499568&#45;&gt;2351058499184+</title>\n",
       "<path fill=\"none\" stroke=\"black\" d=\"M819.01,-56.81C828.49,-55.08 837.66,-53.41 845.9,-51.9\"/>\n",
       "<polygon fill=\"black\" stroke=\"black\" points=\"846.6,-55.33 855.81,-50.09 845.35,-48.45 846.6,-55.33\"/>\n",
       "</g>\n",
       "<!-- 2351058499568+&#45;&gt;2351058499568 -->\n",
       "<g id=\"edge3\" class=\"edge\">\n",
       "<title>2351058499568+&#45;&gt;2351058499568</title>\n",
       "<path fill=\"none\" stroke=\"black\" d=\"M598.04,-73.5C605.58,-73.5 614.3,-73.5 623.57,-73.5\"/>\n",
       "<polygon fill=\"black\" stroke=\"black\" points=\"623.81,-77 633.81,-73.5 623.81,-70 623.81,-77\"/>\n",
       "</g>\n",
       "</g>\n",
       "</svg>\n"
      ],
      "text/plain": [
       "<graphviz.graphs.Digraph at 0x22361a78160>"
      ]
     },
     "execution_count": 40,
     "metadata": {},
     "output_type": "execute_result"
    }
   ],
   "source": [
    "draw_dot(L)"
   ]
  },
  {
   "cell_type": "markdown",
   "metadata": {},
   "source": [
    "### Graphical visualization of tanh"
   ]
  },
  {
   "cell_type": "code",
   "execution_count": 42,
   "metadata": {},
   "outputs": [
    {
     "data": {
      "image/png": "[encoded data removed]",
      "text/plain": [
       "<Figure size 640x480 with 1 Axes>"
      ]
     },
     "metadata": {},
     "output_type": "display_data"
    }
   ],
   "source": [
    "plt.plot(np.arange(-5,5,0.2), np.tanh(np.arange(-5,5,0.2))); plt.grid()"
   ]
  },
  {
   "cell_type": "markdown",
   "metadata": {},
   "source": [
    "### Crating a neuron"
   ]
  },
  {
   "cell_type": "code",
   "execution_count": 80,
   "metadata": {},
   "outputs": [],
   "source": [
    "# inputs x1, x2\n",
    "# weights w1, w2\n",
    "# bias b\n",
    "\n",
    "x1 = Value(2.0, label='x1')\n",
    "x2 = Value(0.0, label='x2')\n",
    "w1 = Value(-3.0, label='w1')\n",
    "w2 = Value(1.0, label='w2')\n",
    "b = Value(6.8813735, label='b')\n",
    "\n",
    "# compute sinapses\n",
    "\n",
    "x1w1 = x1*w1; x1w1.label= 'x1*w1'\n",
    "x2w2 = x2*w2; x2w2.label= 'x2*w2'\n",
    "x1w1x2w2 = x1w1 + x2w2; x1w1x2w2.label = 'x1w1 + x2w2'\n",
    "\n",
    "n = x1w1x2w2 +b; n.label = 'n' # cell body without activation\n",
    "\n",
    "o = n.tanh(); o.label = 'o'\n",
    "\n",
    "\n",
    "\n",
    "\n",
    "\n"
   ]
  },
  {
   "cell_type": "code",
   "execution_count": 83,
   "metadata": {},
   "outputs": [
    {
     "data": {
      "image/svg+xml": [
       "<?xml version=\"1.0\" encoding=\"UTF-8\" standalone=\"no\"?>\n",
       "<!DOCTYPE svg PUBLIC \"-//W3C//DTD SVG 1.1//EN\"\n",
       " \"http://www.w3.org/Graphics/SVG/1.1/DTD/svg11.dtd\">\n",
       "<!-- Generated by graphviz version 2.50.0 (0)\n",
       " -->\n",
       "<!-- Pages: 1 -->\n",
       "<svg width=\"1561pt\" height=\"210pt\"\n",
       " viewBox=\"0.00 0.00 1561.00 210.00\" xmlns=\"http://www.w3.org/2000/svg\" xmlns:xlink=\"http://www.w3.org/1999/xlink\">\n",
       "<g id=\"graph0\" class=\"graph\" transform=\"scale(1 1) rotate(0) translate(4 206)\">\n",
       "<polygon fill=\"white\" stroke=\"transparent\" points=\"-4,4 -4,-206 1557,-206 1557,4 -4,4\"/>\n",
       "<!-- 2351077570640 -->\n",
       "<g id=\"node1\" class=\"node\">\n",
       "<title>2351077570640</title>\n",
       "<polygon fill=\"none\" stroke=\"black\" points=\"672,-82.5 672,-118.5 931,-118.5 931,-82.5 672,-82.5\"/>\n",
       "<text text-anchor=\"middle\" x=\"718\" y=\"-96.8\" font-family=\"Times New Roman,serif\" font-size=\"14.00\">x1w1 + x2w2</text>\n",
       "<polyline fill=\"none\" stroke=\"black\" points=\"764,-82.5 764,-118.5 \"/>\n",
       "<text text-anchor=\"middle\" x=\"806.5\" y=\"-96.8\" font-family=\"Times New Roman,serif\" font-size=\"14.00\">data &#45;6.0000</text>\n",
       "<polyline fill=\"none\" stroke=\"black\" points=\"849,-82.5 849,-118.5 \"/>\n",
       "<text text-anchor=\"middle\" x=\"890\" y=\"-96.8\" font-family=\"Times New Roman,serif\" font-size=\"14.00\">grad 0.5000</text>\n",
       "</g>\n",
       "<!-- 2351077569824+ -->\n",
       "<g id=\"node7\" class=\"node\">\n",
       "<title>2351077569824+</title>\n",
       "<ellipse fill=\"none\" stroke=\"black\" cx=\"994\" cy=\"-127.5\" rx=\"27\" ry=\"18\"/>\n",
       "<text text-anchor=\"middle\" x=\"994\" y=\"-123.8\" font-family=\"Times New Roman,serif\" font-size=\"14.00\">+</text>\n",
       "</g>\n",
       "<!-- 2351077570640&#45;&gt;2351077569824+ -->\n",
       "<g id=\"edge13\" class=\"edge\">\n",
       "<title>2351077570640&#45;&gt;2351077569824+</title>\n",
       "<path fill=\"none\" stroke=\"black\" d=\"M929.57,-118.51C939.55,-119.92 949,-121.26 957.42,-122.46\"/>\n",
       "<polygon fill=\"black\" stroke=\"black\" points=\"957.09,-125.95 967.48,-123.88 958.07,-119.01 957.09,-125.95\"/>\n",
       "</g>\n",
       "<!-- 2351077570640+ -->\n",
       "<g id=\"node2\" class=\"node\">\n",
       "<title>2351077570640+</title>\n",
       "<ellipse fill=\"none\" stroke=\"black\" cx=\"609\" cy=\"-100.5\" rx=\"27\" ry=\"18\"/>\n",
       "<text text-anchor=\"middle\" x=\"609\" y=\"-96.8\" font-family=\"Times New Roman,serif\" font-size=\"14.00\">+</text>\n",
       "</g>\n",
       "<!-- 2351077570640+&#45;&gt;2351077570640 -->\n",
       "<g id=\"edge1\" class=\"edge\">\n",
       "<title>2351077570640+&#45;&gt;2351077570640</title>\n",
       "<path fill=\"none\" stroke=\"black\" d=\"M636.09,-100.5C643.58,-100.5 652.3,-100.5 661.75,-100.5\"/>\n",
       "<polygon fill=\"black\" stroke=\"black\" points=\"661.84,-104 671.84,-100.5 661.84,-97 661.84,-104\"/>\n",
       "</g>\n",
       "<!-- 2351059495040 -->\n",
       "<g id=\"node3\" class=\"node\">\n",
       "<title>2351059495040</title>\n",
       "<polygon fill=\"none\" stroke=\"black\" points=\"2,-165.5 2,-201.5 198,-201.5 198,-165.5 2,-165.5\"/>\n",
       "<text text-anchor=\"middle\" x=\"17\" y=\"-179.8\" font-family=\"Times New Roman,serif\" font-size=\"14.00\">x1</text>\n",
       "<polyline fill=\"none\" stroke=\"black\" points=\"32,-165.5 32,-201.5 \"/>\n",
       "<text text-anchor=\"middle\" x=\"72\" y=\"-179.8\" font-family=\"Times New Roman,serif\" font-size=\"14.00\">data 2.0000</text>\n",
       "<polyline fill=\"none\" stroke=\"black\" points=\"112,-165.5 112,-201.5 \"/>\n",
       "<text text-anchor=\"middle\" x=\"155\" y=\"-179.8\" font-family=\"Times New Roman,serif\" font-size=\"14.00\">grad &#45;1.5000</text>\n",
       "</g>\n",
       "<!-- 2351059496768* -->\n",
       "<g id=\"node11\" class=\"node\">\n",
       "<title>2351059496768*</title>\n",
       "<ellipse fill=\"none\" stroke=\"black\" cx=\"263\" cy=\"-128.5\" rx=\"27\" ry=\"18\"/>\n",
       "<text text-anchor=\"middle\" x=\"263\" y=\"-124.8\" font-family=\"Times New Roman,serif\" font-size=\"14.00\">*</text>\n",
       "</g>\n",
       "<!-- 2351059495040&#45;&gt;2351059496768* -->\n",
       "<g id=\"edge7\" class=\"edge\">\n",
       "<title>2351059495040&#45;&gt;2351059496768*</title>\n",
       "<path fill=\"none\" stroke=\"black\" d=\"M172.53,-165.44C181.84,-162.67 191.2,-159.67 200,-156.5 210.53,-152.71 221.75,-147.9 231.72,-143.33\"/>\n",
       "<polygon fill=\"black\" stroke=\"black\" points=\"233.25,-146.48 240.82,-139.07 230.28,-140.14 233.25,-146.48\"/>\n",
       "</g>\n",
       "<!-- 2351059496624 -->\n",
       "<g id=\"node4\" class=\"node\">\n",
       "<title>2351059496624</title>\n",
       "<polygon fill=\"none\" stroke=\"black\" points=\"709,-137.5 709,-173.5 894,-173.5 894,-137.5 709,-137.5\"/>\n",
       "<text text-anchor=\"middle\" x=\"720.5\" y=\"-151.8\" font-family=\"Times New Roman,serif\" font-size=\"14.00\">b</text>\n",
       "<polyline fill=\"none\" stroke=\"black\" points=\"732,-137.5 732,-173.5 \"/>\n",
       "<text text-anchor=\"middle\" x=\"772\" y=\"-151.8\" font-family=\"Times New Roman,serif\" font-size=\"14.00\">data 6.8814</text>\n",
       "<polyline fill=\"none\" stroke=\"black\" points=\"812,-137.5 812,-173.5 \"/>\n",
       "<text text-anchor=\"middle\" x=\"853\" y=\"-151.8\" font-family=\"Times New Roman,serif\" font-size=\"14.00\">grad 0.5000</text>\n",
       "</g>\n",
       "<!-- 2351059496624&#45;&gt;2351077569824+ -->\n",
       "<g id=\"edge11\" class=\"edge\">\n",
       "<title>2351059496624&#45;&gt;2351077569824+</title>\n",
       "<path fill=\"none\" stroke=\"black\" d=\"M894.12,-142.03C916.59,-138.73 939.33,-135.39 957.33,-132.74\"/>\n",
       "<polygon fill=\"black\" stroke=\"black\" points=\"957.96,-136.19 967.34,-131.27 956.94,-129.26 957.96,-136.19\"/>\n",
       "</g>\n",
       "<!-- 2351059494656 -->\n",
       "<g id=\"node5\" class=\"node\">\n",
       "<title>2351059494656</title>\n",
       "<polygon fill=\"none\" stroke=\"black\" points=\"4,-55.5 4,-91.5 196,-91.5 196,-55.5 4,-55.5\"/>\n",
       "<text text-anchor=\"middle\" x=\"19\" y=\"-69.8\" font-family=\"Times New Roman,serif\" font-size=\"14.00\">x2</text>\n",
       "<polyline fill=\"none\" stroke=\"black\" points=\"34,-55.5 34,-91.5 \"/>\n",
       "<text text-anchor=\"middle\" x=\"74\" y=\"-69.8\" font-family=\"Times New Roman,serif\" font-size=\"14.00\">data 0.0000</text>\n",
       "<polyline fill=\"none\" stroke=\"black\" points=\"114,-55.5 114,-91.5 \"/>\n",
       "<text text-anchor=\"middle\" x=\"155\" y=\"-69.8\" font-family=\"Times New Roman,serif\" font-size=\"14.00\">grad 0.5000</text>\n",
       "</g>\n",
       "<!-- 2351077571408* -->\n",
       "<g id=\"node13\" class=\"node\">\n",
       "<title>2351077571408*</title>\n",
       "<ellipse fill=\"none\" stroke=\"black\" cx=\"263\" cy=\"-73.5\" rx=\"27\" ry=\"18\"/>\n",
       "<text text-anchor=\"middle\" x=\"263\" y=\"-69.8\" font-family=\"Times New Roman,serif\" font-size=\"14.00\">*</text>\n",
       "</g>\n",
       "<!-- 2351059494656&#45;&gt;2351077571408* -->\n",
       "<g id=\"edge9\" class=\"edge\">\n",
       "<title>2351059494656&#45;&gt;2351077571408*</title>\n",
       "<path fill=\"none\" stroke=\"black\" d=\"M196.05,-73.5C206.52,-73.5 216.65,-73.5 225.71,-73.5\"/>\n",
       "<polygon fill=\"black\" stroke=\"black\" points=\"225.79,-77 235.79,-73.5 225.79,-70 225.79,-77\"/>\n",
       "</g>\n",
       "<!-- 2351077569824 -->\n",
       "<g id=\"node6\" class=\"node\">\n",
       "<title>2351077569824</title>\n",
       "<polygon fill=\"none\" stroke=\"black\" points=\"1057,-109.5 1057,-145.5 1242,-145.5 1242,-109.5 1057,-109.5\"/>\n",
       "<text text-anchor=\"middle\" x=\"1068.5\" y=\"-123.8\" font-family=\"Times New Roman,serif\" font-size=\"14.00\">n</text>\n",
       "<polyline fill=\"none\" stroke=\"black\" points=\"1080,-109.5 1080,-145.5 \"/>\n",
       "<text text-anchor=\"middle\" x=\"1120\" y=\"-123.8\" font-family=\"Times New Roman,serif\" font-size=\"14.00\">data 0.8814</text>\n",
       "<polyline fill=\"none\" stroke=\"black\" points=\"1160,-109.5 1160,-145.5 \"/>\n",
       "<text text-anchor=\"middle\" x=\"1201\" y=\"-123.8\" font-family=\"Times New Roman,serif\" font-size=\"14.00\">grad 0.5000</text>\n",
       "</g>\n",
       "<!-- 2351077571888tanh -->\n",
       "<g id=\"node9\" class=\"node\">\n",
       "<title>2351077571888tanh</title>\n",
       "<ellipse fill=\"none\" stroke=\"black\" cx=\"1305\" cy=\"-127.5\" rx=\"27\" ry=\"18\"/>\n",
       "<text text-anchor=\"middle\" x=\"1305\" y=\"-123.8\" font-family=\"Times New Roman,serif\" font-size=\"14.00\">tanh</text>\n",
       "</g>\n",
       "<!-- 2351077569824&#45;&gt;2351077571888tanh -->\n",
       "<g id=\"edge14\" class=\"edge\">\n",
       "<title>2351077569824&#45;&gt;2351077571888tanh</title>\n",
       "<path fill=\"none\" stroke=\"black\" d=\"M1242.01,-127.5C1251.01,-127.5 1259.74,-127.5 1267.66,-127.5\"/>\n",
       "<polygon fill=\"black\" stroke=\"black\" points=\"1267.91,-131 1277.91,-127.5 1267.91,-124 1267.91,-131\"/>\n",
       "</g>\n",
       "<!-- 2351077569824+&#45;&gt;2351077569824 -->\n",
       "<g id=\"edge2\" class=\"edge\">\n",
       "<title>2351077569824+&#45;&gt;2351077569824</title>\n",
       "<path fill=\"none\" stroke=\"black\" d=\"M1021.04,-127.5C1028.58,-127.5 1037.3,-127.5 1046.57,-127.5\"/>\n",
       "<polygon fill=\"black\" stroke=\"black\" points=\"1046.81,-131 1056.81,-127.5 1046.81,-124 1046.81,-131\"/>\n",
       "</g>\n",
       "<!-- 2351077571888 -->\n",
       "<g id=\"node8\" class=\"node\">\n",
       "<title>2351077571888</title>\n",
       "<polygon fill=\"none\" stroke=\"black\" points=\"1368,-109.5 1368,-145.5 1553,-145.5 1553,-109.5 1368,-109.5\"/>\n",
       "<text text-anchor=\"middle\" x=\"1379.5\" y=\"-123.8\" font-family=\"Times New Roman,serif\" font-size=\"14.00\">o</text>\n",
       "<polyline fill=\"none\" stroke=\"black\" points=\"1391,-109.5 1391,-145.5 \"/>\n",
       "<text text-anchor=\"middle\" x=\"1431\" y=\"-123.8\" font-family=\"Times New Roman,serif\" font-size=\"14.00\">data 0.7071</text>\n",
       "<polyline fill=\"none\" stroke=\"black\" points=\"1471,-109.5 1471,-145.5 \"/>\n",
       "<text text-anchor=\"middle\" x=\"1512\" y=\"-123.8\" font-family=\"Times New Roman,serif\" font-size=\"14.00\">grad 1.0000</text>\n",
       "</g>\n",
       "<!-- 2351077571888tanh&#45;&gt;2351077571888 -->\n",
       "<g id=\"edge3\" class=\"edge\">\n",
       "<title>2351077571888tanh&#45;&gt;2351077571888</title>\n",
       "<path fill=\"none\" stroke=\"black\" d=\"M1332.04,-127.5C1339.58,-127.5 1348.3,-127.5 1357.57,-127.5\"/>\n",
       "<polygon fill=\"black\" stroke=\"black\" points=\"1357.81,-131 1367.81,-127.5 1357.81,-124 1357.81,-131\"/>\n",
       "</g>\n",
       "<!-- 2351059496768 -->\n",
       "<g id=\"node10\" class=\"node\">\n",
       "<title>2351059496768</title>\n",
       "<polygon fill=\"none\" stroke=\"black\" points=\"326,-110.5 326,-146.5 546,-146.5 546,-110.5 326,-110.5\"/>\n",
       "<text text-anchor=\"middle\" x=\"352.5\" y=\"-124.8\" font-family=\"Times New Roman,serif\" font-size=\"14.00\">x1*w1</text>\n",
       "<polyline fill=\"none\" stroke=\"black\" points=\"379,-110.5 379,-146.5 \"/>\n",
       "<text text-anchor=\"middle\" x=\"421.5\" y=\"-124.8\" font-family=\"Times New Roman,serif\" font-size=\"14.00\">data &#45;6.0000</text>\n",
       "<polyline fill=\"none\" stroke=\"black\" points=\"464,-110.5 464,-146.5 \"/>\n",
       "<text text-anchor=\"middle\" x=\"505\" y=\"-124.8\" font-family=\"Times New Roman,serif\" font-size=\"14.00\">grad 0.5000</text>\n",
       "</g>\n",
       "<!-- 2351059496768&#45;&gt;2351077570640+ -->\n",
       "<g id=\"edge12\" class=\"edge\">\n",
       "<title>2351059496768&#45;&gt;2351077570640+</title>\n",
       "<path fill=\"none\" stroke=\"black\" d=\"M546.27,-110.61C555.64,-109.07 564.6,-107.61 572.65,-106.29\"/>\n",
       "<polygon fill=\"black\" stroke=\"black\" points=\"573.35,-109.72 582.65,-104.65 572.22,-102.81 573.35,-109.72\"/>\n",
       "</g>\n",
       "<!-- 2351059496768*&#45;&gt;2351059496768 -->\n",
       "<g id=\"edge4\" class=\"edge\">\n",
       "<title>2351059496768*&#45;&gt;2351059496768</title>\n",
       "<path fill=\"none\" stroke=\"black\" d=\"M290.34,-128.5C297.77,-128.5 306.37,-128.5 315.6,-128.5\"/>\n",
       "<polygon fill=\"black\" stroke=\"black\" points=\"315.84,-132 325.84,-128.5 315.84,-125 315.84,-132\"/>\n",
       "</g>\n",
       "<!-- 2351077571408 -->\n",
       "<g id=\"node12\" class=\"node\">\n",
       "<title>2351077571408</title>\n",
       "<polygon fill=\"none\" stroke=\"black\" points=\"328.5,-55.5 328.5,-91.5 543.5,-91.5 543.5,-55.5 328.5,-55.5\"/>\n",
       "<text text-anchor=\"middle\" x=\"355\" y=\"-69.8\" font-family=\"Times New Roman,serif\" font-size=\"14.00\">x2*w2</text>\n",
       "<polyline fill=\"none\" stroke=\"black\" points=\"381.5,-55.5 381.5,-91.5 \"/>\n",
       "<text text-anchor=\"middle\" x=\"421.5\" y=\"-69.8\" font-family=\"Times New Roman,serif\" font-size=\"14.00\">data 0.0000</text>\n",
       "<polyline fill=\"none\" stroke=\"black\" points=\"461.5,-55.5 461.5,-91.5 \"/>\n",
       "<text text-anchor=\"middle\" x=\"502.5\" y=\"-69.8\" font-family=\"Times New Roman,serif\" font-size=\"14.00\">grad 0.5000</text>\n",
       "</g>\n",
       "<!-- 2351077571408&#45;&gt;2351077570640+ -->\n",
       "<g id=\"edge8\" class=\"edge\">\n",
       "<title>2351077571408&#45;&gt;2351077570640+</title>\n",
       "<path fill=\"none\" stroke=\"black\" d=\"M543.84,-90.37C554.01,-91.98 563.76,-93.51 572.44,-94.89\"/>\n",
       "<polygon fill=\"black\" stroke=\"black\" points=\"572.05,-98.37 582.47,-96.47 573.14,-91.45 572.05,-98.37\"/>\n",
       "</g>\n",
       "<!-- 2351077571408*&#45;&gt;2351077571408 -->\n",
       "<g id=\"edge5\" class=\"edge\">\n",
       "<title>2351077571408*&#45;&gt;2351077571408</title>\n",
       "<path fill=\"none\" stroke=\"black\" d=\"M290.34,-73.5C298.51,-73.5 308.08,-73.5 318.36,-73.5\"/>\n",
       "<polygon fill=\"black\" stroke=\"black\" points=\"318.39,-77 328.39,-73.5 318.39,-70 318.39,-77\"/>\n",
       "</g>\n",
       "<!-- 2351059494800 -->\n",
       "<g id=\"node14\" class=\"node\">\n",
       "<title>2351059494800</title>\n",
       "<polygon fill=\"none\" stroke=\"black\" points=\"2.5,-0.5 2.5,-36.5 197.5,-36.5 197.5,-0.5 2.5,-0.5\"/>\n",
       "<text text-anchor=\"middle\" x=\"19\" y=\"-14.8\" font-family=\"Times New Roman,serif\" font-size=\"14.00\">w2</text>\n",
       "<polyline fill=\"none\" stroke=\"black\" points=\"35.5,-0.5 35.5,-36.5 \"/>\n",
       "<text text-anchor=\"middle\" x=\"75.5\" y=\"-14.8\" font-family=\"Times New Roman,serif\" font-size=\"14.00\">data 1.0000</text>\n",
       "<polyline fill=\"none\" stroke=\"black\" points=\"115.5,-0.5 115.5,-36.5 \"/>\n",
       "<text text-anchor=\"middle\" x=\"156.5\" y=\"-14.8\" font-family=\"Times New Roman,serif\" font-size=\"14.00\">grad 0.0000</text>\n",
       "</g>\n",
       "<!-- 2351059494800&#45;&gt;2351077571408* -->\n",
       "<g id=\"edge10\" class=\"edge\">\n",
       "<title>2351059494800&#45;&gt;2351077571408*</title>\n",
       "<path fill=\"none\" stroke=\"black\" d=\"M169.28,-36.5C179.65,-39.61 190.16,-42.98 200,-46.5 210.28,-50.17 221.28,-54.74 231.11,-59.07\"/>\n",
       "<polygon fill=\"black\" stroke=\"black\" points=\"229.93,-62.37 240.48,-63.27 232.79,-55.99 229.93,-62.37\"/>\n",
       "</g>\n",
       "<!-- 2351059494320 -->\n",
       "<g id=\"node15\" class=\"node\">\n",
       "<title>2351059494320</title>\n",
       "<polygon fill=\"none\" stroke=\"black\" points=\"0,-110.5 0,-146.5 200,-146.5 200,-110.5 0,-110.5\"/>\n",
       "<text text-anchor=\"middle\" x=\"16.5\" y=\"-124.8\" font-family=\"Times New Roman,serif\" font-size=\"14.00\">w1</text>\n",
       "<polyline fill=\"none\" stroke=\"black\" points=\"33,-110.5 33,-146.5 \"/>\n",
       "<text text-anchor=\"middle\" x=\"75.5\" y=\"-124.8\" font-family=\"Times New Roman,serif\" font-size=\"14.00\">data &#45;3.0000</text>\n",
       "<polyline fill=\"none\" stroke=\"black\" points=\"118,-110.5 118,-146.5 \"/>\n",
       "<text text-anchor=\"middle\" x=\"159\" y=\"-124.8\" font-family=\"Times New Roman,serif\" font-size=\"14.00\">grad 1.0000</text>\n",
       "</g>\n",
       "<!-- 2351059494320&#45;&gt;2351059496768* -->\n",
       "<g id=\"edge6\" class=\"edge\">\n",
       "<title>2351059494320&#45;&gt;2351059496768*</title>\n",
       "<path fill=\"none\" stroke=\"black\" d=\"M200.21,-128.5C209.2,-128.5 217.86,-128.5 225.7,-128.5\"/>\n",
       "<polygon fill=\"black\" stroke=\"black\" points=\"225.85,-132 235.85,-128.5 225.85,-125 225.85,-132\"/>\n",
       "</g>\n",
       "</g>\n",
       "</svg>\n"
      ],
      "text/plain": [
       "<graphviz.graphs.Digraph at 0x22367245190>"
      ]
     },
     "execution_count": 83,
     "metadata": {},
     "output_type": "execute_result"
    }
   ],
   "source": [
    "draw_dot(o)"
   ]
  },
  {
   "cell_type": "code",
   "execution_count": 82,
   "metadata": {},
   "outputs": [],
   "source": [
    "o.backward()"
   ]
  },
  {
   "cell_type": "code",
   "execution_count": 75,
   "metadata": {},
   "outputs": [],
   "source": [
    "o.grad = 1.0"
   ]
  },
  {
   "cell_type": "code",
   "execution_count": 76,
   "metadata": {},
   "outputs": [],
   "source": [
    "o._backward()"
   ]
  },
  {
   "cell_type": "code",
   "execution_count": 77,
   "metadata": {},
   "outputs": [],
   "source": [
    "n._backward()"
   ]
  }
 ],
 "metadata": {
  "kernelspec": {
   "display_name": "base",
   "language": "python",
   "name": "python3"
  },
  "language_info": {
   "codemirror_mode": {
    "name": "ipython",
    "version": 3
   },
   "file_extension": ".py",
   "mimetype": "text/x-python",
   "name": "python",
   "nbconvert_exporter": "python",
   "pygments_lexer": "ipython3",
   "version": "3.9.18"
  }
 },
 "nbformat": 4,
 "nbformat_minor": 2
}
